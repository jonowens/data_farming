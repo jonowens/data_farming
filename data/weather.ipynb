{
 "metadata": {
  "language_info": {
   "codemirror_mode": {
    "name": "ipython",
    "version": 3
   },
   "file_extension": ".py",
   "mimetype": "text/x-python",
   "name": "python",
   "nbconvert_exporter": "python",
   "pygments_lexer": "ipython3",
   "version": "3.8.5-final"
  },
  "orig_nbformat": 2,
  "kernelspec": {
   "name": "Python 3.8.5 64-bit ('base': conda)",
   "display_name": "Python 3.8.5 64-bit ('base': conda)",
   "metadata": {
    "interpreter": {
     "hash": "600c25c12856a842ab64bd468beca1647a20977f2accb2696f130eafa2c53eb8"
    }
   }
  }
 },
 "nbformat": 4,
 "nbformat_minor": 2,
 "cells": [
  {
   "source": [
    "# Data Extraction, Cleaning and Compilation\n",
    "\n",
    "Performed by Jonthan Owens\n",
    "\n",
    "- The following is performed in three parts:\n",
    "    1. Data extraction of weather information from weather_daily.csv and assess data\n",
    "        \n",
    "        Source: Applied Climate Information System (ACIS), NOAA Regional Climate Centers (RCCs)\n",
    "        \n",
    "    2. Cleaning of data\n",
    "\n",
    "    3. Compiliation into a clean data file, weather_daily_clean.csv.\n"
   ],
   "cell_type": "markdown",
   "metadata": {}
  },
  {
   "cell_type": "code",
   "execution_count": 1,
   "metadata": {},
   "outputs": [],
   "source": [
    "# Import necessary libraries\n",
    "from pathlib import Path\n",
    "import csv\n",
    "import pandas as pd\n"
   ]
  },
  {
   "source": [
    "## 1. Data Extraction of Weather Information and Assessment\n"
   ],
   "cell_type": "markdown",
   "metadata": {}
  },
  {
   "cell_type": "code",
   "execution_count": 2,
   "metadata": {},
   "outputs": [
    {
     "output_type": "execute_result",
     "data": {
      "text/plain": [
       "                OMAHA EPPLEY AIRFIELD\n",
       "2000-10-26 T                     62.0\n",
       "2000-10-27 0.00                  54.5\n",
       "2000-10-28 T                     56.5\n",
       "2000-10-29 0.68                  56.5\n",
       "2000-10-30 0.00                  60.0"
      ],
      "text/html": "<div>\n<style scoped>\n    .dataframe tbody tr th:only-of-type {\n        vertical-align: middle;\n    }\n\n    .dataframe tbody tr th {\n        vertical-align: top;\n    }\n\n    .dataframe thead th {\n        text-align: right;\n    }\n</style>\n<table border=\"1\" class=\"dataframe\">\n  <thead>\n    <tr style=\"text-align: right;\">\n      <th></th>\n      <th></th>\n      <th>OMAHA EPPLEY AIRFIELD</th>\n    </tr>\n  </thead>\n  <tbody>\n    <tr>\n      <th>2000-10-26</th>\n      <th>T</th>\n      <td>62.0</td>\n    </tr>\n    <tr>\n      <th>2000-10-27</th>\n      <th>0.00</th>\n      <td>54.5</td>\n    </tr>\n    <tr>\n      <th>2000-10-28</th>\n      <th>T</th>\n      <td>56.5</td>\n    </tr>\n    <tr>\n      <th>2000-10-29</th>\n      <th>0.68</th>\n      <td>56.5</td>\n    </tr>\n    <tr>\n      <th>2000-10-30</th>\n      <th>0.00</th>\n      <td>60.0</td>\n    </tr>\n  </tbody>\n</table>\n</div>"
     },
     "metadata": {},
     "execution_count": 2
    }
   ],
   "source": [
    "# Capture data path\n",
    "csv_path = Path('./raw_data/weather_daily.csv')\n",
    "\n",
    "# Read in data and format dates and times\n",
    "weather_data = pd.read_csv(csv_path, infer_datetime_format=True, parse_dates=True)\n",
    "weather_data.head()\n"
   ]
  },
  {
   "cell_type": "code",
   "execution_count": 3,
   "metadata": {},
   "outputs": [
    {
     "output_type": "execute_result",
     "data": {
      "text/plain": [
       "        date precipitation average_temperature\n",
       "0 2000-10-26             T                62.0\n",
       "1 2000-10-27          0.00                54.5\n",
       "2 2000-10-28             T                56.5\n",
       "3 2000-10-29          0.68                56.5\n",
       "4 2000-10-30          0.00                60.0"
      ],
      "text/html": "<div>\n<style scoped>\n    .dataframe tbody tr th:only-of-type {\n        vertical-align: middle;\n    }\n\n    .dataframe tbody tr th {\n        vertical-align: top;\n    }\n\n    .dataframe thead th {\n        text-align: right;\n    }\n</style>\n<table border=\"1\" class=\"dataframe\">\n  <thead>\n    <tr style=\"text-align: right;\">\n      <th></th>\n      <th>date</th>\n      <th>precipitation</th>\n      <th>average_temperature</th>\n    </tr>\n  </thead>\n  <tbody>\n    <tr>\n      <th>0</th>\n      <td>2000-10-26</td>\n      <td>T</td>\n      <td>62.0</td>\n    </tr>\n    <tr>\n      <th>1</th>\n      <td>2000-10-27</td>\n      <td>0.00</td>\n      <td>54.5</td>\n    </tr>\n    <tr>\n      <th>2</th>\n      <td>2000-10-28</td>\n      <td>T</td>\n      <td>56.5</td>\n    </tr>\n    <tr>\n      <th>3</th>\n      <td>2000-10-29</td>\n      <td>0.68</td>\n      <td>56.5</td>\n    </tr>\n    <tr>\n      <th>4</th>\n      <td>2000-10-30</td>\n      <td>0.00</td>\n      <td>60.0</td>\n    </tr>\n  </tbody>\n</table>\n</div>"
     },
     "metadata": {},
     "execution_count": 3
    }
   ],
   "source": [
    "# Reset index to set columns names\n",
    "weather_data = weather_data.reset_index()\n",
    "#clean_weather_data.head()\n",
    "\n",
    "# Name columns to assess data\n",
    "weather_data.rename(columns={'level_0' : 'date', 'level_1' : 'precipitation', 'OMAHA EPPLEY AIRFIELD' : 'average_temperature'}, inplace=True)\n",
    "weather_data.head()\n"
   ]
  },
  {
   "cell_type": "code",
   "execution_count": 4,
   "metadata": {},
   "outputs": [
    {
     "output_type": "execute_result",
     "data": {
      "text/plain": [
       "date                   datetime64[ns]\n",
       "precipitation                  object\n",
       "average_temperature            object\n",
       "dtype: object"
      ]
     },
     "metadata": {},
     "execution_count": 4
    }
   ],
   "source": [
    "# Check data types for each column\n",
    "weather_data.dtypes\n"
   ]
  },
  {
   "cell_type": "code",
   "execution_count": 5,
   "metadata": {},
   "outputs": [
    {
     "output_type": "execute_result",
     "data": {
      "text/plain": [
       "date                   0\n",
       "precipitation          0\n",
       "average_temperature    0\n",
       "dtype: int64"
      ]
     },
     "metadata": {},
     "execution_count": 5
    }
   ],
   "source": [
    "# Look for any null values\n",
    "weather_data.isnull().sum()\n"
   ]
  },
  {
   "cell_type": "code",
   "execution_count": 6,
   "metadata": {},
   "outputs": [
    {
     "output_type": "execute_result",
     "data": {
      "text/plain": [
       "date                   7308\n",
       "precipitation          7308\n",
       "average_temperature    7308\n",
       "dtype: int64"
      ]
     },
     "metadata": {},
     "execution_count": 6
    }
   ],
   "source": [
    "# Look for any missing data in columns compared to other columns\n",
    "weather_data.count()\n"
   ]
  },
  {
   "cell_type": "code",
   "execution_count": 7,
   "metadata": {},
   "outputs": [
    {
     "output_type": "execute_result",
     "data": {
      "text/plain": [
       "date                   2\n",
       "precipitation          2\n",
       "average_temperature    2\n",
       "dtype: int64"
      ]
     },
     "metadata": {},
     "execution_count": 7
    }
   ],
   "source": [
    "# Missing data appears as value 'M' per source documentation\n",
    "weather_data[weather_data.average_temperature == 'M'].count()\n"
   ]
  },
  {
   "cell_type": "code",
   "execution_count": 8,
   "metadata": {},
   "outputs": [
    {
     "output_type": "execute_result",
     "data": {
      "text/plain": [
       "date                   1099\n",
       "precipitation          1099\n",
       "average_temperature    1099\n",
       "dtype: int64"
      ]
     },
     "metadata": {},
     "execution_count": 8
    }
   ],
   "source": [
    "# Traces of participation values may appear as value 'T' per source documentation\n",
    "weather_data[weather_data.precipitation == 'T'].count()\n"
   ]
  },
  {
   "source": [
    "## 2. Cleaning of Data\n"
   ],
   "cell_type": "markdown",
   "metadata": {}
  },
  {
   "cell_type": "code",
   "execution_count": 9,
   "metadata": {},
   "outputs": [],
   "source": [
    "# Drop rows with values of 'M'\n",
    "index_rows = weather_data[weather_data.average_temperature == 'M'].index\n",
    "clean_weather_data = weather_data.drop(index_rows)\n"
   ]
  },
  {
   "cell_type": "code",
   "execution_count": 10,
   "metadata": {},
   "outputs": [
    {
     "output_type": "execute_result",
     "data": {
      "text/plain": [
       "date                   0\n",
       "precipitation          0\n",
       "average_temperature    0\n",
       "dtype: int64"
      ]
     },
     "metadata": {},
     "execution_count": 10
    }
   ],
   "source": [
    "# Check rows with 'M' value data no longer appear\n",
    "clean_weather_data[clean_weather_data.average_temperature == 'M'].count()\n"
   ]
  },
  {
   "cell_type": "code",
   "execution_count": 11,
   "metadata": {},
   "outputs": [
    {
     "output_type": "execute_result",
     "data": {
      "text/plain": [
       "        date precipitation average_temperature\n",
       "0 2000-10-26        0.0001                62.0\n",
       "1 2000-10-27          0.00                54.5\n",
       "2 2000-10-28        0.0001                56.5\n",
       "3 2000-10-29          0.68                56.5\n",
       "4 2000-10-30          0.00                60.0"
      ],
      "text/html": "<div>\n<style scoped>\n    .dataframe tbody tr th:only-of-type {\n        vertical-align: middle;\n    }\n\n    .dataframe tbody tr th {\n        vertical-align: top;\n    }\n\n    .dataframe thead th {\n        text-align: right;\n    }\n</style>\n<table border=\"1\" class=\"dataframe\">\n  <thead>\n    <tr style=\"text-align: right;\">\n      <th></th>\n      <th>date</th>\n      <th>precipitation</th>\n      <th>average_temperature</th>\n    </tr>\n  </thead>\n  <tbody>\n    <tr>\n      <th>0</th>\n      <td>2000-10-26</td>\n      <td>0.0001</td>\n      <td>62.0</td>\n    </tr>\n    <tr>\n      <th>1</th>\n      <td>2000-10-27</td>\n      <td>0.00</td>\n      <td>54.5</td>\n    </tr>\n    <tr>\n      <th>2</th>\n      <td>2000-10-28</td>\n      <td>0.0001</td>\n      <td>56.5</td>\n    </tr>\n    <tr>\n      <th>3</th>\n      <td>2000-10-29</td>\n      <td>0.68</td>\n      <td>56.5</td>\n    </tr>\n    <tr>\n      <th>4</th>\n      <td>2000-10-30</td>\n      <td>0.00</td>\n      <td>60.0</td>\n    </tr>\n  </tbody>\n</table>\n</div>"
     },
     "metadata": {},
     "execution_count": 11
    }
   ],
   "source": [
    "# Replace values of 'T' with 0.0001 to represent a value other than 0 or False\n",
    "clean_weather_data['precipitation'] = clean_weather_data['precipitation'].replace('T', 0.0001)\n",
    "clean_weather_data.head()"
   ]
  },
  {
   "cell_type": "code",
   "execution_count": 12,
   "metadata": {},
   "outputs": [
    {
     "output_type": "execute_result",
     "data": {
      "text/plain": [
       "date                   0\n",
       "precipitation          0\n",
       "average_temperature    0\n",
       "dtype: int64"
      ]
     },
     "metadata": {},
     "execution_count": 12
    }
   ],
   "source": [
    "# Check rows with 'T'\n",
    "clean_weather_data[clean_weather_data.precipitation == 'T'].count()\n"
   ]
  },
  {
   "cell_type": "code",
   "execution_count": 13,
   "metadata": {},
   "outputs": [
    {
     "output_type": "execute_result",
     "data": {
      "text/plain": [
       "date                   1099\n",
       "precipitation          1099\n",
       "average_temperature    1099\n",
       "dtype: int64"
      ]
     },
     "metadata": {},
     "execution_count": 13
    }
   ],
   "source": [
    "# Check rows with 0.0001\n",
    "clean_weather_data[clean_weather_data.precipitation == 0.0001].count()\n"
   ]
  },
  {
   "cell_type": "code",
   "execution_count": 14,
   "metadata": {},
   "outputs": [
    {
     "output_type": "execute_result",
     "data": {
      "text/plain": [
       "date                   datetime64[ns]\n",
       "precipitation                  object\n",
       "average_temperature            object\n",
       "dtype: object"
      ]
     },
     "metadata": {},
     "execution_count": 14
    }
   ],
   "source": [
    "# Confirm object types that need to be converted\n",
    "clean_weather_data.dtypes"
   ]
  },
  {
   "cell_type": "code",
   "execution_count": 15,
   "metadata": {},
   "outputs": [],
   "source": [
    "# Change precipitation values from object to type float\n",
    "clean_weather_data['precipitation'] = clean_weather_data['precipitation'].astype(float)\n",
    "\n",
    "# Change average_temperature values from object to type float\n",
    "clean_weather_data['average_temperature'] = clean_weather_data['average_temperature'].astype(float)\n"
   ]
  },
  {
   "cell_type": "code",
   "execution_count": 16,
   "metadata": {},
   "outputs": [
    {
     "output_type": "execute_result",
     "data": {
      "text/plain": [
       "date                   datetime64[ns]\n",
       "precipitation                 float64\n",
       "average_temperature           float64\n",
       "dtype: object"
      ]
     },
     "metadata": {},
     "execution_count": 16
    }
   ],
   "source": [
    "# Verify type changes\n",
    "clean_weather_data.dtypes\n"
   ]
  },
  {
   "cell_type": "code",
   "execution_count": 17,
   "metadata": {},
   "outputs": [
    {
     "output_type": "execute_result",
     "data": {
      "text/plain": [
       "            precipitation  average_temperature\n",
       "date                                          \n",
       "2000-10-26         0.0001                 62.0\n",
       "2000-10-27         0.0000                 54.5\n",
       "2000-10-28         0.0001                 56.5\n",
       "2000-10-29         0.6800                 56.5\n",
       "2000-10-30         0.0000                 60.0"
      ],
      "text/html": "<div>\n<style scoped>\n    .dataframe tbody tr th:only-of-type {\n        vertical-align: middle;\n    }\n\n    .dataframe tbody tr th {\n        vertical-align: top;\n    }\n\n    .dataframe thead th {\n        text-align: right;\n    }\n</style>\n<table border=\"1\" class=\"dataframe\">\n  <thead>\n    <tr style=\"text-align: right;\">\n      <th></th>\n      <th>precipitation</th>\n      <th>average_temperature</th>\n    </tr>\n    <tr>\n      <th>date</th>\n      <th></th>\n      <th></th>\n    </tr>\n  </thead>\n  <tbody>\n    <tr>\n      <th>2000-10-26</th>\n      <td>0.0001</td>\n      <td>62.0</td>\n    </tr>\n    <tr>\n      <th>2000-10-27</th>\n      <td>0.0000</td>\n      <td>54.5</td>\n    </tr>\n    <tr>\n      <th>2000-10-28</th>\n      <td>0.0001</td>\n      <td>56.5</td>\n    </tr>\n    <tr>\n      <th>2000-10-29</th>\n      <td>0.6800</td>\n      <td>56.5</td>\n    </tr>\n    <tr>\n      <th>2000-10-30</th>\n      <td>0.0000</td>\n      <td>60.0</td>\n    </tr>\n  </tbody>\n</table>\n</div>"
     },
     "metadata": {},
     "execution_count": 17
    }
   ],
   "source": [
    "# Set index to date and view clean dataframe\n",
    "clean_weather_data.set_index('date', inplace=True)\n",
    "clean_weather_data.head()\n"
   ]
  },
  {
   "source": [
    "## 3. Compilation Into A Clean Data File\n"
   ],
   "cell_type": "markdown",
   "metadata": {}
  },
  {
   "cell_type": "code",
   "execution_count": 18,
   "metadata": {},
   "outputs": [],
   "source": [
    "# Create output path\n",
    "csv_output_path = Path('./clean_data/weather_daily_clean.csv')\n"
   ]
  },
  {
   "cell_type": "code",
   "execution_count": 19,
   "metadata": {},
   "outputs": [],
   "source": [
    "# Write data to csv\n",
    "clean_weather_data.to_csv(csv_output_path)\n"
   ]
  }
 ]
}