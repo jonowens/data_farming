{
 "metadata": {
  "language_info": {
   "codemirror_mode": {
    "name": "ipython",
    "version": 3
   },
   "file_extension": ".py",
   "mimetype": "text/x-python",
   "name": "python",
   "nbconvert_exporter": "python",
   "pygments_lexer": "ipython3",
   "version": "3.8.3-final"
  },
  "orig_nbformat": 2,
  "kernelspec": {
   "name": "Python 3.8.3 64-bit (conda)",
   "display_name": "Python 3.8.3 64-bit (conda)",
   "metadata": {
    "interpreter": {
     "hash": "d73910f5fd2fc7209a8cd0dc809916ee987088f53b8e6d841cdfda7667b2a3cb"
    }
   }
  }
 },
 "nbformat": 4,
 "nbformat_minor": 2,
 "cells": [
  {
   "cell_type": "code",
   "execution_count": 1,
   "metadata": {},
   "outputs": [],
   "source": [
    "#import dependencies\n",
    "import pandas as pd\n",
    "import numpy as np\n",
    "import os\n",
    "from dotenv import load_dotenv\n",
    "import requests\n",
    "import json\n",
    "from pprint import pprint\n",
    "from datetime import datetime\n",
    "\n",
    "from libs.usda import pull_usda_data"
   ]
  },
  {
   "source": [
    "### pulling and cleaning usda api data"
   ],
   "cell_type": "markdown",
   "metadata": {}
  },
  {
   "cell_type": "code",
   "execution_count": 2,
   "metadata": {},
   "outputs": [],
   "source": [
    "#assign usda api key\n",
    "load_dotenv()\n",
    "usda_api_key = os.getenv('usda_api_key')"
   ]
  },
  {
   "cell_type": "code",
   "execution_count": 3,
   "metadata": {},
   "outputs": [],
   "source": [
    "#assign paramenter variables to pull data from usda query\n",
    "commodity = 'CORN'\n",
    "stat_list = ['PRODUCTION', 'STOCKS']\n",
    "level_list = ['STATE', 'NATIONAL']\n",
    "year = 2019"
   ]
  },
  {
   "cell_type": "code",
   "execution_count": 4,
   "metadata": {},
   "outputs": [],
   "source": [
    "#pull data from usda api using pull_usda_data function based on defined variables and make list of returned dataframes of data\n",
    "data_df_list = []\n",
    "\n",
    "for stat in stat_list:\n",
    "    for level in level_list:\n",
    "        data_df = pull_usda_data(usda_api_key, commodity, stat, level, year)\n",
    "        data_df_list.append(data_df)"
   ]
  },
  {
   "cell_type": "code",
   "execution_count": 5,
   "metadata": {},
   "outputs": [],
   "source": [
    "#combine all data pulled from usda api into one dataframe\n",
    "commodity_df = pd.concat(data_df_list, axis = 0)\n",
    "\n",
    "#export to .csv based on sub_commodity\n",
    "for sub_commodity in commodity_df['sub_commodity'].unique():\n",
    "    clean_data_df = commodity_df.loc[commodity_df['sub_commodity'] == sub_commodity, :]\n",
    "    clean_data_df.to_csv(f'clean_data/usda_data/usda_data_{commodity.lower()}_{sub_commodity.lower()}.csv', index = False)"
   ]
  },
  {
   "source": [
    "### pulling wasde raw data from api to save out excel files"
   ],
   "cell_type": "markdown",
   "metadata": {}
  },
  {
   "cell_type": "code",
   "execution_count": 12,
   "metadata": {},
   "outputs": [],
   "source": [
    "#setup wasde api request\n",
    "login_info = {\"auth[email]\":\"jordan.m.gross@gmail.com\",\"auth[password]\":\"Swoosh!4\"}\n",
    "token = requests.post('https://usda.library.cornell.edu/user_token', data = login_info).json()\n",
    "token = token['jwt']\n",
    "\n",
    "end_date = datetime.today().strftime('%Y-%m-%d')\n",
    "\n",
    "files = requests.get(f'https://usda.library.cornell.edu/api/v1/release/findByIdentifier/wasde?latest=false&start_date=2008-06-01&end_date={end_date}', headers = ({'Authorization' :  f'Bearer {token}'})).json()"
   ]
  },
  {
   "cell_type": "code",
   "execution_count": 15,
   "metadata": {},
   "outputs": [],
   "source": [
    "#loop through json returned from wasde api request to find .xls report links for each month and save out excel file to raw data folder\n",
    "for i in files:\n",
    "    for file in i['files']:\n",
    "        if '.xls' in file:\n",
    "            xls_url = file\n",
    "        else:\n",
    "            next\n",
    "    \n",
    "    xls_data = requests.get(xls_url)\n",
    "\n",
    "    with open(f'raw_data/wasde_data/wasde_{i[\"release_datetime\"]}.xls', 'wb') as output:\n",
    "        output.write(xls_data.content)"
   ]
  }
 ]
}