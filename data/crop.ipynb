{
 "metadata": {
  "language_info": {
   "codemirror_mode": {
    "name": "ipython",
    "version": 3
   },
   "file_extension": ".py",
   "mimetype": "text/x-python",
   "name": "python",
   "nbconvert_exporter": "python",
   "pygments_lexer": "ipython3",
   "version": "3.8.3-final"
  },
  "orig_nbformat": 2,
  "kernelspec": {
   "name": "Python 3.8.3 64-bit ('base': conda)",
   "display_name": "Python 3.8.3 64-bit ('base': conda)",
   "metadata": {
    "interpreter": {
     "hash": "d73910f5fd2fc7209a8cd0dc809916ee987088f53b8e6d841cdfda7667b2a3cb"
    }
   }
  }
 },
 "nbformat": 4,
 "nbformat_minor": 2,
 "cells": [
  {
   "cell_type": "code",
   "execution_count": 52,
   "metadata": {},
   "outputs": [],
   "source": [
    "#import dependencies\n",
    "import pandas as pd\n",
    "import numpy as np\n",
    "import os\n",
    "from dotenv import load_dotenv\n",
    "import requests\n",
    "import json\n",
    "from pprint import pprint\n",
    "from datetime import datetime"
   ]
  },
  {
   "cell_type": "code",
   "execution_count": 53,
   "metadata": {},
   "outputs": [],
   "source": [
    "#assign usda api key\n",
    "load_dotenv()\n",
    "usda_api_key = os.getenv('usda_api_key')"
   ]
  },
  {
   "cell_type": "code",
   "execution_count": 81,
   "metadata": {},
   "outputs": [],
   "source": [
    "#assign paramenter variables\n",
    "# commodity_dict = {'CORN' : ['PRODUCTION', 'STOCKS'], 'SOYBEANS' : ['PRODUCTION', 'STOCKS']}\n",
    "\n",
    "commodity = 'CORN'\n",
    "statistic = 'PRODUCTION'\n",
    "state = 'NE'\n",
    "year = 2019\n",
    "data_level = 'STATE'\n",
    "data_columns = ['commodity_desc', 'statisticcat_desc', 'util_practice_desc', 'unit_desc', 'state_alpha', 'year', 'freq_desc', 'Value']"
   ]
  },
  {
   "cell_type": "code",
   "execution_count": 83,
   "metadata": {},
   "outputs": [],
   "source": [
    "def pull_usda_data(usda_api_key, commodity, statistic, data_level, state, year, data_columns):\n",
    "\n",
    "    #assign usda api url and establish which parameter will be fed as variables\n",
    "    usda_url = f'http://quickstats.nass.usda.gov/api/api_GET/?key={usda_api_key}&source_desc=SURVEY&commodity_desc={commodity}&statisticcat_desc={statistic}&agg_level_desc={data_level}&state_alpha={state}&year_GE={year}&format=JSON'\n",
    "\n",
    "    #get usda data via api and return as json\n",
    "    usda_data = requests.get(usda_url).json()\n",
    "\n",
    "    #put dictionary from returned json data into df\n",
    "    usda_df = pd.DataFrame(usda_data['data'])\n",
    "\n",
    "    #slice usda_df with assigned columns prior to cleaning data\n",
    "    usda_df_clean = usda_df[data_columns]\n",
    "\n",
    "    #clean Value column so datatype is numeric\n",
    "    usda_df_clean['Value'] = usda_df_clean['Value'].apply(lambda x: x.replace(',', ''))\n",
    "    usda_df_clean['Value'] = usda_df_clean['Value'].apply(lambda x: int(x))\n",
    "\n",
    "    return usda_df_clean"
   ]
  },
  {
   "cell_type": "code",
   "execution_count": 85,
   "metadata": {},
   "outputs": [
    {
     "output_type": "execute_result",
     "data": {
      "text/plain": [
       "  commodity_desc statisticcat_desc util_practice_desc unit_desc state_alpha  \\\n",
       "0           CORN        PRODUCTION              GRAIN         $          NE   \n",
       "1           CORN        PRODUCTION              GRAIN         $          NE   \n",
       "2           CORN        PRODUCTION              GRAIN         $          NE   \n",
       "3           CORN        PRODUCTION              GRAIN         $          NE   \n",
       "4           CORN        PRODUCTION              GRAIN         $          NE   \n",
       "\n",
       "   year freq_desc       Value  \n",
       "0  2019    ANNUAL  6784596000  \n",
       "1  2018    ANNUAL  6392448000  \n",
       "2  2017    ANNUAL  5639055000  \n",
       "3  2016    ANNUAL  5643668000  \n",
       "4  2015    ANNUAL  6043118000  "
      ],
      "text/html": "<div>\n<style scoped>\n    .dataframe tbody tr th:only-of-type {\n        vertical-align: middle;\n    }\n\n    .dataframe tbody tr th {\n        vertical-align: top;\n    }\n\n    .dataframe thead th {\n        text-align: right;\n    }\n</style>\n<table border=\"1\" class=\"dataframe\">\n  <thead>\n    <tr style=\"text-align: right;\">\n      <th></th>\n      <th>commodity_desc</th>\n      <th>statisticcat_desc</th>\n      <th>util_practice_desc</th>\n      <th>unit_desc</th>\n      <th>state_alpha</th>\n      <th>year</th>\n      <th>freq_desc</th>\n      <th>Value</th>\n    </tr>\n  </thead>\n  <tbody>\n    <tr>\n      <th>0</th>\n      <td>CORN</td>\n      <td>PRODUCTION</td>\n      <td>GRAIN</td>\n      <td>$</td>\n      <td>NE</td>\n      <td>2019</td>\n      <td>ANNUAL</td>\n      <td>6784596000</td>\n    </tr>\n    <tr>\n      <th>1</th>\n      <td>CORN</td>\n      <td>PRODUCTION</td>\n      <td>GRAIN</td>\n      <td>$</td>\n      <td>NE</td>\n      <td>2018</td>\n      <td>ANNUAL</td>\n      <td>6392448000</td>\n    </tr>\n    <tr>\n      <th>2</th>\n      <td>CORN</td>\n      <td>PRODUCTION</td>\n      <td>GRAIN</td>\n      <td>$</td>\n      <td>NE</td>\n      <td>2017</td>\n      <td>ANNUAL</td>\n      <td>5639055000</td>\n    </tr>\n    <tr>\n      <th>3</th>\n      <td>CORN</td>\n      <td>PRODUCTION</td>\n      <td>GRAIN</td>\n      <td>$</td>\n      <td>NE</td>\n      <td>2016</td>\n      <td>ANNUAL</td>\n      <td>5643668000</td>\n    </tr>\n    <tr>\n      <th>4</th>\n      <td>CORN</td>\n      <td>PRODUCTION</td>\n      <td>GRAIN</td>\n      <td>$</td>\n      <td>NE</td>\n      <td>2015</td>\n      <td>ANNUAL</td>\n      <td>6043118000</td>\n    </tr>\n  </tbody>\n</table>\n</div>"
     },
     "metadata": {},
     "execution_count": 85
    }
   ],
   "source": [
    "test_df = pull_usda_data(usda_api_key, commodity, statistic, data_level, state, year, data_columns)\n",
    "test_df.head()"
   ]
  }
 ]
}