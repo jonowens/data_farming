{
 "metadata": {
  "language_info": {
   "codemirror_mode": {
    "name": "ipython",
    "version": 3
   },
   "file_extension": ".py",
   "mimetype": "text/x-python",
   "name": "python",
   "nbconvert_exporter": "python",
   "pygments_lexer": "ipython3",
   "version": "3.8.3-final"
  },
  "orig_nbformat": 2,
  "kernelspec": {
   "name": "Python 3.8.3 64-bit (conda)",
   "display_name": "Python 3.8.3 64-bit (conda)",
   "metadata": {
    "interpreter": {
     "hash": "d73910f5fd2fc7209a8cd0dc809916ee987088f53b8e6d841cdfda7667b2a3cb"
    }
   }
  }
 },
 "nbformat": 4,
 "nbformat_minor": 2,
 "cells": [
  {
   "cell_type": "code",
   "execution_count": 1,
   "metadata": {},
   "outputs": [],
   "source": [
    "#import dependencies\n",
    "import pandas as pd\n",
    "import numpy as np\n",
    "import os\n",
    "from dotenv import load_dotenv\n",
    "import requests\n",
    "import json\n",
    "from pprint import pprint\n",
    "from datetime import datetime\n",
    "\n",
    "from libs.usda import pull_usda_data"
   ]
  },
  {
   "cell_type": "code",
   "execution_count": 2,
   "metadata": {},
   "outputs": [],
   "source": [
    "#assign usda api key\n",
    "load_dotenv()\n",
    "usda_api_key = os.getenv('usda_api_key')"
   ]
  },
  {
   "cell_type": "code",
   "execution_count": 3,
   "metadata": {},
   "outputs": [],
   "source": [
    "#assign paramenter variables\n",
    "# commodity_dict = {'CORN' : ['PRODUCTION', 'STOCKS'], 'SOYBEANS' : ['PRODUCTION', 'STOCKS']}\n",
    "\n",
    "commodity = 'CORN'\n",
    "statistic = 'PRODUCTION'\n",
    "state = 'NE'\n",
    "year = 2019"
   ]
  },
  {
   "cell_type": "code",
   "execution_count": 4,
   "metadata": {},
   "outputs": [
    {
     "output_type": "execute_result",
     "data": {
      "text/plain": [
       "  commodity_desc state_alpha statisticcat_desc util_practice_desc unit_desc  \\\n",
       "0           CORN          NE        PRODUCTION              GRAIN         $   \n",
       "1           CORN          NE        PRODUCTION              GRAIN         $   \n",
       "2           CORN          NE        PRODUCTION              GRAIN         $   \n",
       "3           CORN          NE        PRODUCTION              GRAIN         $   \n",
       "4           CORN          NE        PRODUCTION              GRAIN         $   \n",
       "\n",
       "  state_alpha freq_desc  year reference_period_desc       Value  \n",
       "0          NE    ANNUAL  2019                  YEAR  6784596000  \n",
       "1          NE    ANNUAL  2018                  YEAR  6392448000  \n",
       "2          NE    ANNUAL  2017                  YEAR  5639055000  \n",
       "3          NE    ANNUAL  2016                  YEAR  5643668000  \n",
       "4          NE    ANNUAL  2015                  YEAR  6043118000  "
      ],
      "text/html": "<div>\n<style scoped>\n    .dataframe tbody tr th:only-of-type {\n        vertical-align: middle;\n    }\n\n    .dataframe tbody tr th {\n        vertical-align: top;\n    }\n\n    .dataframe thead th {\n        text-align: right;\n    }\n</style>\n<table border=\"1\" class=\"dataframe\">\n  <thead>\n    <tr style=\"text-align: right;\">\n      <th></th>\n      <th>commodity_desc</th>\n      <th>state_alpha</th>\n      <th>statisticcat_desc</th>\n      <th>util_practice_desc</th>\n      <th>unit_desc</th>\n      <th>state_alpha</th>\n      <th>freq_desc</th>\n      <th>year</th>\n      <th>reference_period_desc</th>\n      <th>Value</th>\n    </tr>\n  </thead>\n  <tbody>\n    <tr>\n      <th>0</th>\n      <td>CORN</td>\n      <td>NE</td>\n      <td>PRODUCTION</td>\n      <td>GRAIN</td>\n      <td>$</td>\n      <td>NE</td>\n      <td>ANNUAL</td>\n      <td>2019</td>\n      <td>YEAR</td>\n      <td>6784596000</td>\n    </tr>\n    <tr>\n      <th>1</th>\n      <td>CORN</td>\n      <td>NE</td>\n      <td>PRODUCTION</td>\n      <td>GRAIN</td>\n      <td>$</td>\n      <td>NE</td>\n      <td>ANNUAL</td>\n      <td>2018</td>\n      <td>YEAR</td>\n      <td>6392448000</td>\n    </tr>\n    <tr>\n      <th>2</th>\n      <td>CORN</td>\n      <td>NE</td>\n      <td>PRODUCTION</td>\n      <td>GRAIN</td>\n      <td>$</td>\n      <td>NE</td>\n      <td>ANNUAL</td>\n      <td>2017</td>\n      <td>YEAR</td>\n      <td>5639055000</td>\n    </tr>\n    <tr>\n      <th>3</th>\n      <td>CORN</td>\n      <td>NE</td>\n      <td>PRODUCTION</td>\n      <td>GRAIN</td>\n      <td>$</td>\n      <td>NE</td>\n      <td>ANNUAL</td>\n      <td>2016</td>\n      <td>YEAR</td>\n      <td>5643668000</td>\n    </tr>\n    <tr>\n      <th>4</th>\n      <td>CORN</td>\n      <td>NE</td>\n      <td>PRODUCTION</td>\n      <td>GRAIN</td>\n      <td>$</td>\n      <td>NE</td>\n      <td>ANNUAL</td>\n      <td>2015</td>\n      <td>YEAR</td>\n      <td>6043118000</td>\n    </tr>\n  </tbody>\n</table>\n</div>"
     },
     "metadata": {},
     "execution_count": 4
    }
   ],
   "source": [
    "corn_df = pull_usda_data(usda_api_key, commodity, statistic, state, year)\n",
    "\n",
    "corn_df.head()"
   ]
  }
 ]
}