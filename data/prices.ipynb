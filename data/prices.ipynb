{
 "metadata": {
  "language_info": {
   "codemirror_mode": {
    "name": "ipython",
    "version": 3
   },
   "file_extension": ".py",
   "mimetype": "text/x-python",
   "name": "python",
   "nbconvert_exporter": "python",
   "pygments_lexer": "ipython3",
   "version": "3.8.3-final"
  },
  "orig_nbformat": 2,
  "kernelspec": {
   "name": "Python 3.8.3 64-bit ('base': conda)",
   "display_name": "Python 3.8.3 64-bit ('base': conda)",
   "metadata": {
    "interpreter": {
     "hash": "ad325eb2062f4ba0a904c20d805e4fe434252bd0d867ca2161e7f9dc4ab32e90"
    }
   }
  }
 },
 "nbformat": 4,
 "nbformat_minor": 2,
 "cells": [
  {
   "cell_type": "code",
   "execution_count": 1,
   "metadata": {},
   "outputs": [],
   "source": [
    "'''\n",
    " Prepared by Carolina B.\n",
    "\n",
    " This file consists of 3 parts:\n",
    " 1) daily price data extraction of agricultural ETF's:\n",
    " Corn: CORN,\n",
    " Wheat: WEAT,\n",
    " Soybeans: SOYB \n",
    "\n",
    " 2) Cleaning of daily prices of futures market (extracted from Tradestation):\n",
    " corn_daily.csv, soybeans_daily.csv and wheat_daily.csv\n",
    "\n",
    " 3) Concatenation and grouping of the daily data from each asset and compiled\n",
    " into one set of clean data \n",
    "\n",
    " \n",
    "'''\n",
    "# Import libraries \n",
    "import os\n",
    "import requests\n",
    "import pandas as pd\n",
    "from dotenv import load_dotenv\n",
    "import alpaca_trade_api as tradeapi\n",
    "import datetime as dt\n"
   ]
  },
  {
   "source": [
    "# PART 1 - Extraction and Cleaning of agricultural ETF's \n",
    "\n",
    "Source: ALPACA API"
   ],
   "cell_type": "markdown",
   "metadata": {}
  },
  {
   "cell_type": "code",
   "execution_count": 2,
   "metadata": {},
   "outputs": [],
   "source": [
    "# Import json as per API documentation for Alpaca\n",
    "import json\n"
   ]
  },
  {
   "cell_type": "code",
   "execution_count": 3,
   "metadata": {},
   "outputs": [
    {
     "output_type": "execute_result",
     "data": {
      "text/plain": [
       "True"
      ]
     },
     "metadata": {},
     "execution_count": 3
    }
   ],
   "source": [
    "# Load .env enviroment variables\n",
    "load_dotenv()"
   ]
  },
  {
   "cell_type": "code",
   "execution_count": 4,
   "metadata": {},
   "outputs": [],
   "source": [
    "alpaca_api_key = os.getenv(\"ALPACA_API_KEY\")\n",
    "alpaca_secret_key = os.getenv(\"ALPACA_SECRET_KEY\")\n",
    "type(alpaca_api_key)\n",
    "\n",
    "# Create the Alpaca API object\n",
    "\n",
    "alpaca_trade = tradeapi.REST(\n",
    "    alpaca_api_key,\n",
    "    alpaca_secret_key,\n",
    "    api_version=\"v2\"\n",
    ")\n",
    "\n",
    "tickers = [\"CORN\", \"WEAT\", \"SOYB\"]\n",
    "timeframe = \"1D\""
   ]
  },
  {
   "cell_type": "code",
   "execution_count": 5,
   "metadata": {},
   "outputs": [
    {
     "output_type": "execute_result",
     "data": {
      "text/plain": [
       "                            CORN                                  SOYB       \\\n",
       "                            open   high      low    close  volume open high   \n",
       "2010-06-09 00:00:00-04:00  25.12  25.25  25.1200  25.1500  1700.0  NaN  NaN   \n",
       "2010-06-10 00:00:00-04:00  25.46  25.46  25.4599  25.4599   200.0  NaN  NaN   \n",
       "2010-06-11 00:00:00-04:00  25.88  25.88  25.7913  25.7913   500.0  NaN  NaN   \n",
       "2010-06-14 00:00:00-04:00  25.99  26.11  25.9900  26.1100  2247.0  NaN  NaN   \n",
       "2010-06-15 00:00:00-04:00  26.24  26.24  25.9690  25.9690  6955.0  NaN  NaN   \n",
       "\n",
       "                                           WEAT                        \n",
       "                          low close volume open high low close volume  \n",
       "2010-06-09 00:00:00-04:00 NaN   NaN    NaN  NaN  NaN NaN   NaN    NaN  \n",
       "2010-06-10 00:00:00-04:00 NaN   NaN    NaN  NaN  NaN NaN   NaN    NaN  \n",
       "2010-06-11 00:00:00-04:00 NaN   NaN    NaN  NaN  NaN NaN   NaN    NaN  \n",
       "2010-06-14 00:00:00-04:00 NaN   NaN    NaN  NaN  NaN NaN   NaN    NaN  \n",
       "2010-06-15 00:00:00-04:00 NaN   NaN    NaN  NaN  NaN NaN   NaN    NaN  "
      ],
      "text/html": "<div>\n<style scoped>\n    .dataframe tbody tr th:only-of-type {\n        vertical-align: middle;\n    }\n\n    .dataframe tbody tr th {\n        vertical-align: top;\n    }\n\n    .dataframe thead tr th {\n        text-align: left;\n    }\n</style>\n<table border=\"1\" class=\"dataframe\">\n  <thead>\n    <tr>\n      <th></th>\n      <th colspan=\"5\" halign=\"left\">CORN</th>\n      <th colspan=\"5\" halign=\"left\">SOYB</th>\n      <th colspan=\"5\" halign=\"left\">WEAT</th>\n    </tr>\n    <tr>\n      <th></th>\n      <th>open</th>\n      <th>high</th>\n      <th>low</th>\n      <th>close</th>\n      <th>volume</th>\n      <th>open</th>\n      <th>high</th>\n      <th>low</th>\n      <th>close</th>\n      <th>volume</th>\n      <th>open</th>\n      <th>high</th>\n      <th>low</th>\n      <th>close</th>\n      <th>volume</th>\n    </tr>\n  </thead>\n  <tbody>\n    <tr>\n      <th>2010-06-09 00:00:00-04:00</th>\n      <td>25.12</td>\n      <td>25.25</td>\n      <td>25.1200</td>\n      <td>25.1500</td>\n      <td>1700.0</td>\n      <td>NaN</td>\n      <td>NaN</td>\n      <td>NaN</td>\n      <td>NaN</td>\n      <td>NaN</td>\n      <td>NaN</td>\n      <td>NaN</td>\n      <td>NaN</td>\n      <td>NaN</td>\n      <td>NaN</td>\n    </tr>\n    <tr>\n      <th>2010-06-10 00:00:00-04:00</th>\n      <td>25.46</td>\n      <td>25.46</td>\n      <td>25.4599</td>\n      <td>25.4599</td>\n      <td>200.0</td>\n      <td>NaN</td>\n      <td>NaN</td>\n      <td>NaN</td>\n      <td>NaN</td>\n      <td>NaN</td>\n      <td>NaN</td>\n      <td>NaN</td>\n      <td>NaN</td>\n      <td>NaN</td>\n      <td>NaN</td>\n    </tr>\n    <tr>\n      <th>2010-06-11 00:00:00-04:00</th>\n      <td>25.88</td>\n      <td>25.88</td>\n      <td>25.7913</td>\n      <td>25.7913</td>\n      <td>500.0</td>\n      <td>NaN</td>\n      <td>NaN</td>\n      <td>NaN</td>\n      <td>NaN</td>\n      <td>NaN</td>\n      <td>NaN</td>\n      <td>NaN</td>\n      <td>NaN</td>\n      <td>NaN</td>\n      <td>NaN</td>\n    </tr>\n    <tr>\n      <th>2010-06-14 00:00:00-04:00</th>\n      <td>25.99</td>\n      <td>26.11</td>\n      <td>25.9900</td>\n      <td>26.1100</td>\n      <td>2247.0</td>\n      <td>NaN</td>\n      <td>NaN</td>\n      <td>NaN</td>\n      <td>NaN</td>\n      <td>NaN</td>\n      <td>NaN</td>\n      <td>NaN</td>\n      <td>NaN</td>\n      <td>NaN</td>\n      <td>NaN</td>\n    </tr>\n    <tr>\n      <th>2010-06-15 00:00:00-04:00</th>\n      <td>26.24</td>\n      <td>26.24</td>\n      <td>25.9690</td>\n      <td>25.9690</td>\n      <td>6955.0</td>\n      <td>NaN</td>\n      <td>NaN</td>\n      <td>NaN</td>\n      <td>NaN</td>\n      <td>NaN</td>\n      <td>NaN</td>\n      <td>NaN</td>\n      <td>NaN</td>\n      <td>NaN</td>\n      <td>NaN</td>\n    </tr>\n  </tbody>\n</table>\n</div>"
     },
     "metadata": {},
     "execution_count": 5
    }
   ],
   "source": [
    "# Extract data for CORN, WEAT and SOYB with setstart and end date of 20 years from now\n",
    "start_date = pd.Timestamp('2000-10-01', tz='America/Chicago').isoformat()\n",
    "end_date = pd.Timestamp('2020-10-01', tz='America/Chicago').isoformat()\n",
    "\n",
    "df_etf_data = alpaca_trade.get_barset(\n",
    "    tickers,\n",
    "    timeframe,\n",
    "    start = start_date,\n",
    "    end = end_date\n",
    ").df\n",
    "\n",
    "df_etf_data.head()"
   ]
  },
  {
   "cell_type": "code",
   "execution_count": 6,
   "metadata": {},
   "outputs": [
    {
     "output_type": "execute_result",
     "data": {
      "text/plain": [
       "CORN  open      float64\n",
       "      high      float64\n",
       "      low       float64\n",
       "      close     float64\n",
       "      volume    float64\n",
       "SOYB  open      float64\n",
       "      high      float64\n",
       "      low       float64\n",
       "      close     float64\n",
       "      volume    float64\n",
       "WEAT  open      float64\n",
       "      high      float64\n",
       "      low       float64\n",
       "      close     float64\n",
       "      volume    float64\n",
       "dtype: object"
      ]
     },
     "metadata": {},
     "execution_count": 6
    }
   ],
   "source": [
    "df_etf_data.dtypes\n"
   ]
  },
  {
   "cell_type": "code",
   "execution_count": 7,
   "metadata": {},
   "outputs": [],
   "source": [
    "# drop 1 level on multiindex dataframe\n",
    "df_etf_data.columns = df_etf_data.columns.droplevel()\n",
    "\n"
   ]
  },
  {
   "cell_type": "code",
   "execution_count": 8,
   "metadata": {},
   "outputs": [
    {
     "output_type": "execute_result",
     "data": {
      "text/plain": [
       "                            open   high      low    close   volume  open  \\\n",
       "2010-06-09 00:00:00-04:00  25.12  25.25  25.1200  25.1500   1700.0   NaN   \n",
       "2010-06-10 00:00:00-04:00  25.46  25.46  25.4599  25.4599    200.0   NaN   \n",
       "2010-06-11 00:00:00-04:00  25.88  25.88  25.7913  25.7913    500.0   NaN   \n",
       "2010-06-14 00:00:00-04:00  25.99  26.11  25.9900  26.1100   2247.0   NaN   \n",
       "2010-06-15 00:00:00-04:00  26.24  26.24  25.9690  25.9690   6955.0   NaN   \n",
       "2010-06-16 00:00:00-04:00  26.26  26.44  26.1999  26.3200   2200.0   NaN   \n",
       "2010-06-17 00:00:00-04:00  26.20  26.20  25.8200  26.0800   1600.0   NaN   \n",
       "2010-06-18 00:00:00-04:00  26.22  26.60  26.2199  26.3900   3125.0   NaN   \n",
       "2010-06-21 00:00:00-04:00  26.35  26.35  25.7000  25.9799   9500.0   NaN   \n",
       "2010-06-22 00:00:00-04:00  25.90  25.90  25.6600  25.6864  28700.0   NaN   \n",
       "\n",
       "                           high  low  close  volume  open  high  low  close  \\\n",
       "2010-06-09 00:00:00-04:00   NaN  NaN    NaN     NaN   NaN   NaN  NaN    NaN   \n",
       "2010-06-10 00:00:00-04:00   NaN  NaN    NaN     NaN   NaN   NaN  NaN    NaN   \n",
       "2010-06-11 00:00:00-04:00   NaN  NaN    NaN     NaN   NaN   NaN  NaN    NaN   \n",
       "2010-06-14 00:00:00-04:00   NaN  NaN    NaN     NaN   NaN   NaN  NaN    NaN   \n",
       "2010-06-15 00:00:00-04:00   NaN  NaN    NaN     NaN   NaN   NaN  NaN    NaN   \n",
       "2010-06-16 00:00:00-04:00   NaN  NaN    NaN     NaN   NaN   NaN  NaN    NaN   \n",
       "2010-06-17 00:00:00-04:00   NaN  NaN    NaN     NaN   NaN   NaN  NaN    NaN   \n",
       "2010-06-18 00:00:00-04:00   NaN  NaN    NaN     NaN   NaN   NaN  NaN    NaN   \n",
       "2010-06-21 00:00:00-04:00   NaN  NaN    NaN     NaN   NaN   NaN  NaN    NaN   \n",
       "2010-06-22 00:00:00-04:00   NaN  NaN    NaN     NaN   NaN   NaN  NaN    NaN   \n",
       "\n",
       "                           volume  \n",
       "2010-06-09 00:00:00-04:00     NaN  \n",
       "2010-06-10 00:00:00-04:00     NaN  \n",
       "2010-06-11 00:00:00-04:00     NaN  \n",
       "2010-06-14 00:00:00-04:00     NaN  \n",
       "2010-06-15 00:00:00-04:00     NaN  \n",
       "2010-06-16 00:00:00-04:00     NaN  \n",
       "2010-06-17 00:00:00-04:00     NaN  \n",
       "2010-06-18 00:00:00-04:00     NaN  \n",
       "2010-06-21 00:00:00-04:00     NaN  \n",
       "2010-06-22 00:00:00-04:00     NaN  "
      ],
      "text/html": "<div>\n<style scoped>\n    .dataframe tbody tr th:only-of-type {\n        vertical-align: middle;\n    }\n\n    .dataframe tbody tr th {\n        vertical-align: top;\n    }\n\n    .dataframe thead th {\n        text-align: right;\n    }\n</style>\n<table border=\"1\" class=\"dataframe\">\n  <thead>\n    <tr style=\"text-align: right;\">\n      <th></th>\n      <th>open</th>\n      <th>high</th>\n      <th>low</th>\n      <th>close</th>\n      <th>volume</th>\n      <th>open</th>\n      <th>high</th>\n      <th>low</th>\n      <th>close</th>\n      <th>volume</th>\n      <th>open</th>\n      <th>high</th>\n      <th>low</th>\n      <th>close</th>\n      <th>volume</th>\n    </tr>\n  </thead>\n  <tbody>\n    <tr>\n      <th>2010-06-09 00:00:00-04:00</th>\n      <td>25.12</td>\n      <td>25.25</td>\n      <td>25.1200</td>\n      <td>25.1500</td>\n      <td>1700.0</td>\n      <td>NaN</td>\n      <td>NaN</td>\n      <td>NaN</td>\n      <td>NaN</td>\n      <td>NaN</td>\n      <td>NaN</td>\n      <td>NaN</td>\n      <td>NaN</td>\n      <td>NaN</td>\n      <td>NaN</td>\n    </tr>\n    <tr>\n      <th>2010-06-10 00:00:00-04:00</th>\n      <td>25.46</td>\n      <td>25.46</td>\n      <td>25.4599</td>\n      <td>25.4599</td>\n      <td>200.0</td>\n      <td>NaN</td>\n      <td>NaN</td>\n      <td>NaN</td>\n      <td>NaN</td>\n      <td>NaN</td>\n      <td>NaN</td>\n      <td>NaN</td>\n      <td>NaN</td>\n      <td>NaN</td>\n      <td>NaN</td>\n    </tr>\n    <tr>\n      <th>2010-06-11 00:00:00-04:00</th>\n      <td>25.88</td>\n      <td>25.88</td>\n      <td>25.7913</td>\n      <td>25.7913</td>\n      <td>500.0</td>\n      <td>NaN</td>\n      <td>NaN</td>\n      <td>NaN</td>\n      <td>NaN</td>\n      <td>NaN</td>\n      <td>NaN</td>\n      <td>NaN</td>\n      <td>NaN</td>\n      <td>NaN</td>\n      <td>NaN</td>\n    </tr>\n    <tr>\n      <th>2010-06-14 00:00:00-04:00</th>\n      <td>25.99</td>\n      <td>26.11</td>\n      <td>25.9900</td>\n      <td>26.1100</td>\n      <td>2247.0</td>\n      <td>NaN</td>\n      <td>NaN</td>\n      <td>NaN</td>\n      <td>NaN</td>\n      <td>NaN</td>\n      <td>NaN</td>\n      <td>NaN</td>\n      <td>NaN</td>\n      <td>NaN</td>\n      <td>NaN</td>\n    </tr>\n    <tr>\n      <th>2010-06-15 00:00:00-04:00</th>\n      <td>26.24</td>\n      <td>26.24</td>\n      <td>25.9690</td>\n      <td>25.9690</td>\n      <td>6955.0</td>\n      <td>NaN</td>\n      <td>NaN</td>\n      <td>NaN</td>\n      <td>NaN</td>\n      <td>NaN</td>\n      <td>NaN</td>\n      <td>NaN</td>\n      <td>NaN</td>\n      <td>NaN</td>\n      <td>NaN</td>\n    </tr>\n    <tr>\n      <th>2010-06-16 00:00:00-04:00</th>\n      <td>26.26</td>\n      <td>26.44</td>\n      <td>26.1999</td>\n      <td>26.3200</td>\n      <td>2200.0</td>\n      <td>NaN</td>\n      <td>NaN</td>\n      <td>NaN</td>\n      <td>NaN</td>\n      <td>NaN</td>\n      <td>NaN</td>\n      <td>NaN</td>\n      <td>NaN</td>\n      <td>NaN</td>\n      <td>NaN</td>\n    </tr>\n    <tr>\n      <th>2010-06-17 00:00:00-04:00</th>\n      <td>26.20</td>\n      <td>26.20</td>\n      <td>25.8200</td>\n      <td>26.0800</td>\n      <td>1600.0</td>\n      <td>NaN</td>\n      <td>NaN</td>\n      <td>NaN</td>\n      <td>NaN</td>\n      <td>NaN</td>\n      <td>NaN</td>\n      <td>NaN</td>\n      <td>NaN</td>\n      <td>NaN</td>\n      <td>NaN</td>\n    </tr>\n    <tr>\n      <th>2010-06-18 00:00:00-04:00</th>\n      <td>26.22</td>\n      <td>26.60</td>\n      <td>26.2199</td>\n      <td>26.3900</td>\n      <td>3125.0</td>\n      <td>NaN</td>\n      <td>NaN</td>\n      <td>NaN</td>\n      <td>NaN</td>\n      <td>NaN</td>\n      <td>NaN</td>\n      <td>NaN</td>\n      <td>NaN</td>\n      <td>NaN</td>\n      <td>NaN</td>\n    </tr>\n    <tr>\n      <th>2010-06-21 00:00:00-04:00</th>\n      <td>26.35</td>\n      <td>26.35</td>\n      <td>25.7000</td>\n      <td>25.9799</td>\n      <td>9500.0</td>\n      <td>NaN</td>\n      <td>NaN</td>\n      <td>NaN</td>\n      <td>NaN</td>\n      <td>NaN</td>\n      <td>NaN</td>\n      <td>NaN</td>\n      <td>NaN</td>\n      <td>NaN</td>\n      <td>NaN</td>\n    </tr>\n    <tr>\n      <th>2010-06-22 00:00:00-04:00</th>\n      <td>25.90</td>\n      <td>25.90</td>\n      <td>25.6600</td>\n      <td>25.6864</td>\n      <td>28700.0</td>\n      <td>NaN</td>\n      <td>NaN</td>\n      <td>NaN</td>\n      <td>NaN</td>\n      <td>NaN</td>\n      <td>NaN</td>\n      <td>NaN</td>\n      <td>NaN</td>\n      <td>NaN</td>\n      <td>NaN</td>\n    </tr>\n  </tbody>\n</table>\n</div>"
     },
     "metadata": {},
     "execution_count": 8
    }
   ],
   "source": [
    "df_etf_data.head(10)"
   ]
  },
  {
   "cell_type": "code",
   "execution_count": 9,
   "metadata": {},
   "outputs": [
    {
     "output_type": "execute_result",
     "data": {
      "text/plain": [
       "                            open   high     low   close     volume     open  \\\n",
       "2020-09-25 00:00:00-04:00  12.76  12.81  12.700  12.730   168089.0  15.4800   \n",
       "2020-09-28 00:00:00-04:00  12.69  12.85  12.590  12.779   321282.0  15.5300   \n",
       "2020-09-29 00:00:00-04:00  12.72  12.74  12.645  12.720   160606.0  15.4500   \n",
       "2020-09-30 00:00:00-04:00  12.72  13.28  12.690  13.100  1179792.0  15.4400   \n",
       "2020-10-01 00:00:00-04:00  13.25  13.30  13.200  13.230   140633.0  15.9101   \n",
       "\n",
       "                              high    low    close    volume  open    high  \\\n",
       "2020-09-25 00:00:00-04:00  15.6300  15.46  15.5325  142710.0  5.45  5.4700   \n",
       "2020-09-28 00:00:00-04:00  15.5300  15.40  15.4812  136101.0  5.42  5.5000   \n",
       "2020-09-29 00:00:00-04:00  15.5500  15.35  15.4100  157959.0  5.49  5.5099   \n",
       "2020-09-30 00:00:00-04:00  15.9941  15.38  15.8409  429408.0  5.52  5.7900   \n",
       "2020-10-01 00:00:00-04:00  15.9500  15.85  15.9000  125880.0  5.72  5.7200   \n",
       "\n",
       "                            low  close    volume  \n",
       "2020-09-25 00:00:00-04:00  5.43  5.430  115228.0  \n",
       "2020-09-28 00:00:00-04:00  5.38  5.490  127091.0  \n",
       "2020-09-29 00:00:00-04:00  5.45  5.485  144401.0  \n",
       "2020-09-30 00:00:00-04:00  5.52  5.710  327629.0  \n",
       "2020-10-01 00:00:00-04:00  5.64  5.660  191546.0  "
      ],
      "text/html": "<div>\n<style scoped>\n    .dataframe tbody tr th:only-of-type {\n        vertical-align: middle;\n    }\n\n    .dataframe tbody tr th {\n        vertical-align: top;\n    }\n\n    .dataframe thead th {\n        text-align: right;\n    }\n</style>\n<table border=\"1\" class=\"dataframe\">\n  <thead>\n    <tr style=\"text-align: right;\">\n      <th></th>\n      <th>open</th>\n      <th>high</th>\n      <th>low</th>\n      <th>close</th>\n      <th>volume</th>\n      <th>open</th>\n      <th>high</th>\n      <th>low</th>\n      <th>close</th>\n      <th>volume</th>\n      <th>open</th>\n      <th>high</th>\n      <th>low</th>\n      <th>close</th>\n      <th>volume</th>\n    </tr>\n  </thead>\n  <tbody>\n    <tr>\n      <th>2020-09-25 00:00:00-04:00</th>\n      <td>12.76</td>\n      <td>12.81</td>\n      <td>12.700</td>\n      <td>12.730</td>\n      <td>168089.0</td>\n      <td>15.4800</td>\n      <td>15.6300</td>\n      <td>15.46</td>\n      <td>15.5325</td>\n      <td>142710.0</td>\n      <td>5.45</td>\n      <td>5.4700</td>\n      <td>5.43</td>\n      <td>5.430</td>\n      <td>115228.0</td>\n    </tr>\n    <tr>\n      <th>2020-09-28 00:00:00-04:00</th>\n      <td>12.69</td>\n      <td>12.85</td>\n      <td>12.590</td>\n      <td>12.779</td>\n      <td>321282.0</td>\n      <td>15.5300</td>\n      <td>15.5300</td>\n      <td>15.40</td>\n      <td>15.4812</td>\n      <td>136101.0</td>\n      <td>5.42</td>\n      <td>5.5000</td>\n      <td>5.38</td>\n      <td>5.490</td>\n      <td>127091.0</td>\n    </tr>\n    <tr>\n      <th>2020-09-29 00:00:00-04:00</th>\n      <td>12.72</td>\n      <td>12.74</td>\n      <td>12.645</td>\n      <td>12.720</td>\n      <td>160606.0</td>\n      <td>15.4500</td>\n      <td>15.5500</td>\n      <td>15.35</td>\n      <td>15.4100</td>\n      <td>157959.0</td>\n      <td>5.49</td>\n      <td>5.5099</td>\n      <td>5.45</td>\n      <td>5.485</td>\n      <td>144401.0</td>\n    </tr>\n    <tr>\n      <th>2020-09-30 00:00:00-04:00</th>\n      <td>12.72</td>\n      <td>13.28</td>\n      <td>12.690</td>\n      <td>13.100</td>\n      <td>1179792.0</td>\n      <td>15.4400</td>\n      <td>15.9941</td>\n      <td>15.38</td>\n      <td>15.8409</td>\n      <td>429408.0</td>\n      <td>5.52</td>\n      <td>5.7900</td>\n      <td>5.52</td>\n      <td>5.710</td>\n      <td>327629.0</td>\n    </tr>\n    <tr>\n      <th>2020-10-01 00:00:00-04:00</th>\n      <td>13.25</td>\n      <td>13.30</td>\n      <td>13.200</td>\n      <td>13.230</td>\n      <td>140633.0</td>\n      <td>15.9101</td>\n      <td>15.9500</td>\n      <td>15.85</td>\n      <td>15.9000</td>\n      <td>125880.0</td>\n      <td>5.72</td>\n      <td>5.7200</td>\n      <td>5.64</td>\n      <td>5.660</td>\n      <td>191546.0</td>\n    </tr>\n  </tbody>\n</table>\n</div>"
     },
     "metadata": {},
     "execution_count": 9
    }
   ],
   "source": [
    "df_etf_data.tail(5)"
   ]
  },
  {
   "cell_type": "code",
   "execution_count": 10,
   "metadata": {},
   "outputs": [
    {
     "output_type": "execute_result",
     "data": {
      "text/plain": [
       "                              CORN  WEAT  SOYB\n",
       "2010-06-09 00:00:00-04:00  25.1500   NaN   NaN\n",
       "2010-06-10 00:00:00-04:00  25.4599   NaN   NaN\n",
       "2010-06-11 00:00:00-04:00  25.7913   NaN   NaN\n",
       "2010-06-14 00:00:00-04:00  26.1100   NaN   NaN\n",
       "2010-06-15 00:00:00-04:00  25.9690   NaN   NaN"
      ],
      "text/html": "<div>\n<style scoped>\n    .dataframe tbody tr th:only-of-type {\n        vertical-align: middle;\n    }\n\n    .dataframe tbody tr th {\n        vertical-align: top;\n    }\n\n    .dataframe thead th {\n        text-align: right;\n    }\n</style>\n<table border=\"1\" class=\"dataframe\">\n  <thead>\n    <tr style=\"text-align: right;\">\n      <th></th>\n      <th>CORN</th>\n      <th>WEAT</th>\n      <th>SOYB</th>\n    </tr>\n  </thead>\n  <tbody>\n    <tr>\n      <th>2010-06-09 00:00:00-04:00</th>\n      <td>25.1500</td>\n      <td>NaN</td>\n      <td>NaN</td>\n    </tr>\n    <tr>\n      <th>2010-06-10 00:00:00-04:00</th>\n      <td>25.4599</td>\n      <td>NaN</td>\n      <td>NaN</td>\n    </tr>\n    <tr>\n      <th>2010-06-11 00:00:00-04:00</th>\n      <td>25.7913</td>\n      <td>NaN</td>\n      <td>NaN</td>\n    </tr>\n    <tr>\n      <th>2010-06-14 00:00:00-04:00</th>\n      <td>26.1100</td>\n      <td>NaN</td>\n      <td>NaN</td>\n    </tr>\n    <tr>\n      <th>2010-06-15 00:00:00-04:00</th>\n      <td>25.9690</td>\n      <td>NaN</td>\n      <td>NaN</td>\n    </tr>\n  </tbody>\n</table>\n</div>"
     },
     "metadata": {},
     "execution_count": 10
    }
   ],
   "source": [
    "# This step is to remove columns: open, high, low and volume\n",
    "df_etf_close_data = df_etf_data.drop(columns=[\"open\",\"high\",\"low\",\"volume\"])\n",
    "#df_etf_close_data.head()\n",
    "#this step is to change columns names to the ones defined on the list\n",
    "df_etf_close_data.columns = tickers \n",
    "df_etf_close_data.head()\n"
   ]
  },
  {
   "cell_type": "code",
   "execution_count": 11,
   "metadata": {},
   "outputs": [
    {
     "output_type": "execute_result",
     "data": {
      "text/plain": [
       "CORN      1\n",
       "WEAT    341\n",
       "SOYB    332\n",
       "dtype: int64"
      ]
     },
     "metadata": {},
     "execution_count": 11
    }
   ],
   "source": [
    "# this step is to check and drop null's\n",
    "df_etf_close_data.isnull().sum()\n"
   ]
  },
  {
   "cell_type": "code",
   "execution_count": 12,
   "metadata": {},
   "outputs": [
    {
     "output_type": "execute_result",
     "data": {
      "text/plain": [
       "CORN    0\n",
       "WEAT    0\n",
       "SOYB    0\n",
       "dtype: int64"
      ]
     },
     "metadata": {},
     "execution_count": 12
    }
   ],
   "source": [
    "df_etf_close_data.dropna(inplace =True)\n",
    "df_etf_close_data.isnull().sum()"
   ]
  },
  {
   "cell_type": "code",
   "execution_count": 13,
   "metadata": {},
   "outputs": [
    {
     "output_type": "execute_result",
     "data": {
      "text/plain": [
       "                          date    CORN     WEAT    SOYB\n",
       "0    2011-09-19 00:00:00-04:00  45.650  24.5500  24.570\n",
       "1    2011-09-20 00:00:00-04:00  45.540  25.0800  24.870\n",
       "2    2011-09-21 00:00:00-04:00  44.800  24.3400  24.230\n",
       "3    2011-09-22 00:00:00-04:00  42.990  24.0000  23.000\n",
       "4    2011-09-23 00:00:00-04:00  42.450  23.0000  23.560\n",
       "...                        ...     ...      ...     ...\n",
       "2245 2020-09-25 00:00:00-04:00  12.730  15.5325   5.430\n",
       "2246 2020-09-28 00:00:00-04:00  12.779  15.4812   5.490\n",
       "2247 2020-09-29 00:00:00-04:00  12.720  15.4100   5.485\n",
       "2248 2020-09-30 00:00:00-04:00  13.100  15.8409   5.710\n",
       "2249 2020-10-01 00:00:00-04:00  13.230  15.9000   5.660\n",
       "\n",
       "[2250 rows x 4 columns]"
      ],
      "text/html": "<div>\n<style scoped>\n    .dataframe tbody tr th:only-of-type {\n        vertical-align: middle;\n    }\n\n    .dataframe tbody tr th {\n        vertical-align: top;\n    }\n\n    .dataframe thead th {\n        text-align: right;\n    }\n</style>\n<table border=\"1\" class=\"dataframe\">\n  <thead>\n    <tr style=\"text-align: right;\">\n      <th></th>\n      <th>date</th>\n      <th>CORN</th>\n      <th>WEAT</th>\n      <th>SOYB</th>\n    </tr>\n  </thead>\n  <tbody>\n    <tr>\n      <th>0</th>\n      <td>2011-09-19 00:00:00-04:00</td>\n      <td>45.650</td>\n      <td>24.5500</td>\n      <td>24.570</td>\n    </tr>\n    <tr>\n      <th>1</th>\n      <td>2011-09-20 00:00:00-04:00</td>\n      <td>45.540</td>\n      <td>25.0800</td>\n      <td>24.870</td>\n    </tr>\n    <tr>\n      <th>2</th>\n      <td>2011-09-21 00:00:00-04:00</td>\n      <td>44.800</td>\n      <td>24.3400</td>\n      <td>24.230</td>\n    </tr>\n    <tr>\n      <th>3</th>\n      <td>2011-09-22 00:00:00-04:00</td>\n      <td>42.990</td>\n      <td>24.0000</td>\n      <td>23.000</td>\n    </tr>\n    <tr>\n      <th>4</th>\n      <td>2011-09-23 00:00:00-04:00</td>\n      <td>42.450</td>\n      <td>23.0000</td>\n      <td>23.560</td>\n    </tr>\n    <tr>\n      <th>...</th>\n      <td>...</td>\n      <td>...</td>\n      <td>...</td>\n      <td>...</td>\n    </tr>\n    <tr>\n      <th>2245</th>\n      <td>2020-09-25 00:00:00-04:00</td>\n      <td>12.730</td>\n      <td>15.5325</td>\n      <td>5.430</td>\n    </tr>\n    <tr>\n      <th>2246</th>\n      <td>2020-09-28 00:00:00-04:00</td>\n      <td>12.779</td>\n      <td>15.4812</td>\n      <td>5.490</td>\n    </tr>\n    <tr>\n      <th>2247</th>\n      <td>2020-09-29 00:00:00-04:00</td>\n      <td>12.720</td>\n      <td>15.4100</td>\n      <td>5.485</td>\n    </tr>\n    <tr>\n      <th>2248</th>\n      <td>2020-09-30 00:00:00-04:00</td>\n      <td>13.100</td>\n      <td>15.8409</td>\n      <td>5.710</td>\n    </tr>\n    <tr>\n      <th>2249</th>\n      <td>2020-10-01 00:00:00-04:00</td>\n      <td>13.230</td>\n      <td>15.9000</td>\n      <td>5.660</td>\n    </tr>\n  </tbody>\n</table>\n<p>2250 rows × 4 columns</p>\n</div>"
     },
     "metadata": {},
     "execution_count": 13
    }
   ],
   "source": [
    "# Reset index to remove time from date index\n",
    "df_etf_close_data.reset_index(inplace=True)\n",
    "#df_etf_close_data.head()\n",
    "df_etf_close_data.rename(columns={\"index\":\"date\"},inplace=True)\n",
    "#df_etf_close_data.head()\n",
    "df_etf_close_data\n"
   ]
  },
  {
   "cell_type": "code",
   "execution_count": 20,
   "metadata": {},
   "outputs": [
    {
     "output_type": "execute_result",
     "data": {
      "text/plain": [
       "            date    CORN     WEAT    SOYB\n",
       "0     2011-09-19  45.650  24.5500  24.570\n",
       "1     2011-09-20  45.540  25.0800  24.870\n",
       "2     2011-09-21  44.800  24.3400  24.230\n",
       "3     2011-09-22  42.990  24.0000  23.000\n",
       "4     2011-09-23  42.450  23.0000  23.560\n",
       "...          ...     ...      ...     ...\n",
       "2245  2020-09-25  12.730  15.5325   5.430\n",
       "2246  2020-09-28  12.779  15.4812   5.490\n",
       "2247  2020-09-29  12.720  15.4100   5.485\n",
       "2248  2020-09-30  13.100  15.8409   5.710\n",
       "2249  2020-10-01  13.230  15.9000   5.660\n",
       "\n",
       "[2250 rows x 4 columns]"
      ],
      "text/html": "<div>\n<style scoped>\n    .dataframe tbody tr th:only-of-type {\n        vertical-align: middle;\n    }\n\n    .dataframe tbody tr th {\n        vertical-align: top;\n    }\n\n    .dataframe thead th {\n        text-align: right;\n    }\n</style>\n<table border=\"1\" class=\"dataframe\">\n  <thead>\n    <tr style=\"text-align: right;\">\n      <th></th>\n      <th>date</th>\n      <th>CORN</th>\n      <th>WEAT</th>\n      <th>SOYB</th>\n    </tr>\n  </thead>\n  <tbody>\n    <tr>\n      <th>0</th>\n      <td>2011-09-19</td>\n      <td>45.650</td>\n      <td>24.5500</td>\n      <td>24.570</td>\n    </tr>\n    <tr>\n      <th>1</th>\n      <td>2011-09-20</td>\n      <td>45.540</td>\n      <td>25.0800</td>\n      <td>24.870</td>\n    </tr>\n    <tr>\n      <th>2</th>\n      <td>2011-09-21</td>\n      <td>44.800</td>\n      <td>24.3400</td>\n      <td>24.230</td>\n    </tr>\n    <tr>\n      <th>3</th>\n      <td>2011-09-22</td>\n      <td>42.990</td>\n      <td>24.0000</td>\n      <td>23.000</td>\n    </tr>\n    <tr>\n      <th>4</th>\n      <td>2011-09-23</td>\n      <td>42.450</td>\n      <td>23.0000</td>\n      <td>23.560</td>\n    </tr>\n    <tr>\n      <th>...</th>\n      <td>...</td>\n      <td>...</td>\n      <td>...</td>\n      <td>...</td>\n    </tr>\n    <tr>\n      <th>2245</th>\n      <td>2020-09-25</td>\n      <td>12.730</td>\n      <td>15.5325</td>\n      <td>5.430</td>\n    </tr>\n    <tr>\n      <th>2246</th>\n      <td>2020-09-28</td>\n      <td>12.779</td>\n      <td>15.4812</td>\n      <td>5.490</td>\n    </tr>\n    <tr>\n      <th>2247</th>\n      <td>2020-09-29</td>\n      <td>12.720</td>\n      <td>15.4100</td>\n      <td>5.485</td>\n    </tr>\n    <tr>\n      <th>2248</th>\n      <td>2020-09-30</td>\n      <td>13.100</td>\n      <td>15.8409</td>\n      <td>5.710</td>\n    </tr>\n    <tr>\n      <th>2249</th>\n      <td>2020-10-01</td>\n      <td>13.230</td>\n      <td>15.9000</td>\n      <td>5.660</td>\n    </tr>\n  </tbody>\n</table>\n<p>2250 rows × 4 columns</p>\n</div>"
     },
     "metadata": {},
     "execution_count": 20
    }
   ],
   "source": [
    "df_etf_close_data['date'] = pd.to_datetime(df_etf_close_data['date']).dt.date\n",
    "df_etf_close_data\n"
   ]
  },
  {
   "cell_type": "code",
   "execution_count": 24,
   "metadata": {},
   "outputs": [
    {
     "output_type": "execute_result",
     "data": {
      "text/plain": [
       "             CORN   WEAT   SOYB\n",
       "date                           \n",
       "2011-09-19  45.65  24.55  24.57\n",
       "2011-09-20  45.54  25.08  24.87\n",
       "2011-09-21  44.80  24.34  24.23\n",
       "2011-09-22  42.99  24.00  23.00\n",
       "2011-09-23  42.45  23.00  23.56"
      ],
      "text/html": "<div>\n<style scoped>\n    .dataframe tbody tr th:only-of-type {\n        vertical-align: middle;\n    }\n\n    .dataframe tbody tr th {\n        vertical-align: top;\n    }\n\n    .dataframe thead th {\n        text-align: right;\n    }\n</style>\n<table border=\"1\" class=\"dataframe\">\n  <thead>\n    <tr style=\"text-align: right;\">\n      <th></th>\n      <th>CORN</th>\n      <th>WEAT</th>\n      <th>SOYB</th>\n    </tr>\n    <tr>\n      <th>date</th>\n      <th></th>\n      <th></th>\n      <th></th>\n    </tr>\n  </thead>\n  <tbody>\n    <tr>\n      <th>2011-09-19</th>\n      <td>45.65</td>\n      <td>24.55</td>\n      <td>24.57</td>\n    </tr>\n    <tr>\n      <th>2011-09-20</th>\n      <td>45.54</td>\n      <td>25.08</td>\n      <td>24.87</td>\n    </tr>\n    <tr>\n      <th>2011-09-21</th>\n      <td>44.80</td>\n      <td>24.34</td>\n      <td>24.23</td>\n    </tr>\n    <tr>\n      <th>2011-09-22</th>\n      <td>42.99</td>\n      <td>24.00</td>\n      <td>23.00</td>\n    </tr>\n    <tr>\n      <th>2011-09-23</th>\n      <td>42.45</td>\n      <td>23.00</td>\n      <td>23.56</td>\n    </tr>\n  </tbody>\n</table>\n</div>"
     },
     "metadata": {},
     "execution_count": 24
    }
   ],
   "source": [
    "# Reset the date as index\n",
    "\n",
    "df_etf_close_data_final = df_etf_close_data.set_index('date')\n",
    "df_etf_close_data_final.head()"
   ]
  },
  {
   "cell_type": "code",
   "execution_count": 25,
   "metadata": {},
   "outputs": [
    {
     "output_type": "execute_result",
     "data": {
      "text/plain": [
       "             corn   weat   soyb\n",
       "date                           \n",
       "2011-09-19  45.65  24.55  24.57\n",
       "2011-09-20  45.54  25.08  24.87"
      ],
      "text/html": "<div>\n<style scoped>\n    .dataframe tbody tr th:only-of-type {\n        vertical-align: middle;\n    }\n\n    .dataframe tbody tr th {\n        vertical-align: top;\n    }\n\n    .dataframe thead th {\n        text-align: right;\n    }\n</style>\n<table border=\"1\" class=\"dataframe\">\n  <thead>\n    <tr style=\"text-align: right;\">\n      <th></th>\n      <th>corn</th>\n      <th>weat</th>\n      <th>soyb</th>\n    </tr>\n    <tr>\n      <th>date</th>\n      <th></th>\n      <th></th>\n      <th></th>\n    </tr>\n  </thead>\n  <tbody>\n    <tr>\n      <th>2011-09-19</th>\n      <td>45.65</td>\n      <td>24.55</td>\n      <td>24.57</td>\n    </tr>\n    <tr>\n      <th>2011-09-20</th>\n      <td>45.54</td>\n      <td>25.08</td>\n      <td>24.87</td>\n    </tr>\n  </tbody>\n</table>\n</div>"
     },
     "metadata": {},
     "execution_count": 25
    }
   ],
   "source": [
    "# final adjustment - change the columns to lowercase to meet convention\n",
    "df_etf_close_data_final.columns = df_etf_close_data_final.columns.str.lower()\n",
    "\n",
    "df_etf_close_data_final.head(2)"
   ]
  },
  {
   "source": [
    "# Part 2 - Extract csv files for futures data\n",
    "\n",
    "Source: csv file from Tradestation "
   ],
   "cell_type": "markdown",
   "metadata": {}
  },
  {
   "cell_type": "code",
   "execution_count": 14,
   "metadata": {},
   "outputs": [],
   "source": [
    "# Import relevant libraries\n",
    "from pathlib import Path\n",
    "import csv\n",
    "\n"
   ]
  },
  {
   "cell_type": "code",
   "execution_count": 15,
   "metadata": {},
   "outputs": [
    {
     "output_type": "execute_result",
     "data": {
      "text/plain": [
       "              corn\n",
       "Date              \n",
       "2000-10-26  213.75\n",
       "2000-10-27  212.50\n",
       "2000-10-30  212.00\n",
       "2000-10-31  217.50\n",
       "2000-11-01  217.50"
      ],
      "text/html": "<div>\n<style scoped>\n    .dataframe tbody tr th:only-of-type {\n        vertical-align: middle;\n    }\n\n    .dataframe tbody tr th {\n        vertical-align: top;\n    }\n\n    .dataframe thead th {\n        text-align: right;\n    }\n</style>\n<table border=\"1\" class=\"dataframe\">\n  <thead>\n    <tr style=\"text-align: right;\">\n      <th></th>\n      <th>corn</th>\n    </tr>\n    <tr>\n      <th>Date</th>\n      <th></th>\n    </tr>\n  </thead>\n  <tbody>\n    <tr>\n      <th>2000-10-26</th>\n      <td>213.75</td>\n    </tr>\n    <tr>\n      <th>2000-10-27</th>\n      <td>212.50</td>\n    </tr>\n    <tr>\n      <th>2000-10-30</th>\n      <td>212.00</td>\n    </tr>\n    <tr>\n      <th>2000-10-31</th>\n      <td>217.50</td>\n    </tr>\n    <tr>\n      <th>2000-11-01</th>\n      <td>217.50</td>\n    </tr>\n  </tbody>\n</table>\n</div>"
     },
     "metadata": {},
     "execution_count": 15
    }
   ],
   "source": [
    "# Read each csv file\n",
    "corn_csv = Path(\"raw_data/corn_daily.csv\")\n",
    "df_corn = pd.read_csv(corn_csv, infer_datetime_format= True, parse_dates = True, index_col= \"Date\")\n",
    "df_corn.drop(columns=[\"Time\",\"Open\",\"High\",\"Low\", \"Vol\",\"OI\"], inplace=True)\n",
    "df_corn.columns = [\"corn\"]\n",
    "df_corn.head()"
   ]
  },
  {
   "cell_type": "code",
   "execution_count": 29,
   "metadata": {},
   "outputs": [
    {
     "output_type": "execute_result",
     "data": {
      "text/plain": [
       "             cornf\n",
       "Date              \n",
       "2000-10-26  213.75\n",
       "2000-10-27  212.50"
      ],
      "text/html": "<div>\n<style scoped>\n    .dataframe tbody tr th:only-of-type {\n        vertical-align: middle;\n    }\n\n    .dataframe tbody tr th {\n        vertical-align: top;\n    }\n\n    .dataframe thead th {\n        text-align: right;\n    }\n</style>\n<table border=\"1\" class=\"dataframe\">\n  <thead>\n    <tr style=\"text-align: right;\">\n      <th></th>\n      <th>cornf</th>\n    </tr>\n    <tr>\n      <th>Date</th>\n      <th></th>\n    </tr>\n  </thead>\n  <tbody>\n    <tr>\n      <th>2000-10-26</th>\n      <td>213.75</td>\n    </tr>\n    <tr>\n      <th>2000-10-27</th>\n      <td>212.50</td>\n    </tr>\n  </tbody>\n</table>\n</div>"
     },
     "metadata": {},
     "execution_count": 29
    }
   ],
   "source": [
    "\n",
    "def csvexatract_df (filepath,col_name):\n",
    "    dest_name = pd.read_csv(filepath, infer_datetime_format= True, parse_dates = True, index_col= \"Date\")\n",
    "    dest_name.drop(columns=[\"Time\",\"Open\",\"High\",\"Low\", \"Vol\",\"OI\"], inplace=True)\n",
    "    dest_name.columns = [col_name]\n",
    "    return dest_name\n",
    "\n",
    "cornf = csvexatract_df (corn_csv,\"cornf\")\n",
    "cornf.head(2)\n",
    "\n"
   ]
  },
  {
   "cell_type": "code",
   "execution_count": 30,
   "metadata": {},
   "outputs": [
    {
     "output_type": "execute_result",
     "data": {
      "text/plain": [
       "             soybf\n",
       "Date              \n",
       "2000-10-26  503.75\n",
       "2000-10-27  500.50"
      ],
      "text/html": "<div>\n<style scoped>\n    .dataframe tbody tr th:only-of-type {\n        vertical-align: middle;\n    }\n\n    .dataframe tbody tr th {\n        vertical-align: top;\n    }\n\n    .dataframe thead th {\n        text-align: right;\n    }\n</style>\n<table border=\"1\" class=\"dataframe\">\n  <thead>\n    <tr style=\"text-align: right;\">\n      <th></th>\n      <th>soybf</th>\n    </tr>\n    <tr>\n      <th>Date</th>\n      <th></th>\n    </tr>\n  </thead>\n  <tbody>\n    <tr>\n      <th>2000-10-26</th>\n      <td>503.75</td>\n    </tr>\n    <tr>\n      <th>2000-10-27</th>\n      <td>500.50</td>\n    </tr>\n  </tbody>\n</table>\n</div>"
     },
     "metadata": {},
     "execution_count": 30
    }
   ],
   "source": [
    "soybean_csv = Path(\"raw_data/soybeans_daily.csv\")\n",
    "soybeanf_df = csvexatract_df(soybean_csv,\"soybf\")\n",
    "soybeanf_df.head(2)"
   ]
  },
  {
   "cell_type": "code",
   "execution_count": 31,
   "metadata": {},
   "outputs": [
    {
     "output_type": "execute_result",
     "data": {
      "text/plain": [
       "            wheatf\n",
       "Date              \n",
       "2000-10-26   313.0\n",
       "2000-10-27   315.5"
      ],
      "text/html": "<div>\n<style scoped>\n    .dataframe tbody tr th:only-of-type {\n        vertical-align: middle;\n    }\n\n    .dataframe tbody tr th {\n        vertical-align: top;\n    }\n\n    .dataframe thead th {\n        text-align: right;\n    }\n</style>\n<table border=\"1\" class=\"dataframe\">\n  <thead>\n    <tr style=\"text-align: right;\">\n      <th></th>\n      <th>wheatf</th>\n    </tr>\n    <tr>\n      <th>Date</th>\n      <th></th>\n    </tr>\n  </thead>\n  <tbody>\n    <tr>\n      <th>2000-10-26</th>\n      <td>313.0</td>\n    </tr>\n    <tr>\n      <th>2000-10-27</th>\n      <td>315.5</td>\n    </tr>\n  </tbody>\n</table>\n</div>"
     },
     "metadata": {},
     "execution_count": 31
    }
   ],
   "source": [
    "wheat_csv = Path(\"raw_data/wheat_daily.csv\")\n",
    "wheatf_df = csvexatract_df(wheat_csv,\"wheatf\")\n",
    "wheatf_df.head(2)"
   ]
  },
  {
   "cell_type": "code",
   "execution_count": 33,
   "metadata": {},
   "outputs": [
    {
     "output_type": "execute_result",
     "data": {
      "text/plain": [
       "             cornf   soybf  wheatf\n",
       "Date                              \n",
       "2000-10-26  213.75  503.75  313.00\n",
       "2000-10-27  212.50  500.50  315.50\n",
       "2000-10-30  212.00  502.75  312.25\n",
       "2000-10-31  217.50  504.00  312.25\n",
       "2000-11-01  217.50  505.00  311.75"
      ],
      "text/html": "<div>\n<style scoped>\n    .dataframe tbody tr th:only-of-type {\n        vertical-align: middle;\n    }\n\n    .dataframe tbody tr th {\n        vertical-align: top;\n    }\n\n    .dataframe thead th {\n        text-align: right;\n    }\n</style>\n<table border=\"1\" class=\"dataframe\">\n  <thead>\n    <tr style=\"text-align: right;\">\n      <th></th>\n      <th>cornf</th>\n      <th>soybf</th>\n      <th>wheatf</th>\n    </tr>\n    <tr>\n      <th>Date</th>\n      <th></th>\n      <th></th>\n      <th></th>\n    </tr>\n  </thead>\n  <tbody>\n    <tr>\n      <th>2000-10-26</th>\n      <td>213.75</td>\n      <td>503.75</td>\n      <td>313.00</td>\n    </tr>\n    <tr>\n      <th>2000-10-27</th>\n      <td>212.50</td>\n      <td>500.50</td>\n      <td>315.50</td>\n    </tr>\n    <tr>\n      <th>2000-10-30</th>\n      <td>212.00</td>\n      <td>502.75</td>\n      <td>312.25</td>\n    </tr>\n    <tr>\n      <th>2000-10-31</th>\n      <td>217.50</td>\n      <td>504.00</td>\n      <td>312.25</td>\n    </tr>\n    <tr>\n      <th>2000-11-01</th>\n      <td>217.50</td>\n      <td>505.00</td>\n      <td>311.75</td>\n    </tr>\n  </tbody>\n</table>\n</div>"
     },
     "metadata": {},
     "execution_count": 33
    }
   ],
   "source": [
    "df_futures = pd.concat([cornf,soybeanf_df,wheatf_df], axis=\"columns\", join=\"inner\")\n",
    "df_futures.head()"
   ]
  },
  {
   "source": [
    "# Part 3 - Prepare Combined dataframe and export to clean data folder\n",
    "\n"
   ],
   "cell_type": "markdown",
   "metadata": {}
  },
  {
   "cell_type": "code",
   "execution_count": 34,
   "metadata": {},
   "outputs": [
    {
     "output_type": "execute_result",
     "data": {
      "text/plain": [
       "             corn   weat   soyb   cornf   soybf  wheatf\n",
       "2011-09-19  45.65  24.55  24.57  692.25  1336.0  673.00\n",
       "2011-09-20  45.54  25.08  24.87  690.25  1338.0  674.75"
      ],
      "text/html": "<div>\n<style scoped>\n    .dataframe tbody tr th:only-of-type {\n        vertical-align: middle;\n    }\n\n    .dataframe tbody tr th {\n        vertical-align: top;\n    }\n\n    .dataframe thead th {\n        text-align: right;\n    }\n</style>\n<table border=\"1\" class=\"dataframe\">\n  <thead>\n    <tr style=\"text-align: right;\">\n      <th></th>\n      <th>corn</th>\n      <th>weat</th>\n      <th>soyb</th>\n      <th>cornf</th>\n      <th>soybf</th>\n      <th>wheatf</th>\n    </tr>\n  </thead>\n  <tbody>\n    <tr>\n      <th>2011-09-19</th>\n      <td>45.65</td>\n      <td>24.55</td>\n      <td>24.57</td>\n      <td>692.25</td>\n      <td>1336.0</td>\n      <td>673.00</td>\n    </tr>\n    <tr>\n      <th>2011-09-20</th>\n      <td>45.54</td>\n      <td>25.08</td>\n      <td>24.87</td>\n      <td>690.25</td>\n      <td>1338.0</td>\n      <td>674.75</td>\n    </tr>\n  </tbody>\n</table>\n</div>"
     },
     "metadata": {},
     "execution_count": 34
    }
   ],
   "source": [
    "# Concatenate stock dataframe with futures dataframe\n",
    "\n",
    "df_comb_stock_futures = pd.concat([df_etf_close_data_final,df_futures,],axis=\"columns\", join=\"inner\")\n",
    "df_comb_stock_futures.head(2)"
   ]
  },
  {
   "cell_type": "code",
   "execution_count": 35,
   "metadata": {},
   "outputs": [],
   "source": [
    "# Writeup final csv file and save it on clean data folder\n",
    "\n",
    "outputpath = Path('clean_data/hist_daily_stock_fut_price.csv')\n",
    "\n",
    "df_comb_stock_futures.to_csv(outputpath)"
   ]
  },
  {
   "cell_type": "code",
   "execution_count": null,
   "metadata": {},
   "outputs": [],
   "source": []
  }
 ]
}