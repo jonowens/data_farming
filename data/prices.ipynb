{
 "metadata": {
  "language_info": {
   "codemirror_mode": {
    "name": "ipython",
    "version": 3
   },
   "file_extension": ".py",
   "mimetype": "text/x-python",
   "name": "python",
   "nbconvert_exporter": "python",
   "pygments_lexer": "ipython3",
   "version": "3.8.3-final"
  },
  "orig_nbformat": 2,
  "kernelspec": {
   "name": "Python 3.8.3 64-bit ('base': conda)",
   "display_name": "Python 3.8.3 64-bit ('base': conda)",
   "metadata": {
    "interpreter": {
     "hash": "ad325eb2062f4ba0a904c20d805e4fe434252bd0d867ca2161e7f9dc4ab32e90"
    }
   }
  }
 },
 "nbformat": 4,
 "nbformat_minor": 2,
 "cells": [
  {
   "cell_type": "code",
   "execution_count": 19,
   "metadata": {},
   "outputs": [],
   "source": [
    "'''\n",
    " Prepared by Carolina B.\n",
    "\n",
    " This file consists of 3 parts:\n",
    " 1) daily price data extraction of agricultural ETF's:\n",
    " Corn: CORN,\n",
    " Wheat: WEAT,\n",
    " Soybeans: SOYB \n",
    "\n",
    " 2) Cleaning of daily prices of futures market (extracted from Tradestation):\n",
    " corn_daily.csv, soybeans_daily.csv and wheat_daily.csv\n",
    "\n",
    " 3) Concatenation and grouping of the daily data from each asset and compiled\n",
    " into one set of clean data \n",
    "\n",
    " \n",
    "'''\n",
    "# Import libraries \n",
    "import os\n",
    "import requests\n",
    "import pandas as pd\n",
    "from dotenv import load_dotenv\n",
    "import alpaca_trade_api as tradeapi\n"
   ]
  },
  {
   "source": [
    "# PART 1 - Extraction and Cleaning of agricultural ETF's \n",
    "\n",
    "Source: ALPACA API"
   ],
   "cell_type": "markdown",
   "metadata": {}
  },
  {
   "cell_type": "code",
   "execution_count": 20,
   "metadata": {},
   "outputs": [],
   "source": [
    "# Import json as per API documentation for Alpaca\n",
    "import json\n"
   ]
  },
  {
   "cell_type": "code",
   "execution_count": 21,
   "metadata": {},
   "outputs": [
    {
     "output_type": "execute_result",
     "data": {
      "text/plain": [
       "True"
      ]
     },
     "metadata": {},
     "execution_count": 21
    }
   ],
   "source": [
    "# Load .env enviroment variables\n",
    "load_dotenv()"
   ]
  },
  {
   "cell_type": "code",
   "execution_count": 26,
   "metadata": {},
   "outputs": [],
   "source": [
    "alpaca_api_key = os.getenv(\"ALPACA_API_KEY\")\n",
    "alpaca_secret_key = os.getenv(\"ALPACA_SECRET_KEY\")\n",
    "type(alpaca_api_key)\n",
    "\n",
    "# Create the Alpaca API object\n",
    "\n",
    "alpaca_trade = tradeapi.REST(\n",
    "    alpaca_api_key,\n",
    "    alpaca_secret_key,\n",
    "    api_version=\"v2\"\n",
    ")\n",
    "\n",
    "tickers = [\"CORN\", \"WEAT\", \"SOYB\"]\n",
    "timeframe = \"1D\""
   ]
  },
  {
   "cell_type": "code",
   "execution_count": 44,
   "metadata": {},
   "outputs": [
    {
     "output_type": "execute_result",
     "data": {
      "text/plain": [
       "                            CORN                                  SOYB       \\\n",
       "                            open   high      low    close  volume open high   \n",
       "2010-06-09 00:00:00-04:00  25.12  25.25  25.1200  25.1500  1700.0  NaN  NaN   \n",
       "2010-06-10 00:00:00-04:00  25.46  25.46  25.4599  25.4599   200.0  NaN  NaN   \n",
       "2010-06-11 00:00:00-04:00  25.88  25.88  25.7913  25.7913   500.0  NaN  NaN   \n",
       "2010-06-14 00:00:00-04:00  25.99  26.11  25.9900  26.1100  2247.0  NaN  NaN   \n",
       "2010-06-15 00:00:00-04:00  26.24  26.24  25.9690  25.9690  6955.0  NaN  NaN   \n",
       "\n",
       "                                           WEAT                        \n",
       "                          low close volume open high low close volume  \n",
       "2010-06-09 00:00:00-04:00 NaN   NaN    NaN  NaN  NaN NaN   NaN    NaN  \n",
       "2010-06-10 00:00:00-04:00 NaN   NaN    NaN  NaN  NaN NaN   NaN    NaN  \n",
       "2010-06-11 00:00:00-04:00 NaN   NaN    NaN  NaN  NaN NaN   NaN    NaN  \n",
       "2010-06-14 00:00:00-04:00 NaN   NaN    NaN  NaN  NaN NaN   NaN    NaN  \n",
       "2010-06-15 00:00:00-04:00 NaN   NaN    NaN  NaN  NaN NaN   NaN    NaN  "
      ],
      "text/html": "<div>\n<style scoped>\n    .dataframe tbody tr th:only-of-type {\n        vertical-align: middle;\n    }\n\n    .dataframe tbody tr th {\n        vertical-align: top;\n    }\n\n    .dataframe thead tr th {\n        text-align: left;\n    }\n</style>\n<table border=\"1\" class=\"dataframe\">\n  <thead>\n    <tr>\n      <th></th>\n      <th colspan=\"5\" halign=\"left\">CORN</th>\n      <th colspan=\"5\" halign=\"left\">SOYB</th>\n      <th colspan=\"5\" halign=\"left\">WEAT</th>\n    </tr>\n    <tr>\n      <th></th>\n      <th>open</th>\n      <th>high</th>\n      <th>low</th>\n      <th>close</th>\n      <th>volume</th>\n      <th>open</th>\n      <th>high</th>\n      <th>low</th>\n      <th>close</th>\n      <th>volume</th>\n      <th>open</th>\n      <th>high</th>\n      <th>low</th>\n      <th>close</th>\n      <th>volume</th>\n    </tr>\n  </thead>\n  <tbody>\n    <tr>\n      <th>2010-06-09 00:00:00-04:00</th>\n      <td>25.12</td>\n      <td>25.25</td>\n      <td>25.1200</td>\n      <td>25.1500</td>\n      <td>1700.0</td>\n      <td>NaN</td>\n      <td>NaN</td>\n      <td>NaN</td>\n      <td>NaN</td>\n      <td>NaN</td>\n      <td>NaN</td>\n      <td>NaN</td>\n      <td>NaN</td>\n      <td>NaN</td>\n      <td>NaN</td>\n    </tr>\n    <tr>\n      <th>2010-06-10 00:00:00-04:00</th>\n      <td>25.46</td>\n      <td>25.46</td>\n      <td>25.4599</td>\n      <td>25.4599</td>\n      <td>200.0</td>\n      <td>NaN</td>\n      <td>NaN</td>\n      <td>NaN</td>\n      <td>NaN</td>\n      <td>NaN</td>\n      <td>NaN</td>\n      <td>NaN</td>\n      <td>NaN</td>\n      <td>NaN</td>\n      <td>NaN</td>\n    </tr>\n    <tr>\n      <th>2010-06-11 00:00:00-04:00</th>\n      <td>25.88</td>\n      <td>25.88</td>\n      <td>25.7913</td>\n      <td>25.7913</td>\n      <td>500.0</td>\n      <td>NaN</td>\n      <td>NaN</td>\n      <td>NaN</td>\n      <td>NaN</td>\n      <td>NaN</td>\n      <td>NaN</td>\n      <td>NaN</td>\n      <td>NaN</td>\n      <td>NaN</td>\n      <td>NaN</td>\n    </tr>\n    <tr>\n      <th>2010-06-14 00:00:00-04:00</th>\n      <td>25.99</td>\n      <td>26.11</td>\n      <td>25.9900</td>\n      <td>26.1100</td>\n      <td>2247.0</td>\n      <td>NaN</td>\n      <td>NaN</td>\n      <td>NaN</td>\n      <td>NaN</td>\n      <td>NaN</td>\n      <td>NaN</td>\n      <td>NaN</td>\n      <td>NaN</td>\n      <td>NaN</td>\n      <td>NaN</td>\n    </tr>\n    <tr>\n      <th>2010-06-15 00:00:00-04:00</th>\n      <td>26.24</td>\n      <td>26.24</td>\n      <td>25.9690</td>\n      <td>25.9690</td>\n      <td>6955.0</td>\n      <td>NaN</td>\n      <td>NaN</td>\n      <td>NaN</td>\n      <td>NaN</td>\n      <td>NaN</td>\n      <td>NaN</td>\n      <td>NaN</td>\n      <td>NaN</td>\n      <td>NaN</td>\n      <td>NaN</td>\n    </tr>\n  </tbody>\n</table>\n</div>"
     },
     "metadata": {},
     "execution_count": 44
    }
   ],
   "source": [
    "# Extract data for CORN, WEAT and SOYB with setstart and end date of 20 years from now\n",
    "start_date = pd.Timestamp('2000-10-01', tz='America/Chicago').isoformat()\n",
    "end_date = pd.Timestamp('2020-10-01', tz='America/Chicago').isoformat()\n",
    "\n",
    "df_etf_data = alpaca_trade.get_barset(\n",
    "    tickers,\n",
    "    timeframe,\n",
    "    start = start_date,\n",
    "    end = end_date\n",
    ").df\n",
    "\n",
    "df_etf_data.head()"
   ]
  },
  {
   "cell_type": "code",
   "execution_count": 45,
   "metadata": {},
   "outputs": [
    {
     "output_type": "execute_result",
     "data": {
      "text/plain": [
       "CORN  open      float64\n",
       "      high      float64\n",
       "      low       float64\n",
       "      close     float64\n",
       "      volume    float64\n",
       "SOYB  open      float64\n",
       "      high      float64\n",
       "      low       float64\n",
       "      close     float64\n",
       "      volume    float64\n",
       "WEAT  open      float64\n",
       "      high      float64\n",
       "      low       float64\n",
       "      close     float64\n",
       "      volume    float64\n",
       "dtype: object"
      ]
     },
     "metadata": {},
     "execution_count": 45
    }
   ],
   "source": [
    "df_etf_data.dtypes\n"
   ]
  },
  {
   "cell_type": "code",
   "execution_count": 60,
   "metadata": {},
   "outputs": [],
   "source": []
  },
  {
   "cell_type": "code",
   "execution_count": null,
   "metadata": {},
   "outputs": [],
   "source": []
  },
  {
   "source": [
    "# Part 2 - Extract csv files for futures data\n",
    "\n",
    "Source: csv file from Tradestation "
   ],
   "cell_type": "markdown",
   "metadata": {}
  },
  {
   "cell_type": "code",
   "execution_count": 61,
   "metadata": {},
   "outputs": [],
   "source": [
    "# Import relevant libraries\n",
    "from pathlib import Path\n",
    "import csv\n",
    "\n"
   ]
  },
  {
   "cell_type": "code",
   "execution_count": 66,
   "metadata": {},
   "outputs": [
    {
     "output_type": "execute_result",
     "data": {
      "text/plain": [
       "              corn\n",
       "Date              \n",
       "2000-10-26  213.75\n",
       "2000-10-27  212.50\n",
       "2000-10-30  212.00\n",
       "2000-10-31  217.50\n",
       "2000-11-01  217.50"
      ],
      "text/html": "<div>\n<style scoped>\n    .dataframe tbody tr th:only-of-type {\n        vertical-align: middle;\n    }\n\n    .dataframe tbody tr th {\n        vertical-align: top;\n    }\n\n    .dataframe thead th {\n        text-align: right;\n    }\n</style>\n<table border=\"1\" class=\"dataframe\">\n  <thead>\n    <tr style=\"text-align: right;\">\n      <th></th>\n      <th>corn</th>\n    </tr>\n    <tr>\n      <th>Date</th>\n      <th></th>\n    </tr>\n  </thead>\n  <tbody>\n    <tr>\n      <th>2000-10-26</th>\n      <td>213.75</td>\n    </tr>\n    <tr>\n      <th>2000-10-27</th>\n      <td>212.50</td>\n    </tr>\n    <tr>\n      <th>2000-10-30</th>\n      <td>212.00</td>\n    </tr>\n    <tr>\n      <th>2000-10-31</th>\n      <td>217.50</td>\n    </tr>\n    <tr>\n      <th>2000-11-01</th>\n      <td>217.50</td>\n    </tr>\n  </tbody>\n</table>\n</div>"
     },
     "metadata": {},
     "execution_count": 66
    }
   ],
   "source": [
    "# Read each csv file\n",
    "corn_csv = Path(\"raw_data/corn_daily.csv\")\n",
    "df_corn = pd.read_csv(corn_csv, infer_datetime_format= True, parse_dates = True, index_col= \"Date\")\n",
    "df_corn.drop(columns=[\"Time\",\"Open\",\"High\",\"Low\", \"Vol\",\"OI\"], inplace=True)\n",
    "df_corn.columns = [\"corn\"]\n",
    "df_corn.head()"
   ]
  },
  {
   "cell_type": "code",
   "execution_count": 73,
   "metadata": {},
   "outputs": [
    {
     "output_type": "execute_result",
     "data": {
      "text/plain": [
       "             cornb\n",
       "Date              \n",
       "2000-10-26  213.75\n",
       "2000-10-27  212.50\n",
       "2000-10-30  212.00\n",
       "2000-10-31  217.50\n",
       "2000-11-01  217.50\n",
       "...            ...\n",
       "2020-10-22  416.25\n",
       "2020-10-23  419.25\n",
       "2020-10-26  417.75\n",
       "2020-10-27  416.00\n",
       "2020-10-28  414.50\n",
       "\n",
       "[5003 rows x 1 columns]"
      ],
      "text/html": "<div>\n<style scoped>\n    .dataframe tbody tr th:only-of-type {\n        vertical-align: middle;\n    }\n\n    .dataframe tbody tr th {\n        vertical-align: top;\n    }\n\n    .dataframe thead th {\n        text-align: right;\n    }\n</style>\n<table border=\"1\" class=\"dataframe\">\n  <thead>\n    <tr style=\"text-align: right;\">\n      <th></th>\n      <th>cornb</th>\n    </tr>\n    <tr>\n      <th>Date</th>\n      <th></th>\n    </tr>\n  </thead>\n  <tbody>\n    <tr>\n      <th>2000-10-26</th>\n      <td>213.75</td>\n    </tr>\n    <tr>\n      <th>2000-10-27</th>\n      <td>212.50</td>\n    </tr>\n    <tr>\n      <th>2000-10-30</th>\n      <td>212.00</td>\n    </tr>\n    <tr>\n      <th>2000-10-31</th>\n      <td>217.50</td>\n    </tr>\n    <tr>\n      <th>2000-11-01</th>\n      <td>217.50</td>\n    </tr>\n    <tr>\n      <th>...</th>\n      <td>...</td>\n    </tr>\n    <tr>\n      <th>2020-10-22</th>\n      <td>416.25</td>\n    </tr>\n    <tr>\n      <th>2020-10-23</th>\n      <td>419.25</td>\n    </tr>\n    <tr>\n      <th>2020-10-26</th>\n      <td>417.75</td>\n    </tr>\n    <tr>\n      <th>2020-10-27</th>\n      <td>416.00</td>\n    </tr>\n    <tr>\n      <th>2020-10-28</th>\n      <td>414.50</td>\n    </tr>\n  </tbody>\n</table>\n<p>5003 rows × 1 columns</p>\n</div>"
     },
     "metadata": {},
     "execution_count": 73
    }
   ],
   "source": [
    "\n",
    "def csvexatract_df (filepath,col_name):\n",
    "    dest_name = pd.read_csv(filepath, infer_datetime_format= True, parse_dates = True, index_col= \"Date\")\n",
    "    dest_name.drop(columns=[\"Time\",\"Open\",\"High\",\"Low\", \"Vol\",\"OI\"], inplace=True)\n",
    "    dest_name.columns = [col_name]\n",
    "    return dest_name\n",
    "\n",
    "cornb = csvexatract_df (corn_csv,\"cornb\")\n",
    "cornb\n",
    "\n"
   ]
  },
  {
   "cell_type": "code",
   "execution_count": 75,
   "metadata": {},
   "outputs": [
    {
     "output_type": "execute_result",
     "data": {
      "text/plain": [
       "            soybean\n",
       "Date               \n",
       "2000-10-26   503.75\n",
       "2000-10-27   500.50\n",
       "2000-10-30   502.75\n",
       "2000-10-31   504.00\n",
       "2000-11-01   505.00\n",
       "...             ...\n",
       "2020-10-22  1073.75\n",
       "2020-10-23  1083.75\n",
       "2020-10-26  1087.75\n",
       "2020-10-27  1082.25\n",
       "2020-10-28  1078.25\n",
       "\n",
       "[5005 rows x 1 columns]"
      ],
      "text/html": "<div>\n<style scoped>\n    .dataframe tbody tr th:only-of-type {\n        vertical-align: middle;\n    }\n\n    .dataframe tbody tr th {\n        vertical-align: top;\n    }\n\n    .dataframe thead th {\n        text-align: right;\n    }\n</style>\n<table border=\"1\" class=\"dataframe\">\n  <thead>\n    <tr style=\"text-align: right;\">\n      <th></th>\n      <th>soybean</th>\n    </tr>\n    <tr>\n      <th>Date</th>\n      <th></th>\n    </tr>\n  </thead>\n  <tbody>\n    <tr>\n      <th>2000-10-26</th>\n      <td>503.75</td>\n    </tr>\n    <tr>\n      <th>2000-10-27</th>\n      <td>500.50</td>\n    </tr>\n    <tr>\n      <th>2000-10-30</th>\n      <td>502.75</td>\n    </tr>\n    <tr>\n      <th>2000-10-31</th>\n      <td>504.00</td>\n    </tr>\n    <tr>\n      <th>2000-11-01</th>\n      <td>505.00</td>\n    </tr>\n    <tr>\n      <th>...</th>\n      <td>...</td>\n    </tr>\n    <tr>\n      <th>2020-10-22</th>\n      <td>1073.75</td>\n    </tr>\n    <tr>\n      <th>2020-10-23</th>\n      <td>1083.75</td>\n    </tr>\n    <tr>\n      <th>2020-10-26</th>\n      <td>1087.75</td>\n    </tr>\n    <tr>\n      <th>2020-10-27</th>\n      <td>1082.25</td>\n    </tr>\n    <tr>\n      <th>2020-10-28</th>\n      <td>1078.25</td>\n    </tr>\n  </tbody>\n</table>\n<p>5005 rows × 1 columns</p>\n</div>"
     },
     "metadata": {},
     "execution_count": 75
    }
   ],
   "source": [
    "soybean_csv = Path(\"raw_data/soybeans_daily.csv\")\n",
    "soybean_df = csvexatract_df(soybean_csv,\"soybean\")\n",
    "soybean_df"
   ]
  },
  {
   "cell_type": "code",
   "execution_count": 76,
   "metadata": {},
   "outputs": [
    {
     "output_type": "execute_result",
     "data": {
      "text/plain": [
       "             wheat\n",
       "Date              \n",
       "2000-10-26  313.00\n",
       "2000-10-27  315.50\n",
       "2000-10-30  312.25\n",
       "2000-10-31  312.25\n",
       "2000-11-01  311.75\n",
       "...            ...\n",
       "2020-10-22  622.75\n",
       "2020-10-23  632.75\n",
       "2020-10-26  620.00\n",
       "2020-10-27  615.75\n",
       "2020-10-28  611.00\n",
       "\n",
       "[5005 rows x 1 columns]"
      ],
      "text/html": "<div>\n<style scoped>\n    .dataframe tbody tr th:only-of-type {\n        vertical-align: middle;\n    }\n\n    .dataframe tbody tr th {\n        vertical-align: top;\n    }\n\n    .dataframe thead th {\n        text-align: right;\n    }\n</style>\n<table border=\"1\" class=\"dataframe\">\n  <thead>\n    <tr style=\"text-align: right;\">\n      <th></th>\n      <th>wheat</th>\n    </tr>\n    <tr>\n      <th>Date</th>\n      <th></th>\n    </tr>\n  </thead>\n  <tbody>\n    <tr>\n      <th>2000-10-26</th>\n      <td>313.00</td>\n    </tr>\n    <tr>\n      <th>2000-10-27</th>\n      <td>315.50</td>\n    </tr>\n    <tr>\n      <th>2000-10-30</th>\n      <td>312.25</td>\n    </tr>\n    <tr>\n      <th>2000-10-31</th>\n      <td>312.25</td>\n    </tr>\n    <tr>\n      <th>2000-11-01</th>\n      <td>311.75</td>\n    </tr>\n    <tr>\n      <th>...</th>\n      <td>...</td>\n    </tr>\n    <tr>\n      <th>2020-10-22</th>\n      <td>622.75</td>\n    </tr>\n    <tr>\n      <th>2020-10-23</th>\n      <td>632.75</td>\n    </tr>\n    <tr>\n      <th>2020-10-26</th>\n      <td>620.00</td>\n    </tr>\n    <tr>\n      <th>2020-10-27</th>\n      <td>615.75</td>\n    </tr>\n    <tr>\n      <th>2020-10-28</th>\n      <td>611.00</td>\n    </tr>\n  </tbody>\n</table>\n<p>5005 rows × 1 columns</p>\n</div>"
     },
     "metadata": {},
     "execution_count": 76
    }
   ],
   "source": [
    "wheat_csv = Path(\"raw_data/wheat_daily.csv\")\n",
    "wheat_df = csvexatract_df(wheat_csv,\"wheat\")\n",
    "wheat_df"
   ]
  },
  {
   "cell_type": "code",
   "execution_count": 77,
   "metadata": {},
   "outputs": [
    {
     "output_type": "execute_result",
     "data": {
      "text/plain": [
       "              corn  soybean   wheat\n",
       "Date                               \n",
       "2000-10-26  213.75   503.75  313.00\n",
       "2000-10-27  212.50   500.50  315.50\n",
       "2000-10-30  212.00   502.75  312.25\n",
       "2000-10-31  217.50   504.00  312.25\n",
       "2000-11-01  217.50   505.00  311.75"
      ],
      "text/html": "<div>\n<style scoped>\n    .dataframe tbody tr th:only-of-type {\n        vertical-align: middle;\n    }\n\n    .dataframe tbody tr th {\n        vertical-align: top;\n    }\n\n    .dataframe thead th {\n        text-align: right;\n    }\n</style>\n<table border=\"1\" class=\"dataframe\">\n  <thead>\n    <tr style=\"text-align: right;\">\n      <th></th>\n      <th>corn</th>\n      <th>soybean</th>\n      <th>wheat</th>\n    </tr>\n    <tr>\n      <th>Date</th>\n      <th></th>\n      <th></th>\n      <th></th>\n    </tr>\n  </thead>\n  <tbody>\n    <tr>\n      <th>2000-10-26</th>\n      <td>213.75</td>\n      <td>503.75</td>\n      <td>313.00</td>\n    </tr>\n    <tr>\n      <th>2000-10-27</th>\n      <td>212.50</td>\n      <td>500.50</td>\n      <td>315.50</td>\n    </tr>\n    <tr>\n      <th>2000-10-30</th>\n      <td>212.00</td>\n      <td>502.75</td>\n      <td>312.25</td>\n    </tr>\n    <tr>\n      <th>2000-10-31</th>\n      <td>217.50</td>\n      <td>504.00</td>\n      <td>312.25</td>\n    </tr>\n    <tr>\n      <th>2000-11-01</th>\n      <td>217.50</td>\n      <td>505.00</td>\n      <td>311.75</td>\n    </tr>\n  </tbody>\n</table>\n</div>"
     },
     "metadata": {},
     "execution_count": 77
    }
   ],
   "source": [
    "df_futures = pd.concat([df_corn,soybean_df,wheat_df], axis=\"columns\", join=\"inner\")\n",
    "df_futures.head()"
   ]
  },
  {
   "cell_type": "code",
   "execution_count": null,
   "metadata": {},
   "outputs": [],
   "source": []
  }
 ]
}