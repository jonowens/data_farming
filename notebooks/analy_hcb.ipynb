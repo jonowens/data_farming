{
 "metadata": {
  "language_info": {
   "codemirror_mode": {
    "name": "ipython",
    "version": 3
   },
   "file_extension": ".py",
   "mimetype": "text/x-python",
   "name": "python",
   "nbconvert_exporter": "python",
   "pygments_lexer": "ipython3",
   "version": "3.7.7-final"
  },
  "orig_nbformat": 2,
  "kernelspec": {
   "name": "Python 3.7.7 64-bit ('pyviz_copg2_env': conda)",
   "display_name": "Python 3.7.7 64-bit ('pyviz_copg2_env': conda)",
   "metadata": {
    "interpreter": {
     "hash": "9bd8d1b8a38cb3e6840cff2e12834576abca59a175543eeefd1686e6b6961910"
    }
   }
  }
 },
 "nbformat": 4,
 "nbformat_minor": 2,
 "cells": [
  {
   "cell_type": "code",
   "execution_count": 2,
   "metadata": {},
   "outputs": [],
   "source": [
    "import pandas as pd\n",
    "import calendar\n",
    "import plotly.express as px\n",
    "import hvplot.pandas\n",
    "from sqlalchemy import create_engine\n",
    "import seaborn as sns\n",
    "import csv\n",
    "from pathlib import Path\n",
    "import matplotlib.pyplot as plt\n",
    "from datetime import datetime\n",
    "\n",
    "import os\n",
    "import psycopg2\n",
    "from dotenv import load_dotenv"
   ]
  },
  {
   "cell_type": "code",
   "execution_count": 6,
   "metadata": {},
   "outputs": [
    {
     "output_type": "execute_result",
     "data": {
      "text/plain": [
       "  Program  Year Period  Week Ending Geo Level     State  State ANSI  \\\n",
       "0  SURVEY  2020   YEAR          NaN     STATE  NEBRASKA          31   \n",
       "1  SURVEY  2019   YEAR          NaN     STATE  NEBRASKA          31   \n",
       "2  SURVEY  2018   YEAR          NaN     STATE  NEBRASKA          31   \n",
       "3  SURVEY  2017   YEAR          NaN     STATE  NEBRASKA          31   \n",
       "4  SURVEY  2016   YEAR          NaN     STATE  NEBRASKA          31   \n",
       "\n",
       "   Ag District  Ag District Code  County  ...  Zip Code  Region  \\\n",
       "0          NaN               NaN     NaN  ...       NaN     NaN   \n",
       "1          NaN               NaN     NaN  ...       NaN     NaN   \n",
       "2          NaN               NaN     NaN  ...       NaN     NaN   \n",
       "3          NaN               NaN     NaN  ...       NaN     NaN   \n",
       "4          NaN               NaN     NaN  ...       NaN     NaN   \n",
       "\n",
       "   watershed_code  Watershed  Commodity  \\\n",
       "0               0        NaN       CORN   \n",
       "1               0        NaN       CORN   \n",
       "2               0        NaN       CORN   \n",
       "3               0        NaN       CORN   \n",
       "4               0        NaN       CORN   \n",
       "\n",
       "                                  Data Item Domain Domain Category  \\\n",
       "0  CORN, GRAIN - PRODUCTION, MEASURED IN BU  TOTAL   NOT SPECIFIED   \n",
       "1  CORN, GRAIN - PRODUCTION, MEASURED IN BU  TOTAL   NOT SPECIFIED   \n",
       "2  CORN, GRAIN - PRODUCTION, MEASURED IN BU  TOTAL   NOT SPECIFIED   \n",
       "3  CORN, GRAIN - PRODUCTION, MEASURED IN BU  TOTAL   NOT SPECIFIED   \n",
       "4  CORN, GRAIN - PRODUCTION, MEASURED IN BU  TOTAL   NOT SPECIFIED   \n",
       "\n",
       "           Value CV (%)  \n",
       "0  1,838,210,000    NaN  \n",
       "1  1,785,420,000    NaN  \n",
       "2  1,785,600,000    NaN  \n",
       "3  1,683,300,000    NaN  \n",
       "4  1,699,900,000    NaN  \n",
       "\n",
       "[5 rows x 21 columns]"
      ],
      "text/html": "<div>\n<style scoped>\n    .dataframe tbody tr th:only-of-type {\n        vertical-align: middle;\n    }\n\n    .dataframe tbody tr th {\n        vertical-align: top;\n    }\n\n    .dataframe thead th {\n        text-align: right;\n    }\n</style>\n<table border=\"1\" class=\"dataframe\">\n  <thead>\n    <tr style=\"text-align: right;\">\n      <th></th>\n      <th>Program</th>\n      <th>Year</th>\n      <th>Period</th>\n      <th>Week Ending</th>\n      <th>Geo Level</th>\n      <th>State</th>\n      <th>State ANSI</th>\n      <th>Ag District</th>\n      <th>Ag District Code</th>\n      <th>County</th>\n      <th>...</th>\n      <th>Zip Code</th>\n      <th>Region</th>\n      <th>watershed_code</th>\n      <th>Watershed</th>\n      <th>Commodity</th>\n      <th>Data Item</th>\n      <th>Domain</th>\n      <th>Domain Category</th>\n      <th>Value</th>\n      <th>CV (%)</th>\n    </tr>\n  </thead>\n  <tbody>\n    <tr>\n      <th>0</th>\n      <td>SURVEY</td>\n      <td>2020</td>\n      <td>YEAR</td>\n      <td>NaN</td>\n      <td>STATE</td>\n      <td>NEBRASKA</td>\n      <td>31</td>\n      <td>NaN</td>\n      <td>NaN</td>\n      <td>NaN</td>\n      <td>...</td>\n      <td>NaN</td>\n      <td>NaN</td>\n      <td>0</td>\n      <td>NaN</td>\n      <td>CORN</td>\n      <td>CORN, GRAIN - PRODUCTION, MEASURED IN BU</td>\n      <td>TOTAL</td>\n      <td>NOT SPECIFIED</td>\n      <td>1,838,210,000</td>\n      <td>NaN</td>\n    </tr>\n    <tr>\n      <th>1</th>\n      <td>SURVEY</td>\n      <td>2019</td>\n      <td>YEAR</td>\n      <td>NaN</td>\n      <td>STATE</td>\n      <td>NEBRASKA</td>\n      <td>31</td>\n      <td>NaN</td>\n      <td>NaN</td>\n      <td>NaN</td>\n      <td>...</td>\n      <td>NaN</td>\n      <td>NaN</td>\n      <td>0</td>\n      <td>NaN</td>\n      <td>CORN</td>\n      <td>CORN, GRAIN - PRODUCTION, MEASURED IN BU</td>\n      <td>TOTAL</td>\n      <td>NOT SPECIFIED</td>\n      <td>1,785,420,000</td>\n      <td>NaN</td>\n    </tr>\n    <tr>\n      <th>2</th>\n      <td>SURVEY</td>\n      <td>2018</td>\n      <td>YEAR</td>\n      <td>NaN</td>\n      <td>STATE</td>\n      <td>NEBRASKA</td>\n      <td>31</td>\n      <td>NaN</td>\n      <td>NaN</td>\n      <td>NaN</td>\n      <td>...</td>\n      <td>NaN</td>\n      <td>NaN</td>\n      <td>0</td>\n      <td>NaN</td>\n      <td>CORN</td>\n      <td>CORN, GRAIN - PRODUCTION, MEASURED IN BU</td>\n      <td>TOTAL</td>\n      <td>NOT SPECIFIED</td>\n      <td>1,785,600,000</td>\n      <td>NaN</td>\n    </tr>\n    <tr>\n      <th>3</th>\n      <td>SURVEY</td>\n      <td>2017</td>\n      <td>YEAR</td>\n      <td>NaN</td>\n      <td>STATE</td>\n      <td>NEBRASKA</td>\n      <td>31</td>\n      <td>NaN</td>\n      <td>NaN</td>\n      <td>NaN</td>\n      <td>...</td>\n      <td>NaN</td>\n      <td>NaN</td>\n      <td>0</td>\n      <td>NaN</td>\n      <td>CORN</td>\n      <td>CORN, GRAIN - PRODUCTION, MEASURED IN BU</td>\n      <td>TOTAL</td>\n      <td>NOT SPECIFIED</td>\n      <td>1,683,300,000</td>\n      <td>NaN</td>\n    </tr>\n    <tr>\n      <th>4</th>\n      <td>SURVEY</td>\n      <td>2016</td>\n      <td>YEAR</td>\n      <td>NaN</td>\n      <td>STATE</td>\n      <td>NEBRASKA</td>\n      <td>31</td>\n      <td>NaN</td>\n      <td>NaN</td>\n      <td>NaN</td>\n      <td>...</td>\n      <td>NaN</td>\n      <td>NaN</td>\n      <td>0</td>\n      <td>NaN</td>\n      <td>CORN</td>\n      <td>CORN, GRAIN - PRODUCTION, MEASURED IN BU</td>\n      <td>TOTAL</td>\n      <td>NOT SPECIFIED</td>\n      <td>1,699,900,000</td>\n      <td>NaN</td>\n    </tr>\n  </tbody>\n</table>\n<p>5 rows × 21 columns</p>\n</div>"
     },
     "metadata": {},
     "execution_count": 6
    }
   ],
   "source": [
    "\"\"\"\n",
    "This section is created to prep the data to generate a parallel\n",
    "categories chart with columns: temp, precip, production, year\n",
    "\"\"\"\n",
    "# extract tot produc from csv file\n",
    "\n",
    "path_crop = Path ('../data/raw_data/tot_corn_prod_year.csv')\n",
    "csv_data = pd.read_csv(path_crop)\n",
    "df =pd.DataFrame(data=csv_data)\n",
    "df.head()"
   ]
  },
  {
   "cell_type": "code",
   "execution_count": 12,
   "metadata": {},
   "outputs": [
    {
     "output_type": "execute_result",
     "data": {
      "text/plain": [
       "   Year Commodity          Value\n",
       "0  2020      CORN  1,838,210,000\n",
       "1  2019      CORN  1,785,420,000\n",
       "2  2018      CORN  1,785,600,000\n",
       "3  2017      CORN  1,683,300,000\n",
       "4  2016      CORN  1,699,900,000"
      ],
      "text/html": "<div>\n<style scoped>\n    .dataframe tbody tr th:only-of-type {\n        vertical-align: middle;\n    }\n\n    .dataframe tbody tr th {\n        vertical-align: top;\n    }\n\n    .dataframe thead th {\n        text-align: right;\n    }\n</style>\n<table border=\"1\" class=\"dataframe\">\n  <thead>\n    <tr style=\"text-align: right;\">\n      <th></th>\n      <th>Year</th>\n      <th>Commodity</th>\n      <th>Value</th>\n    </tr>\n  </thead>\n  <tbody>\n    <tr>\n      <th>0</th>\n      <td>2020</td>\n      <td>CORN</td>\n      <td>1,838,210,000</td>\n    </tr>\n    <tr>\n      <th>1</th>\n      <td>2019</td>\n      <td>CORN</td>\n      <td>1,785,420,000</td>\n    </tr>\n    <tr>\n      <th>2</th>\n      <td>2018</td>\n      <td>CORN</td>\n      <td>1,785,600,000</td>\n    </tr>\n    <tr>\n      <th>3</th>\n      <td>2017</td>\n      <td>CORN</td>\n      <td>1,683,300,000</td>\n    </tr>\n    <tr>\n      <th>4</th>\n      <td>2016</td>\n      <td>CORN</td>\n      <td>1,699,900,000</td>\n    </tr>\n  </tbody>\n</table>\n</div>"
     },
     "metadata": {},
     "execution_count": 12
    }
   ],
   "source": [
    "new_df = df[['Year','Commodity','Value']]\n",
    "new_df.head()"
   ]
  },
  {
   "cell_type": "code",
   "execution_count": 18,
   "metadata": {},
   "outputs": [
    {
     "output_type": "execute_result",
     "data": {
      "text/plain": [
       "    Year Commodity          Value\n",
       "18  2002      CORN    940,800,000\n",
       "0   2020      CORN  1,838,210,000\n",
       "2   2018      CORN  1,785,600,000\n",
       "1   2019      CORN  1,785,420,000\n",
       "4   2016      CORN  1,699,900,000"
      ],
      "text/html": "<div>\n<style scoped>\n    .dataframe tbody tr th:only-of-type {\n        vertical-align: middle;\n    }\n\n    .dataframe tbody tr th {\n        vertical-align: top;\n    }\n\n    .dataframe thead th {\n        text-align: right;\n    }\n</style>\n<table border=\"1\" class=\"dataframe\">\n  <thead>\n    <tr style=\"text-align: right;\">\n      <th></th>\n      <th>Year</th>\n      <th>Commodity</th>\n      <th>Value</th>\n    </tr>\n  </thead>\n  <tbody>\n    <tr>\n      <th>18</th>\n      <td>2002</td>\n      <td>CORN</td>\n      <td>940,800,000</td>\n    </tr>\n    <tr>\n      <th>0</th>\n      <td>2020</td>\n      <td>CORN</td>\n      <td>1,838,210,000</td>\n    </tr>\n    <tr>\n      <th>2</th>\n      <td>2018</td>\n      <td>CORN</td>\n      <td>1,785,600,000</td>\n    </tr>\n    <tr>\n      <th>1</th>\n      <td>2019</td>\n      <td>CORN</td>\n      <td>1,785,420,000</td>\n    </tr>\n    <tr>\n      <th>4</th>\n      <td>2016</td>\n      <td>CORN</td>\n      <td>1,699,900,000</td>\n    </tr>\n  </tbody>\n</table>\n</div>"
     },
     "metadata": {},
     "execution_count": 18
    }
   ],
   "source": [
    "# sort from highest to lowest and keep top 10 years\n",
    "\n",
    "new_df.sort_values('Value', ascending=False, inplace=True)\n",
    "new_df.head()"
   ]
  },
  {
   "cell_type": "code",
   "execution_count": null,
   "metadata": {},
   "outputs": [],
   "source": []
  }
 ]
}