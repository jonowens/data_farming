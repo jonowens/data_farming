{
 "metadata": {
  "language_info": {
   "codemirror_mode": {
    "name": "ipython",
    "version": 3
   },
   "file_extension": ".py",
   "mimetype": "text/x-python",
   "name": "python",
   "nbconvert_exporter": "python",
   "pygments_lexer": "ipython3",
   "version": "3.7.7-final"
  },
  "orig_nbformat": 2,
  "kernelspec": {
   "name": "Python 3.7.7 64-bit ('pyvizenv': conda)",
   "display_name": "Python 3.7.7 64-bit ('pyvizenv': conda)",
   "metadata": {
    "interpreter": {
     "hash": "7b791426a58c24daff2686703cd9266a88e9f3ca5832bfe9fb1846677a1e4c62"
    }
   }
  }
 },
 "nbformat": 4,
 "nbformat_minor": 2,
 "cells": [
  {
   "cell_type": "code",
   "execution_count": 52,
   "metadata": {},
   "outputs": [],
   "source": [
    "from pprint import pprint\n",
    "from pathlib import Path\n",
    "import requests\n",
    "import json\n",
    "import pandas as pd\n",
    "import csv\n",
    "from dotenv import load_dotenv\n",
    "import os\n",
    "import hvplot.pandas"
   ]
  },
  {
   "cell_type": "code",
   "execution_count": 57,
   "metadata": {},
   "outputs": [],
   "source": [
    "# read in the stocks (inventory) data .csv\n",
    "inventorycsv = Path('../data/clean_data/corn_stocks_seasonal.csv')\n",
    "\n",
    "inventory_df = pd.read_csv(inventorycsv, delimiter=',', parse_dates=True, infer_datetime_format=True)"
   ]
  },
  {
   "cell_type": "code",
   "execution_count": 62,
   "metadata": {},
   "outputs": [
    {
     "output_type": "execute_result",
     "data": {
      "text/plain": [
       "         date  stock_report\n",
       "0  2020-03-01     993613000\n",
       "1  2020-06-01     571963000\n",
       "2  2020-09-01     238918000\n",
       "3  2019-03-01    1006439000\n",
       "4  2019-06-01     571797000"
      ],
      "text/html": "<div>\n<style scoped>\n    .dataframe tbody tr th:only-of-type {\n        vertical-align: middle;\n    }\n\n    .dataframe tbody tr th {\n        vertical-align: top;\n    }\n\n    .dataframe thead th {\n        text-align: right;\n    }\n</style>\n<table border=\"1\" class=\"dataframe\">\n  <thead>\n    <tr style=\"text-align: right;\">\n      <th></th>\n      <th>date</th>\n      <th>stock_report</th>\n    </tr>\n  </thead>\n  <tbody>\n    <tr>\n      <th>0</th>\n      <td>2020-03-01</td>\n      <td>993613000</td>\n    </tr>\n    <tr>\n      <th>1</th>\n      <td>2020-06-01</td>\n      <td>571963000</td>\n    </tr>\n    <tr>\n      <th>2</th>\n      <td>2020-09-01</td>\n      <td>238918000</td>\n    </tr>\n    <tr>\n      <th>3</th>\n      <td>2019-03-01</td>\n      <td>1006439000</td>\n    </tr>\n    <tr>\n      <th>4</th>\n      <td>2019-06-01</td>\n      <td>571797000</td>\n    </tr>\n  </tbody>\n</table>\n</div>"
     },
     "metadata": {},
     "execution_count": 62
    }
   ],
   "source": [
    "# check out the header columns\n",
    "inventory_df.head()"
   ]
  },
  {
   "cell_type": "code",
   "execution_count": 59,
   "metadata": {},
   "outputs": [
    {
     "output_type": "execute_result",
     "data": {
      "text/plain": [
       "date            0\n",
       "stock_report    0\n",
       "dtype: int64"
      ]
     },
     "metadata": {},
     "execution_count": 59
    }
   ],
   "source": [
    "# check for nulls and decide whether to drop any drop empty columns\n",
    "inventory_df.isnull().sum()\n",
    "\n",
    "# no null data"
   ]
  },
  {
   "cell_type": "code",
   "execution_count": 72,
   "metadata": {},
   "outputs": [
    {
     "output_type": "execute_result",
     "data": {
      "text/html": "<div id='4036'>\n\n\n\n\n\n  <div class=\"bk-root\" id=\"97fe40a4-471c-401f-be37-734394241598\" data-root-id=\"4036\"></div>\n</div>\n<script type=\"application/javascript\">(function(root) {\n  function embed_document(root) {\n  var docs_json = {\"3f1a2c1d-83f5-44a0-b44e-423452bea311\":{\"roots\":{\"references\":[{\"attributes\":{\"overlay\":{\"id\":\"4062\"}},\"id\":\"4060\",\"type\":\"BoxZoomTool\"},{\"attributes\":{},\"id\":\"4061\",\"type\":\"ResetTool\"},{\"attributes\":{\"axis\":{\"id\":\"4053\"},\"dimension\":1,\"grid_line_color\":null,\"ticker\":null},\"id\":\"4056\",\"type\":\"Grid\"},{\"attributes\":{\"margin\":[5,5,5,5],\"name\":\"HSpacer08302\",\"sizing_mode\":\"stretch_width\"},\"id\":\"4037\",\"type\":\"Spacer\"},{\"attributes\":{\"axis_label\":\"Inventory, Bu\",\"bounds\":\"auto\",\"formatter\":{\"id\":\"4079\"},\"major_label_orientation\":\"horizontal\",\"ticker\":{\"id\":\"4054\"}},\"id\":\"4053\",\"type\":\"LinearAxis\"},{\"attributes\":{\"axis_label\":\"Date\",\"bounds\":\"auto\",\"formatter\":{\"id\":\"4081\"},\"major_label_orientation\":0.7853981633974483,\"ticker\":{\"id\":\"4078\"}},\"id\":\"4050\",\"type\":\"CategoricalAxis\"},{\"attributes\":{\"bottom_units\":\"screen\",\"fill_alpha\":0.5,\"fill_color\":\"lightgrey\",\"left_units\":\"screen\",\"level\":\"overlay\",\"line_alpha\":1.0,\"line_color\":\"black\",\"line_dash\":[4,4],\"line_width\":2,\"right_units\":\"screen\",\"top_units\":\"screen\"},\"id\":\"4062\",\"type\":\"BoxAnnotation\"},{\"attributes\":{},\"id\":\"4058\",\"type\":\"PanTool\"},{\"attributes\":{},\"id\":\"4057\",\"type\":\"SaveTool\"},{\"attributes\":{\"factors\":[\"2020-03-01\",\"2020-06-01\",\"2020-09-01\",\"2019-03-01\",\"2019-06-01\",\"2019-09-01\",\"2019-12-01\",\"2018-03-01\",\"2018-06-01\",\"2018-09-01\",\"2018-12-01\",\"2017-03-01\",\"2017-06-01\",\"2017-09-01\",\"2017-12-01\",\"2016-03-01\",\"2016-06-01\",\"2016-09-01\",\"2016-12-01\",\"2015-03-01\",\"2015-06-01\",\"2015-09-01\",\"2015-12-01\",\"2014-03-01\",\"2014-06-01\",\"2014-09-01\",\"2014-12-01\",\"2013-03-01\",\"2013-06-01\",\"2013-09-01\",\"2013-12-01\",\"2012-03-01\",\"2012-06-01\",\"2012-09-01\",\"2012-12-01\",\"2011-03-01\",\"2011-06-01\",\"2011-09-01\",\"2011-12-01\",\"2010-03-01\",\"2010-06-01\",\"2010-09-01\",\"2010-12-01\",\"2009-03-01\",\"2009-06-01\",\"2009-09-01\",\"2009-12-01\",\"2008-03-01\",\"2008-06-01\",\"2008-09-01\",\"2008-12-01\",\"2007-03-01\",\"2007-06-01\",\"2007-09-01\",\"2007-12-01\",\"2006-03-01\",\"2006-06-01\",\"2006-09-01\",\"2006-12-01\",\"2005-03-01\",\"2005-06-01\",\"2005-09-01\",\"2005-12-01\",\"2004-03-01\",\"2004-06-01\",\"2004-09-01\",\"2004-12-01\",\"2003-03-01\",\"2003-06-01\",\"2003-09-01\",\"2003-12-01\",\"2002-03-01\",\"2002-06-01\",\"2002-09-01\",\"2002-12-01\",\"2001-03-01\",\"2001-06-01\",\"2001-09-01\",\"2001-12-01\",\"2000-03-01\",\"2000-06-01\",\"2000-09-01\",\"2000-12-01\"],\"tags\":[[[\"date\",\"date\",null]]]},\"id\":\"4038\",\"type\":\"FactorRange\"},{\"attributes\":{\"axis\":{\"id\":\"4050\"},\"grid_line_color\":null,\"ticker\":null},\"id\":\"4052\",\"type\":\"Grid\"},{\"attributes\":{\"data_source\":{\"id\":\"4070\"},\"glyph\":{\"id\":\"4073\"},\"hover_glyph\":null,\"muted_glyph\":{\"id\":\"4075\"},\"nonselection_glyph\":{\"id\":\"4074\"},\"selection_glyph\":null,\"view\":{\"id\":\"4077\"}},\"id\":\"4076\",\"type\":\"GlyphRenderer\"},{\"attributes\":{},\"id\":\"4046\",\"type\":\"CategoricalScale\"},{\"attributes\":{\"callback\":null,\"renderers\":[{\"id\":\"4076\"}],\"tags\":[\"hv_created\"],\"tooltips\":[[\"date\",\"@{date}\"],[\"stock_report\",\"@{stock_report}\"]]},\"id\":\"4040\",\"type\":\"HoverTool\"},{\"attributes\":{\"margin\":[5,5,5,5],\"name\":\"HSpacer08303\",\"sizing_mode\":\"stretch_width\"},\"id\":\"4100\",\"type\":\"Spacer\"},{\"attributes\":{\"end\":1617726100.0,\"reset_end\":1617726100.0,\"reset_start\":0.0,\"tags\":[[[\"stock_report\",\"stock_report\",null]]]},\"id\":\"4039\",\"type\":\"Range1d\"},{\"attributes\":{},\"id\":\"4059\",\"type\":\"WheelZoomTool\"},{\"attributes\":{\"format\":\"%.0f\"},\"id\":\"4079\",\"type\":\"PrintfTickFormatter\"},{\"attributes\":{\"children\":[{\"id\":\"4037\"},{\"id\":\"4041\"},{\"id\":\"4100\"}],\"margin\":[0,0,0,0],\"name\":\"Row08298\",\"tags\":[\"embedded\"]},\"id\":\"4036\",\"type\":\"Row\"},{\"attributes\":{},\"id\":\"4071\",\"type\":\"Selection\"},{\"attributes\":{\"active_drag\":\"auto\",\"active_inspect\":\"auto\",\"active_multi\":null,\"active_scroll\":\"auto\",\"active_tap\":\"auto\",\"tools\":[{\"id\":\"4040\"},{\"id\":\"4057\"},{\"id\":\"4058\"},{\"id\":\"4059\"},{\"id\":\"4060\"},{\"id\":\"4061\"}]},\"id\":\"4063\",\"type\":\"Toolbar\"},{\"attributes\":{\"desired_num_ticks\":25},\"id\":\"4078\",\"type\":\"BasicTicker\"},{\"attributes\":{},\"id\":\"4081\",\"type\":\"CategoricalTickFormatter\"},{\"attributes\":{},\"id\":\"4048\",\"type\":\"LinearScale\"},{\"attributes\":{\"source\":{\"id\":\"4070\"}},\"id\":\"4077\",\"type\":\"CDSView\"},{\"attributes\":{\"text\":\"Corn Inventory Volumes over Time\",\"text_color\":{\"value\":\"black\"},\"text_font_size\":{\"value\":\"12pt\"}},\"id\":\"4042\",\"type\":\"Title\"},{\"attributes\":{\"fill_color\":{\"value\":\"#1f77b3\"},\"top\":{\"field\":\"stock_report\"},\"width\":{\"value\":0.8},\"x\":{\"field\":\"date\"}},\"id\":\"4073\",\"type\":\"VBar\"},{\"attributes\":{\"fill_alpha\":{\"value\":0.2},\"fill_color\":{\"value\":\"#1f77b3\"},\"line_alpha\":{\"value\":0.2},\"top\":{\"field\":\"stock_report\"},\"width\":{\"value\":0.8},\"x\":{\"field\":\"date\"}},\"id\":\"4075\",\"type\":\"VBar\"},{\"attributes\":{},\"id\":\"4092\",\"type\":\"UnionRenderers\"},{\"attributes\":{\"data\":{\"date\":[\"2020-03-01\",\"2020-06-01\",\"2020-09-01\",\"2019-03-01\",\"2019-06-01\",\"2019-09-01\",\"2019-12-01\",\"2018-03-01\",\"2018-06-01\",\"2018-09-01\",\"2018-12-01\",\"2017-03-01\",\"2017-06-01\",\"2017-09-01\",\"2017-12-01\",\"2016-03-01\",\"2016-06-01\",\"2016-09-01\",\"2016-12-01\",\"2015-03-01\",\"2015-06-01\",\"2015-09-01\",\"2015-12-01\",\"2014-03-01\",\"2014-06-01\",\"2014-09-01\",\"2014-12-01\",\"2013-03-01\",\"2013-06-01\",\"2013-09-01\",\"2013-12-01\",\"2012-03-01\",\"2012-06-01\",\"2012-09-01\",\"2012-12-01\",\"2011-03-01\",\"2011-06-01\",\"2011-09-01\",\"2011-12-01\",\"2010-03-01\",\"2010-06-01\",\"2010-09-01\",\"2010-12-01\",\"2009-03-01\",\"2009-06-01\",\"2009-09-01\",\"2009-12-01\",\"2008-03-01\",\"2008-06-01\",\"2008-09-01\",\"2008-12-01\",\"2007-03-01\",\"2007-06-01\",\"2007-09-01\",\"2007-12-01\",\"2006-03-01\",\"2006-06-01\",\"2006-09-01\",\"2006-12-01\",\"2005-03-01\",\"2005-06-01\",\"2005-09-01\",\"2005-12-01\",\"2004-03-01\",\"2004-06-01\",\"2004-09-01\",\"2004-12-01\",\"2003-03-01\",\"2003-06-01\",\"2003-09-01\",\"2003-12-01\",\"2002-03-01\",\"2002-06-01\",\"2002-09-01\",\"2002-12-01\",\"2001-03-01\",\"2001-06-01\",\"2001-09-01\",\"2001-12-01\",\"2000-03-01\",\"2000-06-01\",\"2000-09-01\",\"2000-12-01\"],\"stock_report\":[993613000,571963000,238918000,1006439000,571797000,239290000,1477877000,957323000,551436000,210075000,1449411000,1001962000,577082000,257789000,1460631000,956028000,539685000,216429000,1420918000,823875000,456791000,182350000,1388938000,808902000,444202000,141295000,1289710000,587555000,300310000,79386000,1250700000,686532000,355197000,93881000,957356000,765814000,435074000,119167000,1165630000,906390000,520565000,211233000,1196320000,808288000,486033000,196454000,1340288000,766772000,395182000,166514000,1186700000,641568000,368516000,154515000,1195152000,806280000,500781000,239213000,1004988000,821122000,511217000,280286000,1183541000,648219000,341955000,114601000,1121124000,595547000,357495000,154220000,967438000,707176000,421470000,231258000,855944000,686714000,444500000,256266000,1040485000,689660000,437336000,230059000,966809000]},\"selected\":{\"id\":\"4071\"},\"selection_policy\":{\"id\":\"4092\"}},\"id\":\"4070\",\"type\":\"ColumnDataSource\"},{\"attributes\":{\"fill_alpha\":{\"value\":0.1},\"fill_color\":{\"value\":\"#1f77b3\"},\"line_alpha\":{\"value\":0.1},\"top\":{\"field\":\"stock_report\"},\"width\":{\"value\":0.8},\"x\":{\"field\":\"date\"}},\"id\":\"4074\",\"type\":\"VBar\"},{\"attributes\":{},\"id\":\"4054\",\"type\":\"BasicTicker\"},{\"attributes\":{\"align\":null,\"below\":[{\"id\":\"4050\"}],\"center\":[{\"id\":\"4052\"},{\"id\":\"4056\"}],\"left\":[{\"id\":\"4053\"}],\"margin\":null,\"min_border_bottom\":10,\"min_border_left\":10,\"min_border_right\":10,\"min_border_top\":10,\"plot_height\":300,\"plot_width\":700,\"renderers\":[{\"id\":\"4076\"}],\"sizing_mode\":\"fixed\",\"title\":{\"id\":\"4042\"},\"toolbar\":{\"id\":\"4063\"},\"x_range\":{\"id\":\"4038\"},\"x_scale\":{\"id\":\"4046\"},\"y_range\":{\"id\":\"4039\"},\"y_scale\":{\"id\":\"4048\"}},\"id\":\"4041\",\"subtype\":\"Figure\",\"type\":\"Plot\"}],\"root_ids\":[\"4036\"]},\"title\":\"Bokeh Application\",\"version\":\"2.1.1\"}};\n  var render_items = [{\"docid\":\"3f1a2c1d-83f5-44a0-b44e-423452bea311\",\"root_ids\":[\"4036\"],\"roots\":{\"4036\":\"97fe40a4-471c-401f-be37-734394241598\"}}];\n  root.Bokeh.embed.embed_items_notebook(docs_json, render_items);\n  }\nif (root.Bokeh !== undefined) {\n    embed_document(root);\n  } else {\n    var attempts = 0;\n    var timer = setInterval(function(root) {\n      if (root.Bokeh !== undefined) {\n        clearInterval(timer);\n        embed_document(root);\n      } else if (document.readyState == \"complete\") {\n        attempts++;\n        if (attempts > 100) {\n          clearInterval(timer);\n          console.log(\"Bokeh: ERROR: Unable to run BokehJS code because BokehJS library is missing\");\n        }\n      }\n    }, 10, root)\n  }\n})(window);</script>",
      "application/vnd.holoviews_exec.v0+json": "",
      "text/plain": [
       ":Bars   [date]   (stock_report)"
      ]
     },
     "metadata": {
      "application/vnd.holoviews_exec.v0+json": {
       "id": "4036"
      }
     },
     "execution_count": 72
    }
   ],
   "source": [
    "# Plot inventory levels over the past year\n",
    "base_inv_plot = inventory_df.hvplot(kind='bar', title='Corn Inventory Volumes over Time', x='date', xlabel='Date', xticks=25, y='stock_report', ylabel='Inventory, Bu', yformatter='%.0f', rot=45)\n",
    "base_inv_plot"
   ]
  },
  {
   "cell_type": "code",
   "execution_count": 86,
   "metadata": {},
   "outputs": [
    {
     "output_type": "execute_result",
     "data": {
      "text/html": "<b>ValueError</b><i> [Call holoviews.ipython.show_traceback() for details]</i><br>expected an element of either Enum('aliceblue', 'antiquewhite', 'aqua', 'aquamarine', 'azure', 'beige', 'bisque', 'black', 'blanchedalmond', 'blue', 'blueviolet', 'brown', 'burlywood', 'cadetblue', 'chartreuse', 'chocolate', 'coral', 'cornflowerblue', 'cornsilk', 'crimson', 'cyan', 'darkblue', 'darkcyan', 'darkgoldenrod', 'darkgray', 'darkgreen', 'darkgrey', 'darkkhaki', 'darkmagenta', 'darkolivegreen', 'darkorange', 'darkorchid', 'darkred', 'darksalmon', 'darkseagreen', 'darkslateblue', 'darkslategray', 'darkslategrey', 'darkturquoise', 'darkviolet', 'deeppink', 'deepskyblue', 'dimgray', 'dimgrey', 'dodgerblue', 'firebrick', 'floralwhite', 'forestgreen', 'fuchsia', 'gainsboro', 'ghostwhite', 'gold', 'goldenrod', 'gray', 'green', 'greenyellow', 'grey', 'honeydew', 'hotpink', 'indianred', 'indigo', 'ivory', 'khaki', 'lavender', 'lavenderblush', 'lawngreen', 'lemonchiffon', 'lightblue', 'lightcoral', 'lightcyan', 'lightgoldenrodyellow', 'lightgray', 'lightgreen', 'lightgrey', 'lightpink', 'lightsalmon', 'lightseagreen', 'lightskyblue', 'lightslategray', 'lightslategrey', 'lightsteelblue', 'lightyellow', 'lime', 'limegreen', 'linen', 'magenta', 'maroon', 'mediumaquamarine', 'mediumblue', 'mediumorchid', 'mediumpurple', 'mediumseagreen', 'mediumslateblue', 'mediumspringgreen', 'mediumturquoise', 'mediumvioletred', 'midnightblue', 'mintcream', 'mistyrose', 'moccasin', 'navajowhite', 'navy', 'oldlace', 'olive', 'olivedrab', 'orange', 'orangered', 'orchid', 'palegoldenrod', 'palegreen', 'paleturquoise', 'palevioletred', 'papayawhip', 'peachpuff', 'peru', 'pink', 'plum', 'powderblue', 'purple', 'red', 'rosybrown', 'royalblue', 'saddlebrown', 'salmon', 'sandybrown', 'seagreen', 'seashell', 'sienna', 'silver', 'skyblue', 'slateblue', 'slategray', 'slategrey', 'snow', 'springgreen', 'steelblue', 'tan', 'teal', 'thistle', 'tomato', 'turquoise', 'violet', 'wheat', 'white', 'whitesmoke', 'yellow', 'yellowgreen'), Regex('^#[0-9a-fA-F]{6}$'), Regex('^rgba\\\\(((25[0-5]|2[0-4]\\\\d|1\\\\d{1,2}|\\\\d\\\\d?)\\\\s*,\\\\s*?){2}(25[0-5]|2[0-4]\\\\d|1\\\\d{1,2}|\\\\d\\\\d?)\\\\s*,\\\\s*([01]\\\\.?\\\\d*?)\\\\)'), Regex('^rgb\\\\(((25[0-5]|2[0-4]\\\\d|1\\\\d{1,2}|\\\\d\\\\d?)\\\\s*,\\\\s*?){2}(25[0-5]|2[0-4]\\\\d|1\\\\d{1,2}|\\\\d\\\\d?)\\\\s*?\\\\)'), Tuple(Byte(Int, 0, 255), Byte(Int, 0, 255), Byte(Int, 0, 255)), Tuple(Byte(Int, 0, 255), Byte(Int, 0, 255), Byte(Int, 0, 255), Percent) or RGB, got 'd'",
      "text/plain": [
       ":Overlay\n",
       "   .Bars.I   :Bars   [date]   (stock_report)\n",
       "   .Curve.I  :Curve   [date]   (stock_report)\n",
       "   .Curve.II :Curve   [date]   (stock_report)"
      ]
     },
     "metadata": {},
     "execution_count": 86
    }
   ],
   "source": [
    "# build inventory data exponential moving averages (1 year and 5 year)\n",
    "window_1year = 4\n",
    "window_5year = 20\n",
    "\n",
    "ewma1_plot = inventory_df.ewm(span=window_1year).mean().hvplot(color='d', title='Corn Inventory Volumes over Time', x='date', xlabel='Date', xticks=25, y='stock_report', ylabel='Inventory, Bu', yformatter='%.0f', rot=45)\n",
    "ewma5_plot = inventory_df.ewm(span=window_5year).mean().hvplot(title='Corn Inventory Volumes over Time', x='date', xlabel='Date', xticks=25, y='stock_report', ylabel='Inventory, Bu', yformatter='%.0f', rot=45)\n",
    "\n",
    "base_inv_plot * ewma1_plot * ewma5_plot"
   ]
  },
  {
   "cell_type": "code",
   "execution_count": null,
   "metadata": {},
   "outputs": [],
   "source": []
  }
 ]
}