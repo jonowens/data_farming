{
 "metadata": {
  "language_info": {
   "codemirror_mode": {
    "name": "ipython",
    "version": 3
   },
   "file_extension": ".py",
   "mimetype": "text/x-python",
   "name": "python",
   "nbconvert_exporter": "python",
   "pygments_lexer": "ipython3",
   "version": "3.8.3-final"
  },
  "orig_nbformat": 2,
  "kernelspec": {
   "name": "Python 3.8.3 64-bit (conda)",
   "display_name": "Python 3.8.3 64-bit (conda)",
   "metadata": {
    "interpreter": {
     "hash": "d73910f5fd2fc7209a8cd0dc809916ee987088f53b8e6d841cdfda7667b2a3cb"
    }
   }
  }
 },
 "nbformat": 4,
 "nbformat_minor": 2,
 "cells": [
  {
   "cell_type": "code",
   "execution_count": 3,
   "metadata": {},
   "outputs": [],
   "source": [
    "#import dependencies\n",
    "import pandas as pd\n",
    "import numpy as np\n",
    "import os\n",
    "from datetime import datetime"
   ]
  },
  {
   "cell_type": "code",
   "execution_count": 14,
   "metadata": {},
   "outputs": [
    {
     "output_type": "execute_result",
     "data": {
      "text/plain": [
       "             corn   cornf\n",
       "2011-09-19  45.65  692.25\n",
       "2011-09-20  45.54  690.25\n",
       "2011-09-21  44.80  685.75\n",
       "2011-09-22  42.99  650.00\n",
       "2011-09-23  42.45  638.50"
      ],
      "text/html": "<div>\n<style scoped>\n    .dataframe tbody tr th:only-of-type {\n        vertical-align: middle;\n    }\n\n    .dataframe tbody tr th {\n        vertical-align: top;\n    }\n\n    .dataframe thead th {\n        text-align: right;\n    }\n</style>\n<table border=\"1\" class=\"dataframe\">\n  <thead>\n    <tr style=\"text-align: right;\">\n      <th></th>\n      <th>corn</th>\n      <th>cornf</th>\n    </tr>\n  </thead>\n  <tbody>\n    <tr>\n      <th>2011-09-19</th>\n      <td>45.65</td>\n      <td>692.25</td>\n    </tr>\n    <tr>\n      <th>2011-09-20</th>\n      <td>45.54</td>\n      <td>690.25</td>\n    </tr>\n    <tr>\n      <th>2011-09-21</th>\n      <td>44.80</td>\n      <td>685.75</td>\n    </tr>\n    <tr>\n      <th>2011-09-22</th>\n      <td>42.99</td>\n      <td>650.00</td>\n    </tr>\n    <tr>\n      <th>2011-09-23</th>\n      <td>42.45</td>\n      <td>638.50</td>\n    </tr>\n  </tbody>\n</table>\n</div>"
     },
     "metadata": {},
     "execution_count": 14
    }
   ],
   "source": [
    "prices_df = pd.read_csv(f'../data/clean_data/hist_daily_stock_fut_price.csv', parse_dates = True, index_col = 0)\n",
    "\n",
    "prices_df = prices_df[['corn', 'cornf']]\n",
    "\n",
    "prices_df.head()"
   ]
  }
 ]
}