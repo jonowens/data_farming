{
 "metadata": {
  "language_info": {
   "codemirror_mode": {
    "name": "ipython",
    "version": 3
   },
   "file_extension": ".py",
   "mimetype": "text/x-python",
   "name": "python",
   "nbconvert_exporter": "python",
   "pygments_lexer": "ipython3",
   "version": "3.8.3-final"
  },
  "orig_nbformat": 2,
  "kernelspec": {
   "name": "Python 3.8.3 64-bit (conda)",
   "display_name": "Python 3.8.3 64-bit (conda)",
   "metadata": {
    "interpreter": {
     "hash": "d73910f5fd2fc7209a8cd0dc809916ee987088f53b8e6d841cdfda7667b2a3cb"
    }
   }
  }
 },
 "nbformat": 4,
 "nbformat_minor": 2,
 "cells": [
  {
   "cell_type": "code",
   "execution_count": 80,
   "metadata": {},
   "outputs": [],
   "source": [
    "#import dependencies\n",
    "import pandas as pd\n",
    "import numpy as np\n",
    "import os\n",
    "from dotenv import load_dotenv\n",
    "import requests\n",
    "import json\n",
    "from pprint import pprint\n",
    "from datetime import datetime\n",
    "from libs.usda import pull_usda_data"
   ]
  },
  {
   "cell_type": "code",
   "execution_count": 81,
   "metadata": {},
   "outputs": [],
   "source": [
    "login_info = {\"auth[email]\":\"jordan.m.gross@gmail.com\",\"auth[password]\":\"Swoosh!4\"}"
   ]
  },
  {
   "cell_type": "code",
   "execution_count": 82,
   "metadata": {},
   "outputs": [],
   "source": [
    "token = requests.post('https://usda.library.cornell.edu/user_token', data = login_info).json()\n",
    "token = token['jwt']"
   ]
  },
  {
   "cell_type": "code",
   "execution_count": 112,
   "metadata": {},
   "outputs": [
    {
     "output_type": "execute_result",
     "data": {
      "text/plain": [
       "{'id': 'dv140g79v',\n",
       " 'files': ['https://downloads.usda.library.cornell.edu/usda-esmis/files/3t945q76s/dv140g79v/k0698x33z/latest.pdf',\n",
       "  'https://downloads.usda.library.cornell.edu/usda-esmis/files/3t945q76s/dv140g79v/3f462v46c/latest.xml',\n",
       "  'https://downloads.usda.library.cornell.edu/usda-esmis/files/3t945q76s/dv140g79v/d504s899k/latest.xls',\n",
       "  'https://downloads.usda.library.cornell.edu/usda-esmis/files/3t945q76s/dv140g79v/41688643b/latest.txt'],\n",
       " 'title': ['World Agricultural Supply and Demand Estimates'],\n",
       " 'date_uploaded': '2020-09-11T16:04:07Z',\n",
       " 'date_modified': '2020-09-11T16:04:08Z',\n",
       " 'release_datetime': '2020-09-11',\n",
       " 'identifier': ['wasde'],\n",
       " 'agency_acronym': ['WAOB']}"
      ]
     },
     "metadata": {},
     "execution_count": 112
    }
   ],
   "source": [
    "files = requests.get('https://usda.library.cornell.edu/api/v1/release/findByIdentifier/wasde?latest=false&start_date=2020-01-01&end_date=2020-09-30', headers = ({'Authorization' :  f'Bearer {token}'})).json()\n",
    "files[0]"
   ]
  },
  {
   "cell_type": "code",
   "execution_count": 149,
   "metadata": {},
   "outputs": [],
   "source": [
    "for i in files:\n",
    "    for file in i['files']:\n",
    "        if '.xls' in file:\n",
    "            xls_url = file\n",
    "        else:\n",
    "            next\n",
    "    \n",
    "    xls_data = requests.get(xls_url)\n",
    "\n",
    "    with open(f'../data/raw_data/wasde_data/wasde_{i[\"release_datetime\"]}.xls', 'wb') as output:\n",
    "        output.write(xls_data.content)"
   ]
  },
  {
   "cell_type": "code",
   "execution_count": 122,
   "metadata": {},
   "outputs": [],
   "source": [
    "for i in range(len(file_path)):\n",
    "    if '.xls' in file_path[i]:\n",
    "        xls_url = file_path[i]\n",
    "    else:\n",
    "        next"
   ]
  },
  {
   "cell_type": "code",
   "execution_count": 123,
   "metadata": {},
   "outputs": [
    {
     "output_type": "execute_result",
     "data": {
      "text/plain": [
       "'https://downloads.usda.library.cornell.edu/usda-esmis/files/3t945q76s/dv140g79v/d504s899k/latest.xls'"
      ]
     },
     "metadata": {},
     "execution_count": 123
    }
   ],
   "source": [
    "xls_url"
   ]
  }
 ]
}