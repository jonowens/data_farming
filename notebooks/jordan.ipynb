{
 "metadata": {
  "language_info": {
   "codemirror_mode": {
    "name": "ipython",
    "version": 3
   },
   "file_extension": ".py",
   "mimetype": "text/x-python",
   "name": "python",
   "nbconvert_exporter": "python",
   "pygments_lexer": "ipython3",
   "version": "3.7.7-final"
  },
  "orig_nbformat": 2,
  "kernelspec": {
   "name": "Python 3.7.7 64-bit ('pyvizenv': conda)",
   "display_name": "Python 3.7.7 64-bit ('pyvizenv': conda)",
   "metadata": {
    "interpreter": {
     "hash": "9be927682df18e024b31f8a6032aa300e5bdaed52c088f47ccb180e7ed241520"
    }
   }
  }
 },
 "nbformat": 4,
 "nbformat_minor": 2,
 "cells": [
  {
   "cell_type": "code",
   "execution_count": 1,
   "metadata": {},
   "outputs": [],
   "source": [
    "#import dependencies\n",
    "import pandas as pd\n",
    "import numpy as np\n",
    "from datetime import datetime\n",
    "\n",
    "from bokeh.plotting import figure, output_file, show\n",
    "from bokeh.models import Range1d, LinearAxis, Legend\n",
    "from bokeh.io import export_png"
   ]
  },
  {
   "cell_type": "code",
   "execution_count": 2,
   "metadata": {},
   "outputs": [
    {
     "output_type": "execute_result",
     "data": {
      "text/plain": [
       "             corn   cornf\n",
       "2011-09-19  45.65  692.25\n",
       "2011-09-20  45.54  690.25\n",
       "2011-09-21  44.80  685.75\n",
       "2011-09-22  42.99  650.00\n",
       "2011-09-23  42.45  638.50"
      ],
      "text/html": "<div>\n<style scoped>\n    .dataframe tbody tr th:only-of-type {\n        vertical-align: middle;\n    }\n\n    .dataframe tbody tr th {\n        vertical-align: top;\n    }\n\n    .dataframe thead th {\n        text-align: right;\n    }\n</style>\n<table border=\"1\" class=\"dataframe\">\n  <thead>\n    <tr style=\"text-align: right;\">\n      <th></th>\n      <th>corn</th>\n      <th>cornf</th>\n    </tr>\n  </thead>\n  <tbody>\n    <tr>\n      <th>2011-09-19</th>\n      <td>45.65</td>\n      <td>692.25</td>\n    </tr>\n    <tr>\n      <th>2011-09-20</th>\n      <td>45.54</td>\n      <td>690.25</td>\n    </tr>\n    <tr>\n      <th>2011-09-21</th>\n      <td>44.80</td>\n      <td>685.75</td>\n    </tr>\n    <tr>\n      <th>2011-09-22</th>\n      <td>42.99</td>\n      <td>650.00</td>\n    </tr>\n    <tr>\n      <th>2011-09-23</th>\n      <td>42.45</td>\n      <td>638.50</td>\n    </tr>\n  </tbody>\n</table>\n</div>"
     },
     "metadata": {},
     "execution_count": 2
    }
   ],
   "source": [
    "prices_df = pd.read_csv(f'../data/clean_data/hist_daily_stock_fut_price.csv', index_col = 0, parse_dates = True, infer_datetime_format = True)\n",
    "\n",
    "prices_df = prices_df[['corn', 'cornf']]\n",
    "\n",
    "returns_df = prices_df.pct_change().dropna()\n",
    "\n",
    "prices_df.head(5)"
   ]
  },
  {
   "cell_type": "code",
   "execution_count": 3,
   "metadata": {},
   "outputs": [],
   "source": [
    "rolling_returns_df = returns_df.rolling(window = 30).mean().dropna()\n",
    "rolling_vol_df = returns_df.rolling(window = 30).std().dropna()\n",
    "rolling_corr_df = pd.DataFrame(returns_df['corn'].rolling(window = 30).corr(other = returns_df['cornf']).dropna(), columns = ['rolling_correlation'])"
   ]
  },
  {
   "cell_type": "code",
   "execution_count": 4,
   "metadata": {},
   "outputs": [
    {
     "output_type": "execute_result",
     "data": {
      "text/plain": [
       "                corn     cornf\n",
       "2011-11-01 -0.001603 -0.001634"
      ],
      "text/html": "<div>\n<style scoped>\n    .dataframe tbody tr th:only-of-type {\n        vertical-align: middle;\n    }\n\n    .dataframe tbody tr th {\n        vertical-align: top;\n    }\n\n    .dataframe thead th {\n        text-align: right;\n    }\n</style>\n<table border=\"1\" class=\"dataframe\">\n  <thead>\n    <tr style=\"text-align: right;\">\n      <th></th>\n      <th>corn</th>\n      <th>cornf</th>\n    </tr>\n  </thead>\n  <tbody>\n    <tr>\n      <th>2011-11-01</th>\n      <td>-0.001603</td>\n      <td>-0.001634</td>\n    </tr>\n  </tbody>\n</table>\n</div>"
     },
     "metadata": {},
     "execution_count": 4
    }
   ],
   "source": [
    "price_data_df = rolling_returns_df.merge(rolling_corr_df, how = 'inner', right_index = True, left_index = True).reset_index()\n",
    "price_data_df = price_data_df.rename(columns = {'index' : 'date', 'corn' : 'etf', 'cornf' : 'futures', 'rolling_correlation' : 'rolling_correlation'})\n",
    "\n",
    "rolling_returns_df.head(1)"
   ]
  },
  {
   "cell_type": "code",
   "execution_count": 5,
   "metadata": {},
   "outputs": [],
   "source": [
    "rolling_data_df = rolling_returns_df.merge(rolling_corr_df, how = 'inner', right_index = True, left_index = True).reset_index()\n",
    "rolling_data_df = rolling_data_df.rename(columns = {'index' : 'date', 'corn' : 'etf', 'cornf' : 'futures', 'rolling_correlation' : 'rolling_correlation'})\n",
    "\n",
    "x_rolling = rolling_data_df['date']\n",
    "y_etf = rolling_data_df['etf']\n",
    "y_futures = rolling_data_df['futures']\n",
    "y_correlation = rolling_data_df['rolling_correlation']\n",
    "\n",
    "rolling_plot = figure(plot_width = 800, plot_height = 400, title = 'corn etf & futures daily returns', x_axis_label = 'date', y_axis_label = '30-day rolling returns', x_axis_type = 'datetime')\n",
    "\n",
    "rolling_plot.y_range = Range1d(min(y_etf.min(), y_futures.min()), max(y_etf.max(), y_futures.max()))\n",
    "rolling_plot.line(x_rolling, y_etf, line_width = 1, color = 'DarkSlateGrey', legend_label = 'etf')\n",
    "rolling_plot.line(x_rolling, y_futures, line_width = 1, color = 'CornflowerBlue', legend_label = 'futures', alpha = .5)\n",
    "rolling_plot.xaxis.major_label_orientation = 'vertical'\n",
    "rolling_plot.legend.location = 'bottom_right'\n",
    "\n",
    "export_png(rolling_plot, filename = f'../images/rolling_plot.png')\n",
    "\n",
    "show(rolling_plot)"
   ]
  },
  {
   "cell_type": "code",
   "execution_count": 6,
   "metadata": {},
   "outputs": [
    {
     "output_type": "execute_result",
     "data": {
      "text/plain": [
       "  commodity sub_commodity location        stat unit frequency  year period  \\\n",
       "0      CORN         GRAIN       AL  PRODUCTION    $    ANNUAL  2000   YEAR   \n",
       "\n",
       "        value  \n",
       "0  23166000.0  "
      ],
      "text/html": "<div>\n<style scoped>\n    .dataframe tbody tr th:only-of-type {\n        vertical-align: middle;\n    }\n\n    .dataframe tbody tr th {\n        vertical-align: top;\n    }\n\n    .dataframe thead th {\n        text-align: right;\n    }\n</style>\n<table border=\"1\" class=\"dataframe\">\n  <thead>\n    <tr style=\"text-align: right;\">\n      <th></th>\n      <th>commodity</th>\n      <th>sub_commodity</th>\n      <th>location</th>\n      <th>stat</th>\n      <th>unit</th>\n      <th>frequency</th>\n      <th>year</th>\n      <th>period</th>\n      <th>value</th>\n    </tr>\n  </thead>\n  <tbody>\n    <tr>\n      <th>0</th>\n      <td>CORN</td>\n      <td>GRAIN</td>\n      <td>AL</td>\n      <td>PRODUCTION</td>\n      <td>$</td>\n      <td>ANNUAL</td>\n      <td>2000</td>\n      <td>YEAR</td>\n      <td>23166000.0</td>\n    </tr>\n  </tbody>\n</table>\n</div>"
     },
     "metadata": {},
     "execution_count": 6
    }
   ],
   "source": [
    "usda_df = pd.read_csv(f'../data/clean_data/usda_data/usda_data_corn_grain.csv', index_col = False)\n",
    "\n",
    "usda_df.head(1)"
   ]
  },
  {
   "cell_type": "code",
   "execution_count": 7,
   "metadata": {},
   "outputs": [
    {
     "output_type": "execute_result",
     "data": {
      "text/plain": [
       "  report_date commodity        stat  year data_type month         value\n",
       "0  2000-03-01      CORN      STOCKS  2000    actual   mar  5.601895e+09\n",
       "1  2000-06-01      CORN      STOCKS  2000    actual   jun  3.585938e+09\n",
       "2  2000-09-01      CORN      STOCKS  2000    actual   sep  1.717549e+09\n",
       "3  2000-12-01      CORN  PRODUCTION  2000    actual   dec  9.915051e+09\n",
       "4  2000-12-01      CORN      STOCKS  2000    actual   dec  8.529634e+09"
      ],
      "text/html": "<div>\n<style scoped>\n    .dataframe tbody tr th:only-of-type {\n        vertical-align: middle;\n    }\n\n    .dataframe tbody tr th {\n        vertical-align: top;\n    }\n\n    .dataframe thead th {\n        text-align: right;\n    }\n</style>\n<table border=\"1\" class=\"dataframe\">\n  <thead>\n    <tr style=\"text-align: right;\">\n      <th></th>\n      <th>report_date</th>\n      <th>commodity</th>\n      <th>stat</th>\n      <th>year</th>\n      <th>data_type</th>\n      <th>month</th>\n      <th>value</th>\n    </tr>\n  </thead>\n  <tbody>\n    <tr>\n      <th>0</th>\n      <td>2000-03-01</td>\n      <td>CORN</td>\n      <td>STOCKS</td>\n      <td>2000</td>\n      <td>actual</td>\n      <td>mar</td>\n      <td>5.601895e+09</td>\n    </tr>\n    <tr>\n      <th>1</th>\n      <td>2000-06-01</td>\n      <td>CORN</td>\n      <td>STOCKS</td>\n      <td>2000</td>\n      <td>actual</td>\n      <td>jun</td>\n      <td>3.585938e+09</td>\n    </tr>\n    <tr>\n      <th>2</th>\n      <td>2000-09-01</td>\n      <td>CORN</td>\n      <td>STOCKS</td>\n      <td>2000</td>\n      <td>actual</td>\n      <td>sep</td>\n      <td>1.717549e+09</td>\n    </tr>\n    <tr>\n      <th>3</th>\n      <td>2000-12-01</td>\n      <td>CORN</td>\n      <td>PRODUCTION</td>\n      <td>2000</td>\n      <td>actual</td>\n      <td>dec</td>\n      <td>9.915051e+09</td>\n    </tr>\n    <tr>\n      <th>4</th>\n      <td>2000-12-01</td>\n      <td>CORN</td>\n      <td>STOCKS</td>\n      <td>2000</td>\n      <td>actual</td>\n      <td>dec</td>\n      <td>8.529634e+09</td>\n    </tr>\n  </tbody>\n</table>\n</div>"
     },
     "metadata": {},
     "execution_count": 7
    }
   ],
   "source": [
    "corn_df = usda_df.loc[(usda_df['location'] == 'US') & (usda_df['unit'] == 'BU'), :]\n",
    "\n",
    "corn_df['period_split'] = corn_df['period'].apply(lambda x: x.split())\n",
    "corn_df['data_type'] = corn_df.apply(lambda x: 'forecast' if x['period_split'][-1] == 'FORECAST' else 'actual', axis = 1)\n",
    "corn_df['month'] = corn_df.apply(lambda x: 'dec' if x['period'] == 'YEAR' else (x['period_split'][-1].lower() if len(x['period_split']) == 3 else x['period_split'][-2].lower()), axis = 1)\n",
    "corn_df['report_date'] = corn_df.apply(lambda x: datetime(int(x['year']), datetime.strptime(x['month'], '%b').month, 1), axis = 1)\n",
    "corn_df['report_date'] = pd.to_datetime(corn_df['report_date'], format = '%Y%m%d')\n",
    "corn_df = corn_df.sort_values(by = 'report_date')\n",
    "\n",
    "corn_df = corn_df[['report_date', 'commodity', 'stat', 'year', 'data_type', 'month', 'value']].reset_index(drop = True)\n",
    "\n",
    "corn_df.head()"
   ]
  },
  {
   "cell_type": "code",
   "execution_count": 8,
   "metadata": {},
   "outputs": [],
   "source": [
    "corn_prod_df = corn_df.loc[corn_df['stat'] == 'PRODUCTION', :]\n",
    "corn_prod_df['value'] = round(corn_prod_df['value'] / 1000000000, 2)\n",
    "\n",
    "prod_data_df = rolling_corr_df.reset_index().rename(columns = {'index' : 'date'})\n",
    "prod_data_df['date'] = pd.to_datetime(prod_data_df['date'], format = '%Y%m%d')\n",
    "\n",
    "prod_data_df = prod_data_df.merge(corn_prod_df, how = 'left', left_on = 'date', right_on = 'report_date')\n",
    "prod_data_df = prod_data_df.fillna(method = 'ffill').dropna()"
   ]
  },
  {
   "cell_type": "code",
   "execution_count": 9,
   "metadata": {},
   "outputs": [],
   "source": [
    "prod_corr_min_max = prod_data_df.groupby('report_date')['rolling_correlation'].agg([np.min, np.max])\n",
    "prod_corr_mean = pd.DataFrame(prod_data_df.groupby('report_date')['rolling_correlation'].mean()).reset_index()\n",
    "prod_data_mean = pd.DataFrame(prod_data_df.groupby('report_date')['value'].mean()).rename(columns = {'value' : 'production'}).reset_index()\n",
    "prod_data_mean['report_date'] = prod_data_mean['report_date'].apply(lambda x: datetime.strftime(x,'%Y-%m'))\n",
    "\n",
    "x = prod_data_mean['report_date']\n",
    "y = prod_data_mean['production']\n",
    "adjy = y / 2\n",
    "y2 = prod_corr_mean['rolling_correlation']\n",
    "\n",
    "prod_plot = figure(x_range = list(x), plot_width = 800, plot_height = 400, title = 'analyzing corn production vs etf & futures rolling correlations', x_axis_label = 'crop report release dates', y_axis_label = 'billions of bushels')\n",
    "\n",
    "prod_plot.rect(x, adjy, width = .9, height = y, color = 'DarkSlateGrey', alpha = .4, legend_label = 'corn production')\n",
    "prod_plot.y_range = Range1d(0, prod_data_mean['production'].max() * 1.25)\n",
    "prod_plot.extra_y_ranges = {'rolling_correlation' : Range1d(.7, 1)}\n",
    "prod_plot.add_layout(LinearAxis(y_range_name = 'rolling_correlation', axis_label = 'correlation'), 'right')\n",
    "prod_plot.line(x, y2, line_width = 3, y_range_name = 'rolling_correlation', color = 'CornflowerBlue', legend_label = 'corn etf vs futures rolling correlation')\n",
    "prod_plot.xaxis.major_label_orientation = 'vertical'\n",
    "prod_plot.legend.location = 'bottom_right'\n",
    "\n",
    "export_png(prod_plot, filename = f'../images/prod_plot.png')\n",
    "\n",
    "show(prod_plot)"
   ]
  },
  {
   "cell_type": "code",
   "execution_count": 10,
   "metadata": {},
   "outputs": [
    {
     "output_type": "execute_result",
     "data": {
      "text/plain": [
       "         date  rolling_correlation report_date commodity    stat    year  \\\n",
       "17 2011-12-01             0.909373  2011-12-01      CORN  STOCKS  2011.0   \n",
       "18 2011-12-02             0.917190  2011-12-01      CORN  STOCKS  2011.0   \n",
       "19 2011-12-07             0.917461  2011-12-01      CORN  STOCKS  2011.0   \n",
       "20 2011-12-08             0.921419  2011-12-01      CORN  STOCKS  2011.0   \n",
       "21 2011-12-09             0.921544  2011-12-01      CORN  STOCKS  2011.0   \n",
       "\n",
       "   data_type month  value  \n",
       "17    actual   dec   9.65  \n",
       "18    actual   dec   9.65  \n",
       "19    actual   dec   9.65  \n",
       "20    actual   dec   9.65  \n",
       "21    actual   dec   9.65  "
      ],
      "text/html": "<div>\n<style scoped>\n    .dataframe tbody tr th:only-of-type {\n        vertical-align: middle;\n    }\n\n    .dataframe tbody tr th {\n        vertical-align: top;\n    }\n\n    .dataframe thead th {\n        text-align: right;\n    }\n</style>\n<table border=\"1\" class=\"dataframe\">\n  <thead>\n    <tr style=\"text-align: right;\">\n      <th></th>\n      <th>date</th>\n      <th>rolling_correlation</th>\n      <th>report_date</th>\n      <th>commodity</th>\n      <th>stat</th>\n      <th>year</th>\n      <th>data_type</th>\n      <th>month</th>\n      <th>value</th>\n    </tr>\n  </thead>\n  <tbody>\n    <tr>\n      <th>17</th>\n      <td>2011-12-01</td>\n      <td>0.909373</td>\n      <td>2011-12-01</td>\n      <td>CORN</td>\n      <td>STOCKS</td>\n      <td>2011.0</td>\n      <td>actual</td>\n      <td>dec</td>\n      <td>9.65</td>\n    </tr>\n    <tr>\n      <th>18</th>\n      <td>2011-12-02</td>\n      <td>0.917190</td>\n      <td>2011-12-01</td>\n      <td>CORN</td>\n      <td>STOCKS</td>\n      <td>2011.0</td>\n      <td>actual</td>\n      <td>dec</td>\n      <td>9.65</td>\n    </tr>\n    <tr>\n      <th>19</th>\n      <td>2011-12-07</td>\n      <td>0.917461</td>\n      <td>2011-12-01</td>\n      <td>CORN</td>\n      <td>STOCKS</td>\n      <td>2011.0</td>\n      <td>actual</td>\n      <td>dec</td>\n      <td>9.65</td>\n    </tr>\n    <tr>\n      <th>20</th>\n      <td>2011-12-08</td>\n      <td>0.921419</td>\n      <td>2011-12-01</td>\n      <td>CORN</td>\n      <td>STOCKS</td>\n      <td>2011.0</td>\n      <td>actual</td>\n      <td>dec</td>\n      <td>9.65</td>\n    </tr>\n    <tr>\n      <th>21</th>\n      <td>2011-12-09</td>\n      <td>0.921544</td>\n      <td>2011-12-01</td>\n      <td>CORN</td>\n      <td>STOCKS</td>\n      <td>2011.0</td>\n      <td>actual</td>\n      <td>dec</td>\n      <td>9.65</td>\n    </tr>\n  </tbody>\n</table>\n</div>"
     },
     "metadata": {},
     "execution_count": 10
    }
   ],
   "source": [
    "corn_stock_df = corn_df.loc[corn_df['stat'] == 'STOCKS', :]\n",
    "corn_stock_df['value'] = round(corn_stock_df['value'] / 1000000000, 2)\n",
    "\n",
    "stock_data_df = rolling_corr_df.reset_index().rename(columns = {'index' : 'date'})\n",
    "stock_data_df['date'] = pd.to_datetime(stock_data_df['date'], format = '%Y%m%d')\n",
    "\n",
    "stock_data_df = stock_data_df.merge(corn_stock_df, how = 'left', left_on = 'date', right_on = 'report_date')\n",
    "stock_data_df = stock_data_df.fillna(method = 'ffill').dropna()\n",
    "\n",
    "stock_data_df.head()"
   ]
  },
  {
   "cell_type": "code",
   "execution_count": 12,
   "metadata": {},
   "outputs": [],
   "source": [
    "stock_corr_min_max = stock_data_df.groupby('report_date')['rolling_correlation'].agg([np.min, np.max])\n",
    "stock_corr_mean = pd.DataFrame(stock_data_df.groupby('report_date')['rolling_correlation'].mean()).reset_index()\n",
    "stock_data_mean = pd.DataFrame(stock_data_df.groupby('report_date')['value'].mean()).rename(columns = {'value' : 'inventory'}).reset_index()\n",
    "stock_data_mean['report_date'] = stock_data_mean['report_date'].apply(lambda x: datetime.strftime(x,'%Y-%m'))\n",
    "\n",
    "x_stock = stock_data_mean['report_date']\n",
    "y_stock = stock_data_mean['inventory']\n",
    "adjy_stock = y_stock / 2\n",
    "y2_stock = stock_corr_mean['rolling_correlation']\n",
    "\n",
    "stock_plot = figure(x_range = list(x_stock), plot_width = 800, plot_height = 400, title = 'analyzing corn inventory levels vs etf & futures rolling correlations', x_axis_label = 'crop report release dates', y_axis_label = 'billions of bushels')\n",
    "\n",
    "stock_plot.add_layout(Legend(), 'below')\n",
    "stock_plot.rect(x_stock, adjy_stock, width = .9, height = y_stock, color = 'DarkSlateGrey', alpha = .4, legend_label = 'corn inventory levels')\n",
    "stock_plot.y_range = Range1d(0, stock_data_mean['inventory'].max() * 1.25)\n",
    "stock_plot.extra_y_ranges = {'rolling_correlation' : Range1d(.7, 1)}\n",
    "stock_plot.add_layout(LinearAxis(y_range_name = 'rolling_correlation', axis_label = 'correlation'), 'right')\n",
    "stock_plot.line(x_stock, y2_stock, line_width = 3, y_range_name = 'rolling_correlation', color = 'CornflowerBlue', legend_label = ' corn etf vs futures rolling correlation')\n",
    "stock_plot.xaxis.major_label_orientation = 'vertical'\n",
    "\n",
    "export_png(stock_plot, filename = f'../images/stock_plot.png')\n",
    "\n",
    "show(stock_plot)"
   ]
  }
 ]
}