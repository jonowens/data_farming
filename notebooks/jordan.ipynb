{
 "metadata": {
  "language_info": {
   "codemirror_mode": {
    "name": "ipython",
    "version": 3
   },
   "file_extension": ".py",
   "mimetype": "text/x-python",
   "name": "python",
   "nbconvert_exporter": "python",
   "pygments_lexer": "ipython3",
   "version": "3.8.3-final"
  },
  "orig_nbformat": 2,
  "kernelspec": {
   "name": "Python 3.8.3 64-bit (conda)",
   "display_name": "Python 3.8.3 64-bit (conda)",
   "metadata": {
    "interpreter": {
     "hash": "d73910f5fd2fc7209a8cd0dc809916ee987088f53b8e6d841cdfda7667b2a3cb"
    }
   }
  }
 },
 "nbformat": 4,
 "nbformat_minor": 2,
 "cells": [
  {
   "cell_type": "code",
   "execution_count": 6,
   "metadata": {},
   "outputs": [],
   "source": [
    "#import dependencies\n",
    "import pandas as pd\n",
    "import numpy as np\n",
    "import os\n",
    "from dotenv import load_dotenv\n",
    "import requests\n",
    "import json\n",
    "from pprint import pprint\n",
    "from datetime import datetime\n",
    "from libs.usda import pull_usda_data\n"
   ]
  },
  {
   "cell_type": "code",
   "execution_count": 7,
   "metadata": {},
   "outputs": [],
   "source": [
    "#assign usda api key\n",
    "load_dotenv()\n",
    "usda_api_key = os.getenv('usda_api_key')"
   ]
  },
  {
   "cell_type": "code",
   "execution_count": 34,
   "metadata": {},
   "outputs": [],
   "source": [
    "#assign paramenter variables\n",
    "# commodity_dict = {'CORN' : ['PRODUCTION', 'STOCKS'], 'SOYBEANS' : ['PRODUCTION', 'STOCKS']}\n",
    "\n",
    "commodity = 'CORN'\n",
    "statistic = 'PRODCUTION'\n",
    "data_level = 'STATE'\n",
    "state = 'NE'\n",
    "year = 2020\n",
    "data_columns = ['commodity_desc', 'statisticcat_desc', 'util_practice_desc', 'unit_desc', 'state_alpha', 'year', 'freq_desc', 'Value']"
   ]
  },
  {
   "cell_type": "code",
   "execution_count": 35,
   "metadata": {},
   "outputs": [],
   "source": [
    "test = pull_usda_data(usda_api_key, commodity, statistic, state, year)"
   ]
  },
  {
   "cell_type": "code",
   "execution_count": 36,
   "metadata": {},
   "outputs": [
    {
     "output_type": "execute_result",
     "data": {
      "text/plain": [
       "  commodity_desc state_alpha statisticcat_desc util_practice_desc unit_desc  \\\n",
       "0           CORN          NE            STOCKS              GRAIN        BU   \n",
       "1           CORN          NE            STOCKS              GRAIN        BU   \n",
       "2           CORN          NE            STOCKS              GRAIN        BU   \n",
       "3           CORN          NE            STOCKS              GRAIN        BU   \n",
       "4           CORN          NE            STOCKS              GRAIN        BU   \n",
       "\n",
       "  state_alpha      freq_desc  year reference_period_desc       Value  \n",
       "0          NE  POINT IN TIME  2020          FIRST OF MAR   993613000  \n",
       "1          NE  POINT IN TIME  2020          FIRST OF JUN   571963000  \n",
       "2          NE  POINT IN TIME  2020          FIRST OF SEP   238918000  \n",
       "3          NE  POINT IN TIME  2019          FIRST OF MAR  1006439000  \n",
       "4          NE  POINT IN TIME  2019          FIRST OF JUN   571797000  "
      ],
      "text/html": "<div>\n<style scoped>\n    .dataframe tbody tr th:only-of-type {\n        vertical-align: middle;\n    }\n\n    .dataframe tbody tr th {\n        vertical-align: top;\n    }\n\n    .dataframe thead th {\n        text-align: right;\n    }\n</style>\n<table border=\"1\" class=\"dataframe\">\n  <thead>\n    <tr style=\"text-align: right;\">\n      <th></th>\n      <th>commodity_desc</th>\n      <th>state_alpha</th>\n      <th>statisticcat_desc</th>\n      <th>util_practice_desc</th>\n      <th>unit_desc</th>\n      <th>state_alpha</th>\n      <th>freq_desc</th>\n      <th>year</th>\n      <th>reference_period_desc</th>\n      <th>Value</th>\n    </tr>\n  </thead>\n  <tbody>\n    <tr>\n      <th>0</th>\n      <td>CORN</td>\n      <td>NE</td>\n      <td>STOCKS</td>\n      <td>GRAIN</td>\n      <td>BU</td>\n      <td>NE</td>\n      <td>POINT IN TIME</td>\n      <td>2020</td>\n      <td>FIRST OF MAR</td>\n      <td>993613000</td>\n    </tr>\n    <tr>\n      <th>1</th>\n      <td>CORN</td>\n      <td>NE</td>\n      <td>STOCKS</td>\n      <td>GRAIN</td>\n      <td>BU</td>\n      <td>NE</td>\n      <td>POINT IN TIME</td>\n      <td>2020</td>\n      <td>FIRST OF JUN</td>\n      <td>571963000</td>\n    </tr>\n    <tr>\n      <th>2</th>\n      <td>CORN</td>\n      <td>NE</td>\n      <td>STOCKS</td>\n      <td>GRAIN</td>\n      <td>BU</td>\n      <td>NE</td>\n      <td>POINT IN TIME</td>\n      <td>2020</td>\n      <td>FIRST OF SEP</td>\n      <td>238918000</td>\n    </tr>\n    <tr>\n      <th>3</th>\n      <td>CORN</td>\n      <td>NE</td>\n      <td>STOCKS</td>\n      <td>GRAIN</td>\n      <td>BU</td>\n      <td>NE</td>\n      <td>POINT IN TIME</td>\n      <td>2019</td>\n      <td>FIRST OF MAR</td>\n      <td>1006439000</td>\n    </tr>\n    <tr>\n      <th>4</th>\n      <td>CORN</td>\n      <td>NE</td>\n      <td>STOCKS</td>\n      <td>GRAIN</td>\n      <td>BU</td>\n      <td>NE</td>\n      <td>POINT IN TIME</td>\n      <td>2019</td>\n      <td>FIRST OF JUN</td>\n      <td>571797000</td>\n    </tr>\n  </tbody>\n</table>\n</div>"
     },
     "metadata": {},
     "execution_count": 36
    }
   ],
   "source": [
    "test.head()"
   ]
  },
  {
   "cell_type": "code",
   "execution_count": 38,
   "metadata": {},
   "outputs": [],
   "source": [
    "test.to_csv(f'../data/clean_data/corn_production_annual.csv')"
   ]
  },
  {
   "cell_type": "code",
   "execution_count": null,
   "metadata": {},
   "outputs": [],
   "source": []
  }
 ]
}