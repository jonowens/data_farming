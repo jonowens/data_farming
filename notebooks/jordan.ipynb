{
 "metadata": {
  "language_info": {
   "codemirror_mode": {
    "name": "ipython",
    "version": 3
   },
   "file_extension": ".py",
   "mimetype": "text/x-python",
   "name": "python",
   "nbconvert_exporter": "python",
   "pygments_lexer": "ipython3",
   "version": "3.8.3-final"
  },
  "orig_nbformat": 2,
  "kernelspec": {
   "name": "Python 3.8.3 64-bit (conda)",
   "display_name": "Python 3.8.3 64-bit (conda)",
   "metadata": {
    "interpreter": {
     "hash": "d73910f5fd2fc7209a8cd0dc809916ee987088f53b8e6d841cdfda7667b2a3cb"
    }
   }
  }
 },
 "nbformat": 4,
 "nbformat_minor": 2,
 "cells": [
  {
   "cell_type": "code",
   "execution_count": 2,
   "metadata": {},
   "outputs": [],
   "source": [
    "#import dependencies\n",
    "import pandas as pd\n",
    "import numpy as np\n",
    "import os\n",
    "from dotenv import load_dotenv\n",
    "import requests\n",
    "import json\n",
    "from pprint import pprint\n",
    "from datetime import datetime\n",
    "from libs.usda import pull_usda_data"
   ]
  },
  {
   "cell_type": "code",
   "execution_count": 3,
   "metadata": {},
   "outputs": [],
   "source": [
    "#assign usda api key\n",
    "load_dotenv()\n",
    "wasde_api_key = os.getenv('wasde_api_key')"
   ]
  },
  {
   "cell_type": "code",
   "execution_count": 4,
   "metadata": {},
   "outputs": [],
   "source": [
    "#assign paramenter variables\n",
    "# commodity_dict = {'CORN' : ['PRODUCTION', 'STOCKS'], 'SOYBEANS' : ['PRODUCTION', 'STOCKS']}\n",
    "\n",
    "commodity = 'CORN'\n",
    "statistic = 'PRODCUTION'\n",
    "data_level = 'STATE'\n",
    "state = 'NE'\n",
    "year = 2020\n",
    "data_columns = ['commodity_desc', 'statisticcat_desc', 'util_practice_desc', 'unit_desc', 'state_alpha', 'year', 'freq_desc', 'Value']"
   ]
  },
  {
   "cell_type": "code",
   "execution_count": 8,
   "metadata": {},
   "outputs": [
    {
     "output_type": "execute_result",
     "data": {
      "text/plain": [
       "<Response [401]>"
      ]
     },
     "metadata": {},
     "execution_count": 8
    }
   ],
   "source": [
    "wasde_url = f'https://usda.library.cornell.edu/api/v1/agency/findAll'\n",
    "\n",
    "wasde_data = requests.get(wasde_url, wasde_api_key).json()"
   ]
  },
  {
   "cell_type": "code",
   "execution_count": 22,
   "metadata": {},
   "outputs": [],
   "source": [
    "login_info = {'email' : 'jordan.m.gross@gmail.com', 'password' : 'Swoosh!4'}"
   ]
  },
  {
   "cell_type": "code",
   "execution_count": 24,
   "metadata": {},
   "outputs": [
    {
     "output_type": "execute_result",
     "data": {
      "text/plain": [
       "<Response [404]>"
      ]
     },
     "metadata": {},
     "execution_count": 24
    }
   ],
   "source": [
    "requests.get('https://usda.library.cornell.edu/user_token', headers = login_info)\n",
    "\n",
    "# requests.get('https://usda.library.cornell.edu/user_token')"
   ]
  },
  {
   "cell_type": "code",
   "execution_count": null,
   "metadata": {},
   "outputs": [],
   "source": []
  }
 ]
}