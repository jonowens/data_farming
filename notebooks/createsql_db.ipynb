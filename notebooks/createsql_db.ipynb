{
 "metadata": {
  "language_info": {
   "codemirror_mode": {
    "name": "ipython",
    "version": 3
   },
   "file_extension": ".py",
   "mimetype": "text/x-python",
   "name": "python",
   "nbconvert_exporter": "python",
   "pygments_lexer": "ipython3",
   "version": "3.7.7-final"
  },
  "orig_nbformat": 2,
  "kernelspec": {
   "name": "Python 3.7.7 64-bit ('pyviz_copg2_env': conda)",
   "display_name": "Python 3.7.7 64-bit ('pyviz_copg2_env': conda)",
   "metadata": {
    "interpreter": {
     "hash": "9bd8d1b8a38cb3e6840cff2e12834576abca59a175543eeefd1686e6b6961910"
    }
   }
  }
 },
 "nbformat": 4,
 "nbformat_minor": 2,
 "cells": [
  {
   "cell_type": "code",
   "execution_count": 3,
   "metadata": {},
   "outputs": [],
   "source": [
    "\"\"\" This notebook is designed to generate a postgreSQL\n",
    "database with tables\n",
    "\n",
    "source: https://pythontic.com/database/postgresql/create%20database\n",
    "\n",
    "\"\"\"\n",
    "# Import Libraries\n",
    "import os\n",
    "from dotenv import load_dotenv\n",
    "import psycopg2\n",
    "from psycopg2.extensions import ISOLATION_LEVEL_AUTOCOMMIT"
   ]
  },
  {
   "cell_type": "code",
   "execution_count": 4,
   "metadata": {},
   "outputs": [
    {
     "output_type": "execute_result",
     "data": {
      "text/plain": [
       "True"
      ]
     },
     "metadata": {},
     "execution_count": 4
    }
   ],
   "source": [
    "\n",
    "# Load .env enviroment variables\n",
    "load_dotenv()\n"
   ]
  },
  {
   "cell_type": "code",
   "execution_count": 5,
   "metadata": {},
   "outputs": [],
   "source": [
    "# Connect to postgresql dbms\n",
    "my_postgres_userid = os.getenv(\"POSTGRES_USER_ID\")\n",
    "my_postgres_password = os.getenv(\"POSTGRES_PASSWORD\")\n",
    "\n",
    "connect_command = f\"user={my_postgres_userid} password={my_postgres_password}\"\n",
    "connection = psycopg2.connect(connect_command)\n",
    "connection.set_isolation_level(ISOLATION_LEVEL_AUTOCOMMIT)\n",
    "\n",
    "# Obtain a DB cursor\n",
    "\n",
    "cursor = connection.cursor()\n",
    "name_database = \"crop_prod_db\"\n",
    "\n",
    "sqlcreate_db = f\"CREATE DATABASE {name_database}\"\n",
    "\n",
    "# Execute the command\n",
    "cursor.execute(sqlcreate_db)"
   ]
  },
  {
   "cell_type": "code",
   "execution_count": 6,
   "metadata": {},
   "outputs": [],
   "source": [
    "# Create tables \n",
    "\n",
    "dbsession2 = psycopg2.connect(database = name_database, user= my_postgres_userid, password = my_postgres_password)\n",
    "dbcursor = dbsession2.cursor()\n",
    "dbsession2.autocommit = True\n",
    "\n",
    "query_tables_create = \"\"\"\n",
    "DROP TABLE IF EXISTS states CASCADE;\n",
    "DROP TABLE IF EXISTS temperatures  CASCADE;\n",
    "DROP TABLE IF EXISTS crop_name CASCADE;\n",
    "DROP TABLE IF EXISTS crop_production_total CASCADE;\n",
    "\n",
    "CREATE TABLE states (\n",
    "\tstate_id SERIAL PRIMARY KEY\n",
    "\t, state_name CHAR(2)\n",
    ");\n",
    "\n",
    "\n",
    "\n",
    "CREATE TABLE temperatures (\n",
    "\tstate_id INT NOT NULL,\n",
    "\tFOREIGN KEY (state_id) REFERENCES states(state_id)\n",
    "\t, year INT NOT NULL\n",
    "\t, jan FLOAT NOT NULL\n",
    "\t, feb FLOAT NOT NULL\n",
    "\t, mar FLOAT NOT NULL\n",
    "\t, apr FLOAT NOT NULL\n",
    "\t, may FLOAT NOT NULL\n",
    "\t, jun FLOAT NOT NULL\n",
    "\t, jul FLOAT NOT NULL\n",
    "\t, ago FLOAT NOT NULL\n",
    "\t, sep FLOAT NOT NULL\n",
    "\t, oct FLOAT NOT NULL\n",
    "\t, nov FLOAT NOT NULL\n",
    "\t, dec FLOAT NOT NULL\n",
    ");\n",
    "\n",
    "\n",
    "\n",
    "CREATE TABLE crop_name (\n",
    "\tcrop_id SERIAL PRIMARY KEY\n",
    "\t, crop_name VARCHAR(255) \n",
    ");\n",
    "\n",
    "\n",
    "\n",
    "CREATE TABLE crop_production_total (\n",
    "\tcrop_id INT NOT NULL,\n",
    "\tFOREIGN KEY (crop_id) REFERENCES crop_name(crop_id),\n",
    "\tyear DATE,\n",
    "\tmarch_1st BIGINT,\n",
    "\tjun_1st BIGINT,\n",
    "\tsep_1st BIGINT,\n",
    "\tdec_1st BIGINT\n",
    ");\n",
    "\n",
    "\n",
    "\"\"\"\n",
    "\n",
    "dbcursor.execute(query_tables_create)\n",
    "dbsession2.close()"
   ]
  },
  {
   "cell_type": "code",
   "execution_count": null,
   "metadata": {},
   "outputs": [],
   "source": []
  }
 ]
}