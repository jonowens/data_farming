{
 "metadata": {
  "language_info": {
   "codemirror_mode": {
    "name": "ipython",
    "version": 3
   },
   "file_extension": ".py",
   "mimetype": "text/x-python",
   "name": "python",
   "nbconvert_exporter": "python",
   "pygments_lexer": "ipython3",
   "version": "3.7.7-final"
  },
  "orig_nbformat": 2,
  "kernelspec": {
   "name": "Python 3.7.7 64-bit ('alpacaenv': conda)",
   "display_name": "Python 3.7.7 64-bit ('alpacaenv': conda)",
   "metadata": {
    "interpreter": {
     "hash": "6a6a73cfb8d5d2b61b0375d533efbc3906bb01b2f10ea48f8a8d12f081066e28"
    }
   }
  }
 },
 "nbformat": 4,
 "nbformat_minor": 2,
 "cells": [
  {
   "source": [
    "# Project 1 Notebook for Jonathan Owens\n",
    "This notebook is to keep track of the various items worked on with a place to collaborate all thoughts, ideas and creations with the team.\n"
   ],
   "cell_type": "markdown",
   "metadata": {}
  },
  {
   "source": [
    "## Regional weather site code and elements for the region growing corn, wheat and soybeans\n",
    "http://http://builder.rcc-acis.org/\n",
    "\n",
    "- Station ID: KOMA\n",
    "    - Location: Omaha Eppley Airfield\n",
    "    - Region: Omaha, Nebrask\n",
    "- Start date: 2000-10-26\n",
    "- End date: 2020-10-28\n",
    "- Elements: pcpn,avgt (percipitation, average temperature)\n",
    "- Output: csv (comma seperated value)\n"
   ],
   "cell_type": "markdown",
   "metadata": {}
  },
  {
   "source": [
    "## Regional Climate Centers (RCC) - Applied Climate Information Systems (ACIS) Documentation\n",
    "    \n",
    "- Documentation: http://www.rcc-acis.org/docs_webservices.html\n",
    "\n",
    "- API URL: http://data.rcc-acis.org/StnData\n",
    "\n",
    "- API URL ELEMENTS:\n",
    "\n",
    "    elements = {\n",
    "        sid=KOMA,\n",
    "        sdate=20001026,\n",
    "        edate=20201028,\n",
    "        elems=pcpn,avgt,\n",
    "        output=csv\n",
    "        }\n",
    "\n",
    "- Missing data values are returned as \"M\" and traces of precipitation, snowfall or snow depth are returned as \"T\".\n"
   ],
   "cell_type": "markdown",
   "metadata": {}
  },
  {
   "cell_type": "code",
   "execution_count": 1,
   "metadata": {},
   "outputs": [],
   "source": [
    "# Libraries\n",
    "import requests\n",
    "import pandas as pd\n",
    "import json\n",
    "from pathlib import Path\n",
    "from libs import weather\n",
    "import datetime as dt\n"
   ]
  },
  {
   "cell_type": "code",
   "execution_count": 21,
   "metadata": {},
   "outputs": [],
   "source": [
    "# Initialize variables\n",
    "# Station id\n",
    "station_id = 'KOMA'\n",
    "# Starting date, furthest back\n",
    "start_date = '20001026'\n",
    "# Ending date, most recent\n",
    "end_date = '20201028'\n",
    "# Meta data to narrow information returned\n",
    "meta_data = 'name'\n",
    "# Data arguments to pull, precipitation, average temperature\n",
    "elements = 'pcpn,avgt'\n",
    "# Output to csv or json\n",
    "output_style = 'json'\n",
    "# API URL string\n",
    "rcc_url = f'http://data.rcc-acis.org/StnData?sid={station_id}&sdate={start_date}&edate={end_date}&meta={meta_data}&elems={elements}&output={output_style}'\n"
   ]
  },
  {
   "cell_type": "code",
   "execution_count": 22,
   "metadata": {},
   "outputs": [],
   "source": [
    "# Fetch current data\n",
    "response_data = requests.get(rcc_url)\n"
   ]
  },
  {
   "cell_type": "code",
   "execution_count": 23,
   "metadata": {},
   "outputs": [],
   "source": [
    "# Accept json format\n",
    "data = response_data.json()\n"
   ]
  },
  {
   "cell_type": "code",
   "execution_count": 24,
   "metadata": {
    "tags": []
   },
   "outputs": [],
   "source": [
    "# Print json.dumps data\n",
    "#print(json.dumps(data, indent=4))\n"
   ]
  },
  {
   "cell_type": "code",
   "execution_count": 25,
   "metadata": {},
   "outputs": [
    {
     "output_type": "execute_result",
     "data": {
      "text/plain": [
       "            0     1     2\n",
       "0  2000-10-26     T  62.0\n",
       "1  2000-10-27  0.00  54.5\n",
       "2  2000-10-28     T  56.5\n",
       "3  2000-10-29  0.68  56.5\n",
       "4  2000-10-30  0.00  60.0"
      ],
      "text/html": "<div>\n<style scoped>\n    .dataframe tbody tr th:only-of-type {\n        vertical-align: middle;\n    }\n\n    .dataframe tbody tr th {\n        vertical-align: top;\n    }\n\n    .dataframe thead th {\n        text-align: right;\n    }\n</style>\n<table border=\"1\" class=\"dataframe\">\n  <thead>\n    <tr style=\"text-align: right;\">\n      <th></th>\n      <th>0</th>\n      <th>1</th>\n      <th>2</th>\n    </tr>\n  </thead>\n  <tbody>\n    <tr>\n      <th>0</th>\n      <td>2000-10-26</td>\n      <td>T</td>\n      <td>62.0</td>\n    </tr>\n    <tr>\n      <th>1</th>\n      <td>2000-10-27</td>\n      <td>0.00</td>\n      <td>54.5</td>\n    </tr>\n    <tr>\n      <th>2</th>\n      <td>2000-10-28</td>\n      <td>T</td>\n      <td>56.5</td>\n    </tr>\n    <tr>\n      <th>3</th>\n      <td>2000-10-29</td>\n      <td>0.68</td>\n      <td>56.5</td>\n    </tr>\n    <tr>\n      <th>4</th>\n      <td>2000-10-30</td>\n      <td>0.00</td>\n      <td>60.0</td>\n    </tr>\n  </tbody>\n</table>\n</div>"
     },
     "metadata": {},
     "execution_count": 25
    }
   ],
   "source": [
    "# Create dataframe\n",
    "weather_data =  pd.DataFrame(data['data'])\n",
    "weather_data.head()\n"
   ]
  },
  {
   "cell_type": "code",
   "execution_count": 26,
   "metadata": {},
   "outputs": [
    {
     "output_type": "execute_result",
     "data": {
      "text/plain": [
       "         date precipitation average_temperature\n",
       "0  2000-10-26             T                62.0\n",
       "1  2000-10-27          0.00                54.5\n",
       "2  2000-10-28             T                56.5\n",
       "3  2000-10-29          0.68                56.5\n",
       "4  2000-10-30          0.00                60.0"
      ],
      "text/html": "<div>\n<style scoped>\n    .dataframe tbody tr th:only-of-type {\n        vertical-align: middle;\n    }\n\n    .dataframe tbody tr th {\n        vertical-align: top;\n    }\n\n    .dataframe thead th {\n        text-align: right;\n    }\n</style>\n<table border=\"1\" class=\"dataframe\">\n  <thead>\n    <tr style=\"text-align: right;\">\n      <th></th>\n      <th>date</th>\n      <th>precipitation</th>\n      <th>average_temperature</th>\n    </tr>\n  </thead>\n  <tbody>\n    <tr>\n      <th>0</th>\n      <td>2000-10-26</td>\n      <td>T</td>\n      <td>62.0</td>\n    </tr>\n    <tr>\n      <th>1</th>\n      <td>2000-10-27</td>\n      <td>0.00</td>\n      <td>54.5</td>\n    </tr>\n    <tr>\n      <th>2</th>\n      <td>2000-10-28</td>\n      <td>T</td>\n      <td>56.5</td>\n    </tr>\n    <tr>\n      <th>3</th>\n      <td>2000-10-29</td>\n      <td>0.68</td>\n      <td>56.5</td>\n    </tr>\n    <tr>\n      <th>4</th>\n      <td>2000-10-30</td>\n      <td>0.00</td>\n      <td>60.0</td>\n    </tr>\n  </tbody>\n</table>\n</div>"
     },
     "metadata": {},
     "execution_count": 26
    }
   ],
   "source": [
    "# Create column headings and assign\n",
    "weather_data.columns = ['date', 'precipitation', 'average_temperature']\n",
    "weather_data.head()"
   ]
  },
  {
   "cell_type": "code",
   "execution_count": 27,
   "metadata": {},
   "outputs": [],
   "source": [
    "# Drop rows with values of 'M'\n",
    "index_rows = weather_data[weather_data.average_temperature == 'M'].index\n",
    "clean_weather_data = weather_data.drop(index_rows)\n"
   ]
  },
  {
   "cell_type": "code",
   "execution_count": 28,
   "metadata": {},
   "outputs": [],
   "source": [
    "# Replace values of 'T' with 0.0001 to represent a value other than 0 or False\n",
    "# A measurement of precipitation was detected, but not provided\n",
    "clean_weather_data['precipitation'] = clean_weather_data['precipitation'].replace('T', 0.0001)\n"
   ]
  },
  {
   "cell_type": "code",
   "execution_count": 29,
   "metadata": {},
   "outputs": [],
   "source": [
    "# Change date values from object to datetime\n",
    "clean_weather_data['date'] = pd.to_datetime(clean_weather_data['date'])\n"
   ]
  },
  {
   "cell_type": "code",
   "execution_count": 30,
   "metadata": {},
   "outputs": [],
   "source": [
    "# Change precipitation values from object to type float\n",
    "clean_weather_data['precipitation'] = clean_weather_data['precipitation'].astype(float)\n",
    "# Change average_temperature values from object to type float\n",
    "clean_weather_data['average_temperature'] = clean_weather_data['average_temperature'].astype(float)\n"
   ]
  },
  {
   "cell_type": "code",
   "execution_count": 31,
   "metadata": {},
   "outputs": [
    {
     "output_type": "execute_result",
     "data": {
      "text/plain": [
       "            precipitation  average_temperature\n",
       "date                                          \n",
       "2000-10-26         0.0001                 62.0\n",
       "2000-10-27         0.0000                 54.5\n",
       "2000-10-28         0.0001                 56.5\n",
       "2000-10-29         0.6800                 56.5\n",
       "2000-10-30         0.0000                 60.0"
      ],
      "text/html": "<div>\n<style scoped>\n    .dataframe tbody tr th:only-of-type {\n        vertical-align: middle;\n    }\n\n    .dataframe tbody tr th {\n        vertical-align: top;\n    }\n\n    .dataframe thead th {\n        text-align: right;\n    }\n</style>\n<table border=\"1\" class=\"dataframe\">\n  <thead>\n    <tr style=\"text-align: right;\">\n      <th></th>\n      <th>precipitation</th>\n      <th>average_temperature</th>\n    </tr>\n    <tr>\n      <th>date</th>\n      <th></th>\n      <th></th>\n    </tr>\n  </thead>\n  <tbody>\n    <tr>\n      <th>2000-10-26</th>\n      <td>0.0001</td>\n      <td>62.0</td>\n    </tr>\n    <tr>\n      <th>2000-10-27</th>\n      <td>0.0000</td>\n      <td>54.5</td>\n    </tr>\n    <tr>\n      <th>2000-10-28</th>\n      <td>0.0001</td>\n      <td>56.5</td>\n    </tr>\n    <tr>\n      <th>2000-10-29</th>\n      <td>0.6800</td>\n      <td>56.5</td>\n    </tr>\n    <tr>\n      <th>2000-10-30</th>\n      <td>0.0000</td>\n      <td>60.0</td>\n    </tr>\n  </tbody>\n</table>\n</div>"
     },
     "metadata": {},
     "execution_count": 31
    }
   ],
   "source": [
    "# Set index to date and view clean dataframe\n",
    "clean_weather_data.set_index('date', inplace=True)\n",
    "clean_weather_data.head()\n"
   ]
  },
  {
   "cell_type": "code",
   "execution_count": 32,
   "metadata": {},
   "outputs": [],
   "source": [
    "# Testing weather library and function\n",
    "#returned_data = weather.get_precipitation_and_average_temperature('KOMA', '20001026', '20201028')\n",
    "#returned_data.head()\n"
   ]
  },
  {
   "source": [
    "### Build dataframe of three stations, 'KOMA', 'KCDR', 'KMCK'\n"
   ],
   "cell_type": "markdown",
   "metadata": {}
  },
  {
   "cell_type": "code",
   "execution_count": 33,
   "metadata": {},
   "outputs": [],
   "source": [
    "# Build dataframe of three stations, 'KOMA', 'KCDR', 'KMCK'\n",
    "# Grab dataframe from first station\n",
    "#df_test = weather.get_precipitation_and_average_temperature('KOMA', '20001026', '20201028')\n",
    "#df_test.head()"
   ]
  },
  {
   "cell_type": "code",
   "execution_count": 34,
   "metadata": {},
   "outputs": [],
   "source": [
    "# Grab dataframe from second station\n",
    "#df2_test = weather.get_precipitation_and_average_temperature('KCDR', '20001026', '20201028')\n",
    "#df2_test.head()\n"
   ]
  },
  {
   "cell_type": "code",
   "execution_count": 35,
   "metadata": {},
   "outputs": [],
   "source": [
    "# Grab dataframe from third station\n",
    "#df3_test = weather.get_precipitation_and_average_temperature('KMCK', '20001026', '20201028')\n",
    "#print(df3_test)\n"
   ]
  },
  {
   "cell_type": "code",
   "execution_count": 36,
   "metadata": {},
   "outputs": [],
   "source": [
    "# Average the precipitations and temperatures from three stations\n",
    "#print((df_test + df2_test + df3_test) / 3)\n"
   ]
  },
  {
   "source": [
    "### Create function to pull weather data from multiple stations, combine data and output\n"
   ],
   "cell_type": "markdown",
   "metadata": {}
  },
  {
   "cell_type": "code",
   "execution_count": 44,
   "metadata": {},
   "outputs": [],
   "source": [
    "# Function to call multiple stations in a specified state based on a timeframe with a selected output format: dataframe or csv file\n",
    "def test_for_state(state_name, start_date, end_date, return_format):\n",
    "    '''Calls multiple stations in a specified state based on a timeframe, retrieves \n",
    "    a daily precipitation and average temperature, if available, for each station, \n",
    "    averages the data of the three weather stations, drops the calculated values \n",
    "    returning null to now skew data, and combines values in a dataframe format.  \n",
    "\n",
    "    Args:\n",
    "        state_name (str): State postal abbreviation (Example: 'NE')\n",
    "        start_date (str): Starting date range formatted as 'yyyymmdd'\n",
    "        end_date (str): Ending date range formatted as 'yyyymmdd'\n",
    "        return_format (str): Desired returned output is either 'csv' (comma separated\n",
    "            value) or 'df' (dataframe)\n",
    "\n",
    "    Returns:\n",
    "        A clean dataframe of information including column headings titled\n",
    "        date, precipitation, and average temperature if 'df' is specified or a 'csv'\n",
    "        file is created in .  If arguments passed into function are \n",
    "        missing then return message to user.\n",
    "    '''\n",
    "    # Initialize variables\n",
    "    # Dictionary of states and station codes.\n",
    "    # Can create a connection to a sql db in the future to store this information for data growth\n",
    "    state_station_codes = {\n",
    "        'NE': ['KOMA', 'KCDR', 'KMCK'],\n",
    "        'IA': ['KCID', 'KDSM', 'KALO'],\n",
    "        'IL': ['KORD', 'KMDW', 'KSPI']\n",
    "        }\n",
    "    list_of_stations = []\n",
    "    state_df = pd.DataFrame()\n",
    "\n",
    "    # Check for valid arguments passed in by user\n",
    "    if state_name == 'NE' or 'IA' or 'IL':\n",
    "        # Get station ids for selected state\n",
    "        list_of_stations = state_station_codes[state_name]\n",
    "\n",
    "        # Get weather data for each station\n",
    "        station_0 = weather.get_precipitation_and_average_temperature(list_of_stations[0], start_date, end_date)\n",
    "        station_1 = weather.get_precipitation_and_average_temperature(list_of_stations[1], start_date, end_date)\n",
    "        station_2 = weather.get_precipitation_and_average_temperature(list_of_stations[2], start_date, end_date)\n",
    "        \n",
    "        # Add all station data into one dataframe\n",
    "        state_df = station_0 + station_1 + station_2\n",
    "\n",
    "        # Calculate average of combine data values\n",
    "        state_df = state_df / 3\n",
    "\n",
    "        # Round values in each column\n",
    "        state_df = state_df.round({'precipitation': 4, 'average_temperature': 1})\n",
    "\n",
    "        # Drop null values to now skew data\n",
    "        state_df.dropna(inplace=True)\n",
    "\n",
    "        # Return state dateframe\n",
    "        if return_format == 'df':\n",
    "            return state_df\n",
    "\n",
    "        # Output to csv file\n",
    "        elif return_format == 'csv':\n",
    "            # Create output path and write data to csv\n",
    "            csv_output_path = Path('../data/clean_data/state_weather_data_clean.csv')\n",
    "            state_df.to_csv(csv_output_path)\n",
    "        else:\n",
    "            # Return message that return format not found\n",
    "            return 'Return format specified not found.  Pass in df or csv as a string.'\n",
    "    else: \n",
    "        # Return message that state not found\n",
    "        return 'State not found.  Pass in NE, IA or IL as a string.'\n"
   ]
  },
  {
   "cell_type": "code",
   "execution_count": 5,
   "metadata": {},
   "outputs": [
    {
     "output_type": "execute_result",
     "data": {
      "text/plain": [
       "'2015-11-02 to 2020-11-02'"
      ]
     },
     "metadata": {},
     "execution_count": 5
    }
   ],
   "source": [
    "# Pull today's date as end date and calculate start date 5 years ago\n",
    "end_date = dt.date.today()\n",
    "start_date = end_date.replace(end_date.year - 5)\n",
    "f'{start_date} to {end_date}'"
   ]
  },
  {
   "cell_type": "code",
   "execution_count": null,
   "metadata": {},
   "outputs": [],
   "source": []
  }
 ]
}