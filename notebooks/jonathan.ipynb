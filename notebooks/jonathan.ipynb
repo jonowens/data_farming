{
 "metadata": {
  "language_info": {
   "codemirror_mode": {
    "name": "ipython",
    "version": 3
   },
   "file_extension": ".py",
   "mimetype": "text/x-python",
   "name": "python",
   "nbconvert_exporter": "python",
   "pygments_lexer": "ipython3",
   "version": "3.7.7-final"
  },
  "orig_nbformat": 2,
  "kernelspec": {
   "name": "Python 3.7.7 64-bit ('alpacaenv': conda)",
   "display_name": "Python 3.7.7 64-bit ('alpacaenv': conda)",
   "metadata": {
    "interpreter": {
     "hash": "6a6a73cfb8d5d2b61b0375d533efbc3906bb01b2f10ea48f8a8d12f081066e28"
    }
   }
  }
 },
 "nbformat": 4,
 "nbformat_minor": 2,
 "cells": [
  {
   "source": [
    "# Project 1 Notebook for Jonathan Owens\n",
    "This notebook is to keep track of the various items worked on with a place to collaborate all thoughts, ideas and creations with the team.\n"
   ],
   "cell_type": "markdown",
   "metadata": {}
  },
  {
   "source": [
    "## Regional weather site code and elements for the region growing corn, wheat and soybeans\n",
    "http://http://builder.rcc-acis.org/\n",
    "\n",
    "- Station ID: KOMA\n",
    "    - Location: Omaha Eppley Airfield\n",
    "    - Region: Omaha, Nebrask\n",
    "- Start date: 2000-10-26\n",
    "- End date: 2020-10-28\n",
    "- Elements: pcpn,avgt (percipitation, average temperature)\n",
    "- Output: csv (comma seperated value)\n"
   ],
   "cell_type": "markdown",
   "metadata": {}
  },
  {
   "source": [
    "## Regional Climate Centers (RCC) - Applied Climate Information Systems (ACIS) Documentation\n",
    "    \n",
    "- Documentation: http://www.rcc-acis.org/docs_webservices.html\n",
    "\n",
    "- API URL: http://data.rcc-acis.org/StnData\n",
    "\n",
    "- API URL ELEMENTS:\n",
    "\n",
    "    elements = {\n",
    "        sid=KOMA,\n",
    "        sdate=20001026,\n",
    "        edate=20201028,\n",
    "        elems=pcpn,avgt,\n",
    "        output=csv\n",
    "        }\n",
    "\n",
    "- Missing data values are returned as \"M\" and traces of precipitation, snowfall or snow depth are returned as \"T\".\n"
   ],
   "cell_type": "markdown",
   "metadata": {}
  },
  {
   "cell_type": "code",
   "execution_count": 1,
   "metadata": {},
   "outputs": [],
   "source": [
    "# Libraries\n",
    "import requests\n",
    "import pandas as pd\n",
    "import json\n",
    "from pathlib import Path\n",
    "import libs.weather as weather\n"
   ]
  },
  {
   "cell_type": "code",
   "execution_count": 2,
   "metadata": {},
   "outputs": [],
   "source": [
    "# Initialize variables\n",
    "# Station id\n",
    "station_id = 'KOMA'\n",
    "# Starting date, furthest back\n",
    "start_date = '20001026'\n",
    "# Ending date, most recent\n",
    "end_date = '20201028'\n",
    "# Meta data to narrow information returned\n",
    "meta_data = 'name'\n",
    "# Data arguments to pull, precipitation, average temperature\n",
    "elements = 'pcpn,avgt'\n",
    "# Output to csv or json\n",
    "output_style = 'json'\n",
    "# API URL string\n",
    "rcc_url = f'http://data.rcc-acis.org/StnData?sid={station_id}&sdate={start_date}&edate={end_date}&meta={meta_data}&elems={elements}&output={output_style}'\n"
   ]
  },
  {
   "cell_type": "code",
   "execution_count": 3,
   "metadata": {},
   "outputs": [],
   "source": [
    "# Fetch current data\n",
    "response_data = requests.get(rcc_url)\n"
   ]
  },
  {
   "cell_type": "code",
   "execution_count": 4,
   "metadata": {},
   "outputs": [],
   "source": [
    "# Accept json format\n",
    "data = response_data.json()\n"
   ]
  },
  {
   "cell_type": "code",
   "execution_count": 5,
   "metadata": {
    "tags": []
   },
   "outputs": [],
   "source": [
    "# Print json.dumps data\n",
    "#print(json.dumps(data, indent=4))\n"
   ]
  },
  {
   "cell_type": "code",
   "execution_count": 6,
   "metadata": {},
   "outputs": [],
   "source": [
    "# Create dataframe\n",
    "weather_data =  pd.DataFrame(data['data'])\n",
    "#weather_data.head()\n"
   ]
  },
  {
   "cell_type": "code",
   "execution_count": 7,
   "metadata": {},
   "outputs": [],
   "source": [
    "# Create column headings and assign\n",
    "weather_data.columns = ['date', 'precipitation', 'average_temperature']\n",
    "#weather_data.head()"
   ]
  },
  {
   "cell_type": "code",
   "execution_count": 8,
   "metadata": {},
   "outputs": [],
   "source": [
    "# Drop rows with values of 'M'\n",
    "index_rows = weather_data[weather_data.average_temperature == 'M'].index\n",
    "clean_weather_data = weather_data.drop(index_rows)\n"
   ]
  },
  {
   "cell_type": "code",
   "execution_count": 9,
   "metadata": {},
   "outputs": [],
   "source": [
    "# Replace values of 'T' with 0.0001 to represent a value other than 0 or False\n",
    "# A measurement of precipitation was detected, but not provided\n",
    "clean_weather_data['precipitation'] = clean_weather_data['precipitation'].replace('T', 0.0001)\n"
   ]
  },
  {
   "cell_type": "code",
   "execution_count": 10,
   "metadata": {},
   "outputs": [],
   "source": [
    "# Change date values from object to datetime\n",
    "clean_weather_data['date'] = pd.to_datetime(clean_weather_data['date'])\n"
   ]
  },
  {
   "cell_type": "code",
   "execution_count": 11,
   "metadata": {},
   "outputs": [],
   "source": [
    "# Change precipitation values from object to type float\n",
    "clean_weather_data['precipitation'] = clean_weather_data['precipitation'].astype(float)\n",
    "# Change average_temperature values from object to type float\n",
    "clean_weather_data['average_temperature'] = clean_weather_data['average_temperature'].astype(float)\n"
   ]
  },
  {
   "cell_type": "code",
   "execution_count": 12,
   "metadata": {},
   "outputs": [
    {
     "output_type": "execute_result",
     "data": {
      "text/plain": [
       "            precipitation  average_temperature\n",
       "date                                          \n",
       "2000-10-26         0.0001                 62.0\n",
       "2000-10-27         0.0000                 54.5\n",
       "2000-10-28         0.0001                 56.5\n",
       "2000-10-29         0.6800                 56.5\n",
       "2000-10-30         0.0000                 60.0"
      ],
      "text/html": "<div>\n<style scoped>\n    .dataframe tbody tr th:only-of-type {\n        vertical-align: middle;\n    }\n\n    .dataframe tbody tr th {\n        vertical-align: top;\n    }\n\n    .dataframe thead th {\n        text-align: right;\n    }\n</style>\n<table border=\"1\" class=\"dataframe\">\n  <thead>\n    <tr style=\"text-align: right;\">\n      <th></th>\n      <th>precipitation</th>\n      <th>average_temperature</th>\n    </tr>\n    <tr>\n      <th>date</th>\n      <th></th>\n      <th></th>\n    </tr>\n  </thead>\n  <tbody>\n    <tr>\n      <th>2000-10-26</th>\n      <td>0.0001</td>\n      <td>62.0</td>\n    </tr>\n    <tr>\n      <th>2000-10-27</th>\n      <td>0.0000</td>\n      <td>54.5</td>\n    </tr>\n    <tr>\n      <th>2000-10-28</th>\n      <td>0.0001</td>\n      <td>56.5</td>\n    </tr>\n    <tr>\n      <th>2000-10-29</th>\n      <td>0.6800</td>\n      <td>56.5</td>\n    </tr>\n    <tr>\n      <th>2000-10-30</th>\n      <td>0.0000</td>\n      <td>60.0</td>\n    </tr>\n  </tbody>\n</table>\n</div>"
     },
     "metadata": {},
     "execution_count": 12
    }
   ],
   "source": [
    "# Set index to date and view clean dataframe\n",
    "clean_weather_data.set_index('date', inplace=True)\n",
    "clean_weather_data.head()\n"
   ]
  },
  {
   "cell_type": "code",
   "execution_count": 13,
   "metadata": {},
   "outputs": [
    {
     "output_type": "execute_result",
     "data": {
      "text/plain": [
       "            precipitation  average_temperature\n",
       "date                                          \n",
       "2000-10-26         0.0001                 62.0\n",
       "2000-10-27         0.0000                 54.5\n",
       "2000-10-28         0.0001                 56.5\n",
       "2000-10-29         0.6800                 56.5\n",
       "2000-10-30         0.0000                 60.0"
      ],
      "text/html": "<div>\n<style scoped>\n    .dataframe tbody tr th:only-of-type {\n        vertical-align: middle;\n    }\n\n    .dataframe tbody tr th {\n        vertical-align: top;\n    }\n\n    .dataframe thead th {\n        text-align: right;\n    }\n</style>\n<table border=\"1\" class=\"dataframe\">\n  <thead>\n    <tr style=\"text-align: right;\">\n      <th></th>\n      <th>precipitation</th>\n      <th>average_temperature</th>\n    </tr>\n    <tr>\n      <th>date</th>\n      <th></th>\n      <th></th>\n    </tr>\n  </thead>\n  <tbody>\n    <tr>\n      <th>2000-10-26</th>\n      <td>0.0001</td>\n      <td>62.0</td>\n    </tr>\n    <tr>\n      <th>2000-10-27</th>\n      <td>0.0000</td>\n      <td>54.5</td>\n    </tr>\n    <tr>\n      <th>2000-10-28</th>\n      <td>0.0001</td>\n      <td>56.5</td>\n    </tr>\n    <tr>\n      <th>2000-10-29</th>\n      <td>0.6800</td>\n      <td>56.5</td>\n    </tr>\n    <tr>\n      <th>2000-10-30</th>\n      <td>0.0000</td>\n      <td>60.0</td>\n    </tr>\n  </tbody>\n</table>\n</div>"
     },
     "metadata": {},
     "execution_count": 13
    }
   ],
   "source": [
    "# Testing weather library and function\n",
    "returned_data = weather.get_precipitation_and_average_temperature('KOMA', '20001026', '20201028')\n",
    "returned_data.head()\n"
   ]
  },
  {
   "source": [
    "### Build dataframe of three stations, 'KOMA', 'KCDR', 'KMCK'\n"
   ],
   "cell_type": "markdown",
   "metadata": {}
  },
  {
   "cell_type": "code",
   "execution_count": 14,
   "metadata": {},
   "outputs": [
    {
     "output_type": "execute_result",
     "data": {
      "text/plain": [
       "            precipitation  average_temperature\n",
       "date                                          \n",
       "2000-10-26         0.0001                 62.0\n",
       "2000-10-27         0.0000                 54.5\n",
       "2000-10-28         0.0001                 56.5\n",
       "2000-10-29         0.6800                 56.5\n",
       "2000-10-30         0.0000                 60.0"
      ],
      "text/html": "<div>\n<style scoped>\n    .dataframe tbody tr th:only-of-type {\n        vertical-align: middle;\n    }\n\n    .dataframe tbody tr th {\n        vertical-align: top;\n    }\n\n    .dataframe thead th {\n        text-align: right;\n    }\n</style>\n<table border=\"1\" class=\"dataframe\">\n  <thead>\n    <tr style=\"text-align: right;\">\n      <th></th>\n      <th>precipitation</th>\n      <th>average_temperature</th>\n    </tr>\n    <tr>\n      <th>date</th>\n      <th></th>\n      <th></th>\n    </tr>\n  </thead>\n  <tbody>\n    <tr>\n      <th>2000-10-26</th>\n      <td>0.0001</td>\n      <td>62.0</td>\n    </tr>\n    <tr>\n      <th>2000-10-27</th>\n      <td>0.0000</td>\n      <td>54.5</td>\n    </tr>\n    <tr>\n      <th>2000-10-28</th>\n      <td>0.0001</td>\n      <td>56.5</td>\n    </tr>\n    <tr>\n      <th>2000-10-29</th>\n      <td>0.6800</td>\n      <td>56.5</td>\n    </tr>\n    <tr>\n      <th>2000-10-30</th>\n      <td>0.0000</td>\n      <td>60.0</td>\n    </tr>\n  </tbody>\n</table>\n</div>"
     },
     "metadata": {},
     "execution_count": 14
    }
   ],
   "source": [
    "# Build dataframe of three stations, 'KOMA', 'KCDR', 'KMCK'\n",
    "# Grab dataframe from first station\n",
    "df_test = weather.get_precipitation_and_average_temperature('KOMA', '20001026', '20201028')\n",
    "df_test.head()"
   ]
  },
  {
   "cell_type": "code",
   "execution_count": 15,
   "metadata": {},
   "outputs": [
    {
     "output_type": "execute_result",
     "data": {
      "text/plain": [
       "            precipitation  average_temperature\n",
       "date                                          \n",
       "2000-10-26           0.00                 48.0\n",
       "2000-10-27           0.00                 46.5\n",
       "2000-10-28           0.32                 57.5\n",
       "2000-10-29           0.75                 46.5\n",
       "2000-10-30           0.00                 50.5"
      ],
      "text/html": "<div>\n<style scoped>\n    .dataframe tbody tr th:only-of-type {\n        vertical-align: middle;\n    }\n\n    .dataframe tbody tr th {\n        vertical-align: top;\n    }\n\n    .dataframe thead th {\n        text-align: right;\n    }\n</style>\n<table border=\"1\" class=\"dataframe\">\n  <thead>\n    <tr style=\"text-align: right;\">\n      <th></th>\n      <th>precipitation</th>\n      <th>average_temperature</th>\n    </tr>\n    <tr>\n      <th>date</th>\n      <th></th>\n      <th></th>\n    </tr>\n  </thead>\n  <tbody>\n    <tr>\n      <th>2000-10-26</th>\n      <td>0.00</td>\n      <td>48.0</td>\n    </tr>\n    <tr>\n      <th>2000-10-27</th>\n      <td>0.00</td>\n      <td>46.5</td>\n    </tr>\n    <tr>\n      <th>2000-10-28</th>\n      <td>0.32</td>\n      <td>57.5</td>\n    </tr>\n    <tr>\n      <th>2000-10-29</th>\n      <td>0.75</td>\n      <td>46.5</td>\n    </tr>\n    <tr>\n      <th>2000-10-30</th>\n      <td>0.00</td>\n      <td>50.5</td>\n    </tr>\n  </tbody>\n</table>\n</div>"
     },
     "metadata": {},
     "execution_count": 15
    }
   ],
   "source": [
    "# Grab dataframe from second station\n",
    "df2_test = weather.get_precipitation_and_average_temperature('KCDR', '20001026', '20201028')\n",
    "df2_test.head()\n"
   ]
  },
  {
   "cell_type": "code",
   "execution_count": 16,
   "metadata": {},
   "outputs": [
    {
     "output_type": "stream",
     "name": "stdout",
     "text": [
      "            precipitation  average_temperature\ndate                                          \n2000-10-26         0.0000                 56.5\n2000-10-27         0.0500                 53.5\n2000-10-28         1.7100                 60.0\n2000-10-29         0.3100                 53.5\n2000-10-30         0.0000                 56.5\n...                   ...                  ...\n2020-10-24         0.0000                 28.5\n2020-10-25         0.0001                 24.5\n2020-10-26         0.0900                 16.0\n2020-10-27         0.0000                 17.5\n2020-10-28         0.0000                 37.0\n\n[7289 rows x 2 columns]\n"
     ]
    }
   ],
   "source": [
    "# Grab dataframe from third station\n",
    "df3_test = weather.get_precipitation_and_average_temperature('KMCK', '20001026', '20201028')\n",
    "print(df3_test)\n"
   ]
  },
  {
   "cell_type": "code",
   "execution_count": 19,
   "metadata": {},
   "outputs": [
    {
     "output_type": "stream",
     "name": "stdout",
     "text": [
      "            precipitation  average_temperature\ndate                                          \n2000-10-26       0.000033            55.500000\n2000-10-27       0.016667            51.500000\n2000-10-28       0.676700            58.000000\n2000-10-29       0.580000            52.166667\n2000-10-30       0.000000            55.666667\n...                   ...                  ...\n2020-10-24       0.000033            28.333333\n2020-10-25       0.023400            22.333333\n2020-10-26       0.043333            16.000000\n2020-10-27       0.000000            21.833333\n2020-10-28       0.000000            37.666667\n\n[7308 rows x 2 columns]\n"
     ]
    }
   ],
   "source": [
    "# Average the precipitations and temperatures from three stations\n",
    "print((df_test + df2_test + df3_test) / 3)\n"
   ]
  },
  {
   "cell_type": "code",
   "execution_count": null,
   "metadata": {},
   "outputs": [],
   "source": [
    "# Function to call multiple stations in a specified state based on a timeframe with a selected output format: dataframe or csv file\n",
    "def from_state(state_name, start_date, end_date, return_format):\n",
    "    # Initialize variables\n",
    "    # Dictionary of states and station codes\n",
    "    # Can create a connection to a sql db in the future to store this information for data growth\n",
    "    state_station_codes = {\n",
    "        'NE': ['KOMA', 'KCDR', 'KMCK'],\n",
    "        'IA': ['KCID', 'KDSM', 'KALO'],\n",
    "        'IL': ['KORD', 'KMDW', 'KSPI']\n",
    "        }\n",
    "    list_of_stations = []\n",
    "    state_df = pd.DataFrame()\n",
    "\n",
    "    # Check for valid arguments passed in by user\n",
    "    if state_name == 'NE' or 'IA' or 'IL':\n",
    "        # Get station ids for selected state\n",
    "        list_of_stations = state_station_codes[state_name]\n",
    "\n",
    "        # Get station data for each station\n",
    "        for station in list_of_stations:\n",
    "            state_df = weather.get_precipitation_and_average_temperature(station, start_date, end_date)\n",
    "            print(state_df.head())\n",
    "        # Add all station data into one dataframe\n",
    "\n",
    "        # Calculate average of combine data values\n",
    "        \n",
    "        \n",
    "        # Return state dateframe\n",
    "        if return_format == 'df':\n",
    "            return state_df\n",
    "\n",
    "        # Output to csv file\n",
    "        elif return_format == 'csv':\n",
    "            # Create output path and write data to csv\n",
    "            csv_output_path = Path('../data/clean_data/test_state_weather_data.csv')\n",
    "            state_df.to_csv(csv_output_path)\n",
    "        else:\n",
    "            # Return message that return format not found\n",
    "            return 'Return format specified not found.  Pass in df or csv as a string.'\n",
    "    else: \n",
    "        # Return message that state not found\n",
    "        return 'State not found.  Pass in NE, IA or IL as a string.'\n"
   ]
  },
  {
   "cell_type": "code",
   "execution_count": 18,
   "metadata": {},
   "outputs": [
    {
     "output_type": "error",
     "ename": "NameError",
     "evalue": "name 'from_state' is not defined",
     "traceback": [
      "\u001b[1;31m---------------------------------------------------------------------------\u001b[0m",
      "\u001b[1;31mNameError\u001b[0m                                 Traceback (most recent call last)",
      "\u001b[1;32m<ipython-input-18-a5bf05ea2d75>\u001b[0m in \u001b[0;36m<module>\u001b[1;34m\u001b[0m\n\u001b[1;32m----> 1\u001b[1;33m \u001b[0mresponse\u001b[0m \u001b[1;33m=\u001b[0m \u001b[0mfrom_state\u001b[0m\u001b[1;33m(\u001b[0m\u001b[1;34m'NE'\u001b[0m\u001b[1;33m,\u001b[0m \u001b[1;34m'20001026'\u001b[0m\u001b[1;33m,\u001b[0m \u001b[1;34m'20201028'\u001b[0m\u001b[1;33m,\u001b[0m\u001b[1;34m'df'\u001b[0m\u001b[1;33m)\u001b[0m\u001b[1;33m\u001b[0m\u001b[1;33m\u001b[0m\u001b[0m\n\u001b[0m\u001b[0;32m      2\u001b[0m \u001b[0mresponse\u001b[0m\u001b[1;33m.\u001b[0m\u001b[0mhead\u001b[0m\u001b[1;33m(\u001b[0m\u001b[1;33m)\u001b[0m\u001b[1;33m\u001b[0m\u001b[1;33m\u001b[0m\u001b[0m\n",
      "\u001b[1;31mNameError\u001b[0m: name 'from_state' is not defined"
     ]
    }
   ],
   "source": [
    "response = from_state('NE', '20001026', '20201028','df')\n",
    "response.head()"
   ]
  },
  {
   "cell_type": "code",
   "execution_count": null,
   "metadata": {},
   "outputs": [],
   "source": []
  }
 ]
}