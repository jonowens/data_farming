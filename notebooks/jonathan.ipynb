{
 "metadata": {
  "language_info": {
   "codemirror_mode": {
    "name": "ipython",
    "version": 3
   },
   "file_extension": ".py",
   "mimetype": "text/x-python",
   "name": "python",
   "nbconvert_exporter": "python",
   "pygments_lexer": "ipython3",
   "version": "3.8.5-final"
  },
  "orig_nbformat": 2,
  "kernelspec": {
   "name": "Python 3.8.5 64-bit ('base': conda)",
   "display_name": "Python 3.8.5 64-bit ('base': conda)",
   "metadata": {
    "interpreter": {
     "hash": "600c25c12856a842ab64bd468beca1647a20977f2accb2696f130eafa2c53eb8"
    }
   }
  }
 },
 "nbformat": 4,
 "nbformat_minor": 2,
 "cells": [
  {
   "source": [
    "# Project 1 Notebook for Jonathan Owens\n",
    "This notebook is to keep track of the various items worked on with a place to collaborate all thoughts, ideas and creations with the team.\n"
   ],
   "cell_type": "markdown",
   "metadata": {}
  },
  {
   "source": [
    "## Regional weather site code for the region growing corn, wheat and soybeans\n",
    "http://http://builder.rcc-acis.org/\n",
    "\n",
    "- Station ID: KOMA\n",
    "    - Location: Omaha Eppley Airfield\n",
    "    - Region: Omaha, Nebrask\n",
    "- Start date: 2000-10-26\n",
    "- End date: 2020-10-28\n",
    "- Elements: pcpn,avgt (percipitation, average temperature)\n",
    "- Output: csv (comma seperated value)\n"
   ],
   "cell_type": "markdown",
   "metadata": {}
  },
  {
   "source": [
    "Full API URL: http://data.rcc-acis.org/StnData?sid=KOMA&sdate=20151001&elems=pcpn,avgt&edate=20201001&output=csv\n"
   ],
   "cell_type": "markdown",
   "metadata": {}
  },
  {
   "cell_type": "code",
   "execution_count": null,
   "metadata": {},
   "outputs": [],
   "source": []
  }
 ]
}