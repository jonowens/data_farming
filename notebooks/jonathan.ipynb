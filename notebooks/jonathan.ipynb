{
 "metadata": {
  "language_info": {
   "codemirror_mode": {
    "name": "ipython",
    "version": 3
   },
   "file_extension": ".py",
   "mimetype": "text/x-python",
   "name": "python",
   "nbconvert_exporter": "python",
   "pygments_lexer": "ipython3",
   "version": "3.7.7-final"
  },
  "orig_nbformat": 2,
  "kernelspec": {
   "name": "Python 3.7.7 64-bit ('alpacaenv': conda)",
   "display_name": "Python 3.7.7 64-bit ('alpacaenv': conda)",
   "metadata": {
    "interpreter": {
     "hash": "6a6a73cfb8d5d2b61b0375d533efbc3906bb01b2f10ea48f8a8d12f081066e28"
    }
   }
  }
 },
 "nbformat": 4,
 "nbformat_minor": 2,
 "cells": [
  {
   "source": [
    "# Project 1 Notebook for Jonathan Owens\n",
    "This notebook is to keep track of the various items worked on with a place to collaborate all thoughts, ideas and creations with the team.\n"
   ],
   "cell_type": "markdown",
   "metadata": {}
  },
  {
   "source": [
    "## Regional weather site code and elements for the region growing corn, wheat and soybeans\n",
    "http://http://builder.rcc-acis.org/\n",
    "\n",
    "- Station ID: KOMA\n",
    "    - Location: Omaha Eppley Airfield\n",
    "    - Region: Omaha, Nebrask\n",
    "- Start date: 2000-10-26\n",
    "- End date: 2020-10-28\n",
    "- Elements: pcpn,avgt (percipitation, average temperature)\n",
    "- Output: csv (comma seperated value)\n"
   ],
   "cell_type": "markdown",
   "metadata": {}
  },
  {
   "source": [
    "## Regional Climate Centers (RCC) - Applied Climate Information Systems (ACIS) Documentation\n",
    "    \n",
    "- Documentation: http://www.rcc-acis.org/docs_webservices.html\n",
    "\n",
    "- API URL: http://data.rcc-acis.org/StnData\n",
    "\n",
    "- API URL ELEMENTS:\n",
    "\n",
    "    elements = {\n",
    "        sid=KOMA,\n",
    "        sdate=20001026,\n",
    "        edate=20201028,\n",
    "        elems=pcpn,avgt,\n",
    "        output=csv\n",
    "        }\n",
    "\n",
    "- Missing data values are returned as \"M\" and traces of precipitation, snowfall or snow depth are returned as \"T\".\n"
   ],
   "cell_type": "markdown",
   "metadata": {}
  },
  {
   "cell_type": "code",
   "execution_count": 1,
   "metadata": {},
   "outputs": [],
   "source": [
    "# Libraries\n",
    "import requests\n",
    "import pandas as pd\n",
    "import json\n",
    "import libs.weather as weather\n"
   ]
  },
  {
   "cell_type": "code",
   "execution_count": 2,
   "metadata": {},
   "outputs": [],
   "source": [
    "# Initialize variables\n",
    "# Station id\n",
    "station_id = 'KOMA'\n",
    "# Starting date, furthest back\n",
    "start_date = '20001026'\n",
    "# Ending date, most recent\n",
    "end_date = '20201028'\n",
    "# Meta data to narrow information returned\n",
    "meta_data = 'name'\n",
    "# Data arguments to pull, precipitation, average temperature\n",
    "elements = 'pcpn,avgt'\n",
    "# Output to csv or json\n",
    "output_style = 'json'\n",
    "# API URL string\n",
    "rcc_url = f'http://data.rcc-acis.org/StnData?sid={station_id}&sdate={start_date}&edate={end_date}&meta={meta_data}&elems={elements}&output={output_style}'\n"
   ]
  },
  {
   "cell_type": "code",
   "execution_count": 3,
   "metadata": {},
   "outputs": [],
   "source": [
    "# Fetch current data\n",
    "response_data = requests.get(rcc_url)\n"
   ]
  },
  {
   "cell_type": "code",
   "execution_count": 4,
   "metadata": {},
   "outputs": [],
   "source": [
    "# Accept json format\n",
    "data = response_data.json()\n"
   ]
  },
  {
   "cell_type": "code",
   "execution_count": 5,
   "metadata": {
    "tags": []
   },
   "outputs": [],
   "source": [
    "# Print json.dumps data\n",
    "#print(json.dumps(data, indent=4))\n"
   ]
  },
  {
   "cell_type": "code",
   "execution_count": 6,
   "metadata": {},
   "outputs": [
    {
     "output_type": "execute_result",
     "data": {
      "text/plain": [
       "            0     1     2\n",
       "0  2000-10-26     T  62.0\n",
       "1  2000-10-27  0.00  54.5\n",
       "2  2000-10-28     T  56.5\n",
       "3  2000-10-29  0.68  56.5\n",
       "4  2000-10-30  0.00  60.0"
      ],
      "text/html": "<div>\n<style scoped>\n    .dataframe tbody tr th:only-of-type {\n        vertical-align: middle;\n    }\n\n    .dataframe tbody tr th {\n        vertical-align: top;\n    }\n\n    .dataframe thead th {\n        text-align: right;\n    }\n</style>\n<table border=\"1\" class=\"dataframe\">\n  <thead>\n    <tr style=\"text-align: right;\">\n      <th></th>\n      <th>0</th>\n      <th>1</th>\n      <th>2</th>\n    </tr>\n  </thead>\n  <tbody>\n    <tr>\n      <th>0</th>\n      <td>2000-10-26</td>\n      <td>T</td>\n      <td>62.0</td>\n    </tr>\n    <tr>\n      <th>1</th>\n      <td>2000-10-27</td>\n      <td>0.00</td>\n      <td>54.5</td>\n    </tr>\n    <tr>\n      <th>2</th>\n      <td>2000-10-28</td>\n      <td>T</td>\n      <td>56.5</td>\n    </tr>\n    <tr>\n      <th>3</th>\n      <td>2000-10-29</td>\n      <td>0.68</td>\n      <td>56.5</td>\n    </tr>\n    <tr>\n      <th>4</th>\n      <td>2000-10-30</td>\n      <td>0.00</td>\n      <td>60.0</td>\n    </tr>\n  </tbody>\n</table>\n</div>"
     },
     "metadata": {},
     "execution_count": 6
    }
   ],
   "source": [
    "# Create dataframe\n",
    "weather_data =  pd.DataFrame(data['data'])\n",
    "weather_data.head()\n"
   ]
  },
  {
   "cell_type": "code",
   "execution_count": 7,
   "metadata": {},
   "outputs": [
    {
     "output_type": "execute_result",
     "data": {
      "text/plain": [
       "         date precipitation average_temperature\n",
       "0  2000-10-26             T                62.0\n",
       "1  2000-10-27          0.00                54.5\n",
       "2  2000-10-28             T                56.5\n",
       "3  2000-10-29          0.68                56.5\n",
       "4  2000-10-30          0.00                60.0"
      ],
      "text/html": "<div>\n<style scoped>\n    .dataframe tbody tr th:only-of-type {\n        vertical-align: middle;\n    }\n\n    .dataframe tbody tr th {\n        vertical-align: top;\n    }\n\n    .dataframe thead th {\n        text-align: right;\n    }\n</style>\n<table border=\"1\" class=\"dataframe\">\n  <thead>\n    <tr style=\"text-align: right;\">\n      <th></th>\n      <th>date</th>\n      <th>precipitation</th>\n      <th>average_temperature</th>\n    </tr>\n  </thead>\n  <tbody>\n    <tr>\n      <th>0</th>\n      <td>2000-10-26</td>\n      <td>T</td>\n      <td>62.0</td>\n    </tr>\n    <tr>\n      <th>1</th>\n      <td>2000-10-27</td>\n      <td>0.00</td>\n      <td>54.5</td>\n    </tr>\n    <tr>\n      <th>2</th>\n      <td>2000-10-28</td>\n      <td>T</td>\n      <td>56.5</td>\n    </tr>\n    <tr>\n      <th>3</th>\n      <td>2000-10-29</td>\n      <td>0.68</td>\n      <td>56.5</td>\n    </tr>\n    <tr>\n      <th>4</th>\n      <td>2000-10-30</td>\n      <td>0.00</td>\n      <td>60.0</td>\n    </tr>\n  </tbody>\n</table>\n</div>"
     },
     "metadata": {},
     "execution_count": 7
    }
   ],
   "source": [
    "# Create column headings and assign\n",
    "weather_data.columns = ['date', 'precipitation', 'average_temperature']\n",
    "weather_data.head()"
   ]
  },
  {
   "cell_type": "code",
   "execution_count": 8,
   "metadata": {},
   "outputs": [],
   "source": [
    "# Drop rows with values of 'M'\n",
    "index_rows = weather_data[weather_data.average_temperature == 'M'].index\n",
    "clean_weather_data = weather_data.drop(index_rows)\n"
   ]
  },
  {
   "cell_type": "code",
   "execution_count": 9,
   "metadata": {},
   "outputs": [],
   "source": [
    "# Replace values of 'T' with 0.000000001 to represent a value other than 0 or False\n",
    "# A measurement of precipitation was detected, but not provided\n",
    "clean_weather_data['precipitation'] = clean_weather_data['precipitation'].replace('T', 0.000000001)\n"
   ]
  },
  {
   "cell_type": "code",
   "execution_count": 10,
   "metadata": {},
   "outputs": [],
   "source": [
    "# Change date values from object to datetime\n",
    "clean_weather_data['date'] = pd.to_datetime(clean_weather_data['date'])\n"
   ]
  },
  {
   "cell_type": "code",
   "execution_count": 11,
   "metadata": {},
   "outputs": [],
   "source": [
    "# Change precipitation values from object to type float\n",
    "clean_weather_data['precipitation'] = clean_weather_data['precipitation'].astype(float)\n",
    "# Change average_temperature values from object to type float\n",
    "clean_weather_data['average_temperature'] = clean_weather_data['average_temperature'].astype(float)\n"
   ]
  },
  {
   "cell_type": "code",
   "execution_count": 12,
   "metadata": {},
   "outputs": [
    {
     "output_type": "execute_result",
     "data": {
      "text/plain": [
       "            precipitation  average_temperature\n",
       "date                                          \n",
       "2000-10-26         0.0001                 62.0\n",
       "2000-10-27         0.0000                 54.5\n",
       "2000-10-28         0.0001                 56.5\n",
       "2000-10-29         0.6800                 56.5\n",
       "2000-10-30         0.0000                 60.0"
      ],
      "text/html": "<div>\n<style scoped>\n    .dataframe tbody tr th:only-of-type {\n        vertical-align: middle;\n    }\n\n    .dataframe tbody tr th {\n        vertical-align: top;\n    }\n\n    .dataframe thead th {\n        text-align: right;\n    }\n</style>\n<table border=\"1\" class=\"dataframe\">\n  <thead>\n    <tr style=\"text-align: right;\">\n      <th></th>\n      <th>precipitation</th>\n      <th>average_temperature</th>\n    </tr>\n    <tr>\n      <th>date</th>\n      <th></th>\n      <th></th>\n    </tr>\n  </thead>\n  <tbody>\n    <tr>\n      <th>2000-10-26</th>\n      <td>0.0001</td>\n      <td>62.0</td>\n    </tr>\n    <tr>\n      <th>2000-10-27</th>\n      <td>0.0000</td>\n      <td>54.5</td>\n    </tr>\n    <tr>\n      <th>2000-10-28</th>\n      <td>0.0001</td>\n      <td>56.5</td>\n    </tr>\n    <tr>\n      <th>2000-10-29</th>\n      <td>0.6800</td>\n      <td>56.5</td>\n    </tr>\n    <tr>\n      <th>2000-10-30</th>\n      <td>0.0000</td>\n      <td>60.0</td>\n    </tr>\n  </tbody>\n</table>\n</div>"
     },
     "metadata": {},
     "execution_count": 12
    }
   ],
   "source": [
    "# Set index to date and view clean dataframe\n",
    "clean_weather_data.set_index('date', inplace=True)\n",
    "clean_weather_data.head()\n"
   ]
  },
  {
   "cell_type": "code",
   "execution_count": 13,
   "metadata": {},
   "outputs": [],
   "source": [
    "def get_precipitation_and_average_temperature(station_id='KOMA', start_date='20001026', end_date='20201026'):\n",
    "    # API URL string\n",
    "    rcc_url = f'http://data.rcc-acis.org/StnData?sid={station_id}&sdate={start_date}&edate={end_date}&meta=name&elems=pcpn,avgt&output=json'\n",
    "    # Fetch current data\n",
    "    response_data = requests.get(rcc_url)\n",
    "    # Accept json format\n",
    "    data = response_data.json()\n",
    "    # Create dataframe\n",
    "    weather_data =  pd.DataFrame(data['data'])\n",
    "\n",
    "    # Create column headings and assign\n",
    "    weather_data.columns = ['date', 'precipitation', 'average_temperature']\n",
    "\n",
    "    # Drop rows with values of 'M'\n",
    "    index_rows = weather_data[weather_data.average_temperature == 'M'].index\n",
    "    clean_weather_data = weather_data.drop(index_rows)\n",
    "    # Replace values of 'T' with 0.000000001 to represent a value other than 0 or False\n",
    "    # A measurement of precipitation was detected, but not provided\n",
    "    clean_weather_data['precipitation'] = clean_weather_data['precipitation'].replace('T', 0.000000001)\n",
    "\n",
    "    # Change date values from object to datetime\n",
    "    clean_weather_data['date'] = pd.to_datetime(clean_weather_data['date'])\n",
    "    # Change precipitation values from object to type float\n",
    "    clean_weather_data['precipitation'] = clean_weather_data['precipitation'].astype(float)\n",
    "    # Change average_temperature values from object to type float\n",
    "    clean_weather_data['average_temperature'] = clean_weather_data['average_temperature'].astype(float)\n",
    "\n",
    "    # Set date index\n",
    "    clean_weather_data.set_index('date', inplace=True)\n",
    "\n",
    "    # Return clean weather data\n",
    "    return clean_weather_data\n"
   ]
  },
  {
   "cell_type": "code",
   "execution_count": 14,
   "metadata": {},
   "outputs": [
    {
     "output_type": "execute_result",
     "data": {
      "text/plain": [
       "            precipitation  average_temperature\n",
       "date                                          \n",
       "2020-10-15         0.0000                 47.5\n",
       "2020-10-16         0.0000                 46.5\n",
       "2020-10-17         0.0001                 56.0\n",
       "2020-10-18         0.2300                 38.5\n",
       "2020-10-19         0.0100                 40.0"
      ],
      "text/html": "<div>\n<style scoped>\n    .dataframe tbody tr th:only-of-type {\n        vertical-align: middle;\n    }\n\n    .dataframe tbody tr th {\n        vertical-align: top;\n    }\n\n    .dataframe thead th {\n        text-align: right;\n    }\n</style>\n<table border=\"1\" class=\"dataframe\">\n  <thead>\n    <tr style=\"text-align: right;\">\n      <th></th>\n      <th>precipitation</th>\n      <th>average_temperature</th>\n    </tr>\n    <tr>\n      <th>date</th>\n      <th></th>\n      <th></th>\n    </tr>\n  </thead>\n  <tbody>\n    <tr>\n      <th>2020-10-15</th>\n      <td>0.0000</td>\n      <td>47.5</td>\n    </tr>\n    <tr>\n      <th>2020-10-16</th>\n      <td>0.0000</td>\n      <td>46.5</td>\n    </tr>\n    <tr>\n      <th>2020-10-17</th>\n      <td>0.0001</td>\n      <td>56.0</td>\n    </tr>\n    <tr>\n      <th>2020-10-18</th>\n      <td>0.2300</td>\n      <td>38.5</td>\n    </tr>\n    <tr>\n      <th>2020-10-19</th>\n      <td>0.0100</td>\n      <td>40.0</td>\n    </tr>\n  </tbody>\n</table>\n</div>"
     },
     "metadata": {},
     "execution_count": 14
    }
   ],
   "source": [
    "# Testing weather function above\n",
    "df = get_precipitation_and_average_temperature('KOMA', 20201015, 20201028)\n",
    "df.head()\n"
   ]
  },
  {
   "cell_type": "code",
   "execution_count": 15,
   "metadata": {},
   "outputs": [
    {
     "output_type": "execute_result",
     "data": {
      "text/plain": [
       "            precipitation  average_temperature\n",
       "date                                          \n",
       "2000-10-26         0.0001                 62.0\n",
       "2000-10-27         0.0000                 54.5\n",
       "2000-10-28         0.0001                 56.5\n",
       "2000-10-29         0.6800                 56.5\n",
       "2000-10-30         0.0000                 60.0"
      ],
      "text/html": "<div>\n<style scoped>\n    .dataframe tbody tr th:only-of-type {\n        vertical-align: middle;\n    }\n\n    .dataframe tbody tr th {\n        vertical-align: top;\n    }\n\n    .dataframe thead th {\n        text-align: right;\n    }\n</style>\n<table border=\"1\" class=\"dataframe\">\n  <thead>\n    <tr style=\"text-align: right;\">\n      <th></th>\n      <th>precipitation</th>\n      <th>average_temperature</th>\n    </tr>\n    <tr>\n      <th>date</th>\n      <th></th>\n      <th></th>\n    </tr>\n  </thead>\n  <tbody>\n    <tr>\n      <th>2000-10-26</th>\n      <td>0.0001</td>\n      <td>62.0</td>\n    </tr>\n    <tr>\n      <th>2000-10-27</th>\n      <td>0.0000</td>\n      <td>54.5</td>\n    </tr>\n    <tr>\n      <th>2000-10-28</th>\n      <td>0.0001</td>\n      <td>56.5</td>\n    </tr>\n    <tr>\n      <th>2000-10-29</th>\n      <td>0.6800</td>\n      <td>56.5</td>\n    </tr>\n    <tr>\n      <th>2000-10-30</th>\n      <td>0.0000</td>\n      <td>60.0</td>\n    </tr>\n  </tbody>\n</table>\n</div>"
     },
     "metadata": {},
     "execution_count": 15
    }
   ],
   "source": [
    "# Testing weather library and function\n",
    "returned_data = weather.get_precipitation_and_average_temperature()\n",
    "returned_data.head()\n"
   ]
  },
  {
   "cell_type": "code",
   "execution_count": 16,
   "metadata": {},
   "outputs": [],
   "source": [
    "# Build dataframe of three stations, 'KOMA', 'KCDR', 'KMCK'\n",
    "df = weather.get_precipitation_and_average_temperature('KOMA', '20201020', '20201028')\n",
    "df2 = weather.get_precipitation_and_average_temperature('KCDR', '20201020', '20201028')\n",
    "df3 = weather.get_precipitation_and_average_temperature('KMCK', '20201020', '20201028')\n"
   ]
  },
  {
   "cell_type": "code",
   "execution_count": 18,
   "metadata": {},
   "outputs": [
    {
     "output_type": "stream",
     "name": "stdout",
     "text": [
      "            precipitation  average_temperature\ndate                                          \n2020-10-20       0.006700            44.166667\n2020-10-21       0.006700            42.500000\n2020-10-22       0.026733            36.000000\n2020-10-23       0.000033            29.000000\n2020-10-24       0.000033            28.333333\n2020-10-25       0.023400            22.333333\n2020-10-26       0.043333            16.000000\n2020-10-27       0.000000            21.833333\n2020-10-28       0.000000            37.666667\n"
     ]
    }
   ],
   "source": [
    "# Average the precipitations and temperatures\n",
    "print((df + df2 + df3) / 3)\n"
   ]
  },
  {
   "cell_type": "code",
   "execution_count": 19,
   "metadata": {},
   "outputs": [],
   "source": [
    "# Dictionary of states and station codes\n",
    "# Can create a connection to a sql db in the future to store this information for data growth\n",
    "state_station_codes = {\n",
    "    'NE': ['KOMA', 'KCDR', 'KMCK'],\n",
    "    'IA': ['KCID', 'KDSM', 'KALO'],\n",
    "    'IL': ['KORD', 'KMDW', 'KSPI']\n",
    "    }\n"
   ]
  },
  {
   "cell_type": "code",
   "execution_count": 17,
   "metadata": {},
   "outputs": [],
   "source": [
    "def from_state(state_name='NE', start_date='20201001', end_date='20201005', return_format='df'):\n",
    "    state_df = {}\n",
    "    # Check for valid arguments passed in by user\n",
    "    if state_name == 'NE' or 'IA' or 'IL':\n",
    "        # Get station ids for selected state\n",
    "        list_of_stations = state_station_codes[state_name]\n",
    "\n",
    "        # Get station data for each station\n",
    "        for station in list_of_stations:\n",
    "            list_of_station_dataframes = weather.get_precipitation_and_average_temperature(station, start_date, end_date)\n",
    "        # Add all station data into one dataframe\n",
    "        for station_data in list_of_station_dataframes:\n",
    "            print(station_data)\n",
    "\n",
    "        # Calculate average of combine data values\n",
    "        \n",
    "        \n",
    "        # Return state dateframe\n",
    "        if return_format == 'df':\n",
    "            return state_df\n",
    "\n",
    "        # Output to csv file\n",
    "        elif return_format == 'csv':\n",
    "            # Create output path and write data to csv\n",
    "            csv_output_path = Path('./clean_data/state_historical_weather.csv')\n",
    "            state_df.to_csv(csv_output_path)\n",
    "        else:\n",
    "            # Return message that return format not found\n",
    "            return 'Return format specified not found.  Pass in df or csv as a string.'\n",
    "    else: \n",
    "        # Return message that state not found\n",
    "        return 'State not found.  Pass in NE, IA or IL as a string.'\n"
   ]
  },
  {
   "cell_type": "code",
   "execution_count": 23,
   "metadata": {},
   "outputs": [
    {
     "output_type": "stream",
     "name": "stdout",
     "text": [
      "precipitation\naverage_temperature\n"
     ]
    },
    {
     "output_type": "execute_result",
     "data": {
      "text/plain": [
       "{}"
      ]
     },
     "metadata": {},
     "execution_count": 23
    }
   ],
   "source": [
    "response = from_state('NE', '20201001', '20201005','df')\n",
    "response"
   ]
  },
  {
   "source": [
    "# Notes to ask the group and for us to think about:\n",
    "1. Is there an existing weather.py library on the internet\n",
    "2. README.md, offer a template that I use to start\n"
   ],
   "cell_type": "markdown",
   "metadata": {}
  }
 ]
}