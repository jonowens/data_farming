{
 "metadata": {
  "language_info": {
   "codemirror_mode": {
    "name": "ipython",
    "version": 3
   },
   "file_extension": ".py",
   "mimetype": "text/x-python",
   "name": "python",
   "nbconvert_exporter": "python",
   "pygments_lexer": "ipython3",
   "version": "3.8.5-final"
  },
  "orig_nbformat": 2,
  "kernelspec": {
   "name": "Python 3.8.5 64-bit ('base': conda)",
   "display_name": "Python 3.8.5 64-bit ('base': conda)",
   "metadata": {
    "interpreter": {
     "hash": "600c25c12856a842ab64bd468beca1647a20977f2accb2696f130eafa2c53eb8"
    }
   }
  }
 },
 "nbformat": 4,
 "nbformat_minor": 2,
 "cells": [
  {
   "source": [
    "# Project 1 Notebook for Jonathan Owens\n",
    "This notebook is to keep track of the various items worked on with a place to collaborate all thoughts, ideas and creations with the team.\n"
   ],
   "cell_type": "markdown",
   "metadata": {}
  },
  {
   "source": [
    "## Regional weather site code and elements for the region growing corn, wheat and soybeans\n",
    "http://http://builder.rcc-acis.org/\n",
    "\n",
    "- Station ID: KOMA\n",
    "    - Location: Omaha Eppley Airfield\n",
    "    - Region: Omaha, Nebrask\n",
    "- Start date: 2000-10-26\n",
    "- Elements: pcpn,avgt (percipitation, average temperature)\n",
    "- End date: 2020-10-28\n",
    "- Output: csv (comma seperated value)\n"
   ],
   "cell_type": "markdown",
   "metadata": {}
  },
  {
   "source": [
    "## Regional Climate Centers (RCC) - Applied Climate Information Systems (ACIS) Documentation\n",
    "    \n",
    "- Documentation: http://www.rcc-acis.org/docs_webservices.html\n",
    "\n",
    "- API URL: http://data.rcc-acis.org/StnData\n",
    "\n",
    "- API URL ELEMENTS:\n",
    "\n",
    "    elements = {\n",
    "        sid=KOMA,\n",
    "        sdate=20001026,\n",
    "        elems=pcpn,avgt,\n",
    "        edate=20201028,\n",
    "        output=csv\n",
    "        }\n",
    "\n",
    "- Missing data values are returned as \"M\" and traces of precipitation, snowfall or snow depth are returned as \"T\".\n"
   ],
   "cell_type": "markdown",
   "metadata": {}
  },
  {
   "cell_type": "code",
   "execution_count": null,
   "metadata": {},
   "outputs": [],
   "source": [
    "\n"
   ]
  }
 ]
}