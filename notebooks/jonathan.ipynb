{
 "metadata": {
  "language_info": {
   "codemirror_mode": {
    "name": "ipython",
    "version": 3
   },
   "file_extension": ".py",
   "mimetype": "text/x-python",
   "name": "python",
   "nbconvert_exporter": "python",
   "pygments_lexer": "ipython3",
   "version": "3.7.7-final"
  },
  "orig_nbformat": 2,
  "kernelspec": {
   "name": "Python 3.7.7 64-bit ('alpacaenv': conda)",
   "display_name": "Python 3.7.7 64-bit ('alpacaenv': conda)",
   "metadata": {
    "interpreter": {
     "hash": "6a6a73cfb8d5d2b61b0375d533efbc3906bb01b2f10ea48f8a8d12f081066e28"
    }
   }
  }
 },
 "nbformat": 4,
 "nbformat_minor": 2,
 "cells": [
  {
   "source": [
    "# Project 1 Notebook for Jonathan Owens\n",
    "This notebook is to keep track of the various items worked on with a place to collaborate all thoughts, ideas and creations with the team.\n"
   ],
   "cell_type": "markdown",
   "metadata": {}
  },
  {
   "source": [
    "## Regional weather site code and elements for the region growing corn, wheat and soybeans\n",
    "http://http://builder.rcc-acis.org/\n",
    "\n",
    "- Station ID: KOMA\n",
    "    - Location: Omaha Eppley Airfield\n",
    "    - Region: Omaha, Nebrask\n",
    "- Start date: 2000-10-26\n",
    "- End date: 2020-10-28\n",
    "- Elements: pcpn,avgt (percipitation, average temperature)\n",
    "- Output: csv (comma seperated value)\n"
   ],
   "cell_type": "markdown",
   "metadata": {}
  },
  {
   "source": [
    "## Regional Climate Centers (RCC) - Applied Climate Information Systems (ACIS) Documentation\n",
    "    \n",
    "- Documentation: http://www.rcc-acis.org/docs_webservices.html\n",
    "\n",
    "- API URL: http://data.rcc-acis.org/StnData\n",
    "\n",
    "- API URL ELEMENTS:\n",
    "\n",
    "    elements = {\n",
    "        sid=KOMA,\n",
    "        sdate=20001026,\n",
    "        edate=20201028,\n",
    "        elems=pcpn,avgt,\n",
    "        output=csv\n",
    "        }\n",
    "\n",
    "- Missing data values are returned as \"M\" and traces of precipitation, snowfall or snow depth are returned as \"T\".\n"
   ],
   "cell_type": "markdown",
   "metadata": {}
  },
  {
   "cell_type": "code",
   "execution_count": 40,
   "metadata": {},
   "outputs": [],
   "source": [
    "# Libraries\n",
    "import requests\n",
    "import pandas as pd\n",
    "import json\n",
    "import libs.weather as weather\n"
   ]
  },
  {
   "cell_type": "code",
   "execution_count": 41,
   "metadata": {},
   "outputs": [],
   "source": [
    "# Initialize variables\n",
    "# Station id\n",
    "station_id = 'KOMA'\n",
    "# Starting date, furthest back\n",
    "start_date = '20001026'\n",
    "# Ending date, most recent\n",
    "end_date = '20201028'\n",
    "# Meta data to narrow information returned\n",
    "meta_data = 'name'\n",
    "# Data arguments to pull, precipitation, average temperature\n",
    "elements = 'pcpn,avgt'\n",
    "# Output to csv or json\n",
    "output_style = 'json'\n",
    "# API URL string\n",
    "rcc_url = f'http://data.rcc-acis.org/StnData?sid={station_id}&sdate={start_date}&edate={end_date}&meta={meta_data}&elems={elements}&output={output_style}'\n"
   ]
  },
  {
   "cell_type": "code",
   "execution_count": 42,
   "metadata": {},
   "outputs": [],
   "source": [
    "# Fetch current data\n",
    "response_data = requests.get(rcc_url)\n"
   ]
  },
  {
   "cell_type": "code",
   "execution_count": 43,
   "metadata": {},
   "outputs": [],
   "source": [
    "# Accept json format\n",
    "data = response_data.json()\n"
   ]
  },
  {
   "cell_type": "code",
   "execution_count": 44,
   "metadata": {
    "tags": []
   },
   "outputs": [],
   "source": [
    "# Print json.dumps data\n",
    "#print(json.dumps(data, indent=4))\n"
   ]
  },
  {
   "cell_type": "code",
   "execution_count": 45,
   "metadata": {},
   "outputs": [
    {
     "output_type": "execute_result",
     "data": {
      "text/plain": [
       "            0     1     2\n",
       "0  2000-10-26     T  62.0\n",
       "1  2000-10-27  0.00  54.5\n",
       "2  2000-10-28     T  56.5\n",
       "3  2000-10-29  0.68  56.5\n",
       "4  2000-10-30  0.00  60.0"
      ],
      "text/html": "<div>\n<style scoped>\n    .dataframe tbody tr th:only-of-type {\n        vertical-align: middle;\n    }\n\n    .dataframe tbody tr th {\n        vertical-align: top;\n    }\n\n    .dataframe thead th {\n        text-align: right;\n    }\n</style>\n<table border=\"1\" class=\"dataframe\">\n  <thead>\n    <tr style=\"text-align: right;\">\n      <th></th>\n      <th>0</th>\n      <th>1</th>\n      <th>2</th>\n    </tr>\n  </thead>\n  <tbody>\n    <tr>\n      <th>0</th>\n      <td>2000-10-26</td>\n      <td>T</td>\n      <td>62.0</td>\n    </tr>\n    <tr>\n      <th>1</th>\n      <td>2000-10-27</td>\n      <td>0.00</td>\n      <td>54.5</td>\n    </tr>\n    <tr>\n      <th>2</th>\n      <td>2000-10-28</td>\n      <td>T</td>\n      <td>56.5</td>\n    </tr>\n    <tr>\n      <th>3</th>\n      <td>2000-10-29</td>\n      <td>0.68</td>\n      <td>56.5</td>\n    </tr>\n    <tr>\n      <th>4</th>\n      <td>2000-10-30</td>\n      <td>0.00</td>\n      <td>60.0</td>\n    </tr>\n  </tbody>\n</table>\n</div>"
     },
     "metadata": {},
     "execution_count": 45
    }
   ],
   "source": [
    "# Create dataframe\n",
    "weather_data =  pd.DataFrame(data['data'])\n",
    "weather_data.head()\n"
   ]
  },
  {
   "cell_type": "code",
   "execution_count": 46,
   "metadata": {},
   "outputs": [
    {
     "output_type": "execute_result",
     "data": {
      "text/plain": [
       "         date precipitation average_temperature\n",
       "0  2000-10-26             T                62.0\n",
       "1  2000-10-27          0.00                54.5\n",
       "2  2000-10-28             T                56.5\n",
       "3  2000-10-29          0.68                56.5\n",
       "4  2000-10-30          0.00                60.0"
      ],
      "text/html": "<div>\n<style scoped>\n    .dataframe tbody tr th:only-of-type {\n        vertical-align: middle;\n    }\n\n    .dataframe tbody tr th {\n        vertical-align: top;\n    }\n\n    .dataframe thead th {\n        text-align: right;\n    }\n</style>\n<table border=\"1\" class=\"dataframe\">\n  <thead>\n    <tr style=\"text-align: right;\">\n      <th></th>\n      <th>date</th>\n      <th>precipitation</th>\n      <th>average_temperature</th>\n    </tr>\n  </thead>\n  <tbody>\n    <tr>\n      <th>0</th>\n      <td>2000-10-26</td>\n      <td>T</td>\n      <td>62.0</td>\n    </tr>\n    <tr>\n      <th>1</th>\n      <td>2000-10-27</td>\n      <td>0.00</td>\n      <td>54.5</td>\n    </tr>\n    <tr>\n      <th>2</th>\n      <td>2000-10-28</td>\n      <td>T</td>\n      <td>56.5</td>\n    </tr>\n    <tr>\n      <th>3</th>\n      <td>2000-10-29</td>\n      <td>0.68</td>\n      <td>56.5</td>\n    </tr>\n    <tr>\n      <th>4</th>\n      <td>2000-10-30</td>\n      <td>0.00</td>\n      <td>60.0</td>\n    </tr>\n  </tbody>\n</table>\n</div>"
     },
     "metadata": {},
     "execution_count": 46
    }
   ],
   "source": [
    "# Create column headings and assign\n",
    "weather_data.columns = ['date', 'precipitation', 'average_temperature']\n",
    "weather_data.head()"
   ]
  },
  {
   "cell_type": "code",
   "execution_count": 47,
   "metadata": {},
   "outputs": [],
   "source": [
    "# Drop rows with values of 'M'\n",
    "index_rows = weather_data[weather_data.average_temperature == 'M'].index\n",
    "clean_weather_data = weather_data.drop(index_rows)\n"
   ]
  },
  {
   "cell_type": "code",
   "execution_count": 48,
   "metadata": {},
   "outputs": [],
   "source": [
    "# Replace values of 'T' with 0.0001 to represent a value other than 0 or False\n",
    "# A measurement of precipitation was detected, but not provided\n",
    "clean_weather_data['precipitation'] = clean_weather_data['precipitation'].replace('T', 0.0001)\n"
   ]
  },
  {
   "cell_type": "code",
   "execution_count": 49,
   "metadata": {},
   "outputs": [],
   "source": [
    "# Change date values from object to datetime\n",
    "clean_weather_data['date'] = pd.to_datetime(clean_weather_data['date'])\n"
   ]
  },
  {
   "cell_type": "code",
   "execution_count": 50,
   "metadata": {},
   "outputs": [],
   "source": [
    "# Change precipitation values from object to type float\n",
    "clean_weather_data['precipitation'] = clean_weather_data['precipitation'].astype(float)\n",
    "# Change average_temperature values from object to type float\n",
    "clean_weather_data['average_temperature'] = clean_weather_data['average_temperature'].astype(float)\n"
   ]
  },
  {
   "cell_type": "code",
   "execution_count": 51,
   "metadata": {},
   "outputs": [
    {
     "output_type": "execute_result",
     "data": {
      "text/plain": [
       "            precipitation  average_temperature\n",
       "date                                          \n",
       "2000-10-26         0.0001                 62.0\n",
       "2000-10-27         0.0000                 54.5\n",
       "2000-10-28         0.0001                 56.5\n",
       "2000-10-29         0.6800                 56.5\n",
       "2000-10-30         0.0000                 60.0"
      ],
      "text/html": "<div>\n<style scoped>\n    .dataframe tbody tr th:only-of-type {\n        vertical-align: middle;\n    }\n\n    .dataframe tbody tr th {\n        vertical-align: top;\n    }\n\n    .dataframe thead th {\n        text-align: right;\n    }\n</style>\n<table border=\"1\" class=\"dataframe\">\n  <thead>\n    <tr style=\"text-align: right;\">\n      <th></th>\n      <th>precipitation</th>\n      <th>average_temperature</th>\n    </tr>\n    <tr>\n      <th>date</th>\n      <th></th>\n      <th></th>\n    </tr>\n  </thead>\n  <tbody>\n    <tr>\n      <th>2000-10-26</th>\n      <td>0.0001</td>\n      <td>62.0</td>\n    </tr>\n    <tr>\n      <th>2000-10-27</th>\n      <td>0.0000</td>\n      <td>54.5</td>\n    </tr>\n    <tr>\n      <th>2000-10-28</th>\n      <td>0.0001</td>\n      <td>56.5</td>\n    </tr>\n    <tr>\n      <th>2000-10-29</th>\n      <td>0.6800</td>\n      <td>56.5</td>\n    </tr>\n    <tr>\n      <th>2000-10-30</th>\n      <td>0.0000</td>\n      <td>60.0</td>\n    </tr>\n  </tbody>\n</table>\n</div>"
     },
     "metadata": {},
     "execution_count": 51
    }
   ],
   "source": [
    "# Set index to date and view clean dataframe\n",
    "clean_weather_data.set_index('date', inplace=True)\n",
    "clean_weather_data.head()\n"
   ]
  },
  {
   "cell_type": "code",
   "execution_count": 52,
   "metadata": {},
   "outputs": [],
   "source": [
    "def get_precipitation_and_average_temperature(station_id='KOMA', start_date='20001026', end_date='20201026'):\n",
    "    # API URL string\n",
    "    rcc_url = f'http://data.rcc-acis.org/StnData?sid={station_id}&sdate={start_date}&edate={end_date}&meta=name&elems=pcpn,avgt&output=json'\n",
    "    # Fetch current data\n",
    "    response_data = requests.get(rcc_url)\n",
    "    # Accept json format\n",
    "    data = response_data.json()\n",
    "    # Create dataframe\n",
    "    weather_data =  pd.DataFrame(data['data'])\n",
    "\n",
    "    # Create column headings and assign\n",
    "    weather_data.columns = ['date', 'precipitation', 'average_temperature']\n",
    "\n",
    "    # Drop rows with values of 'M'\n",
    "    index_rows = weather_data[weather_data.average_temperature == 'M'].index\n",
    "    clean_weather_data = weather_data.drop(index_rows)\n",
    "    # Replace values of 'T' with 0.0001 to represent a value other than 0 or False\n",
    "    # A measurement of precipitation was detected, but not provided\n",
    "    clean_weather_data['precipitation'] = clean_weather_data['precipitation'].replace('T', 0.0001)\n",
    "\n",
    "    # Change date values from object to datetime\n",
    "    clean_weather_data['date'] = pd.to_datetime(clean_weather_data['date'])\n",
    "    # Change precipitation values from object to type float\n",
    "    clean_weather_data['precipitation'] = clean_weather_data['precipitation'].astype(float)\n",
    "    # Change average_temperature values from object to type float\n",
    "    clean_weather_data['average_temperature'] = clean_weather_data['average_temperature'].astype(float)\n",
    "\n",
    "    # Set date index\n",
    "    clean_weather_data.set_index('date', inplace=True)\n",
    "\n",
    "    # Return clean weather data\n",
    "    return clean_weather_data\n"
   ]
  },
  {
   "cell_type": "code",
   "execution_count": 53,
   "metadata": {},
   "outputs": [
    {
     "output_type": "execute_result",
     "data": {
      "text/plain": [
       "            precipitation  average_temperature\n",
       "date                                          \n",
       "2020-10-15         0.0000                 47.5\n",
       "2020-10-16         0.0000                 46.5\n",
       "2020-10-17         0.0001                 56.0\n",
       "2020-10-18         0.2300                 38.5\n",
       "2020-10-19         0.0100                 40.0"
      ],
      "text/html": "<div>\n<style scoped>\n    .dataframe tbody tr th:only-of-type {\n        vertical-align: middle;\n    }\n\n    .dataframe tbody tr th {\n        vertical-align: top;\n    }\n\n    .dataframe thead th {\n        text-align: right;\n    }\n</style>\n<table border=\"1\" class=\"dataframe\">\n  <thead>\n    <tr style=\"text-align: right;\">\n      <th></th>\n      <th>precipitation</th>\n      <th>average_temperature</th>\n    </tr>\n    <tr>\n      <th>date</th>\n      <th></th>\n      <th></th>\n    </tr>\n  </thead>\n  <tbody>\n    <tr>\n      <th>2020-10-15</th>\n      <td>0.0000</td>\n      <td>47.5</td>\n    </tr>\n    <tr>\n      <th>2020-10-16</th>\n      <td>0.0000</td>\n      <td>46.5</td>\n    </tr>\n    <tr>\n      <th>2020-10-17</th>\n      <td>0.0001</td>\n      <td>56.0</td>\n    </tr>\n    <tr>\n      <th>2020-10-18</th>\n      <td>0.2300</td>\n      <td>38.5</td>\n    </tr>\n    <tr>\n      <th>2020-10-19</th>\n      <td>0.0100</td>\n      <td>40.0</td>\n    </tr>\n  </tbody>\n</table>\n</div>"
     },
     "metadata": {},
     "execution_count": 53
    }
   ],
   "source": [
    "# Testing weather function above\n",
    "df = get_precipitation_and_average_temperature('KOMA', 20201015, 20201028)\n",
    "df.head()\n"
   ]
  },
  {
   "cell_type": "code",
   "execution_count": 54,
   "metadata": {},
   "outputs": [
    {
     "output_type": "execute_result",
     "data": {
      "text/plain": [
       "            precipitation  average_temperature\n",
       "date                                          \n",
       "2000-10-26         0.0001                 62.0\n",
       "2000-10-27         0.0000                 54.5\n",
       "2000-10-28         0.0001                 56.5\n",
       "2000-10-29         0.6800                 56.5\n",
       "2000-10-30         0.0000                 60.0"
      ],
      "text/html": "<div>\n<style scoped>\n    .dataframe tbody tr th:only-of-type {\n        vertical-align: middle;\n    }\n\n    .dataframe tbody tr th {\n        vertical-align: top;\n    }\n\n    .dataframe thead th {\n        text-align: right;\n    }\n</style>\n<table border=\"1\" class=\"dataframe\">\n  <thead>\n    <tr style=\"text-align: right;\">\n      <th></th>\n      <th>precipitation</th>\n      <th>average_temperature</th>\n    </tr>\n    <tr>\n      <th>date</th>\n      <th></th>\n      <th></th>\n    </tr>\n  </thead>\n  <tbody>\n    <tr>\n      <th>2000-10-26</th>\n      <td>0.0001</td>\n      <td>62.0</td>\n    </tr>\n    <tr>\n      <th>2000-10-27</th>\n      <td>0.0000</td>\n      <td>54.5</td>\n    </tr>\n    <tr>\n      <th>2000-10-28</th>\n      <td>0.0001</td>\n      <td>56.5</td>\n    </tr>\n    <tr>\n      <th>2000-10-29</th>\n      <td>0.6800</td>\n      <td>56.5</td>\n    </tr>\n    <tr>\n      <th>2000-10-30</th>\n      <td>0.0000</td>\n      <td>60.0</td>\n    </tr>\n  </tbody>\n</table>\n</div>"
     },
     "metadata": {},
     "execution_count": 54
    }
   ],
   "source": [
    "# Testing weather library and method  \n",
    "returned_data = weather.get_precipitation_and_average_temperature()\n",
    "returned_data.head()\n"
   ]
  },
  {
   "cell_type": "code",
   "execution_count": 59,
   "metadata": {},
   "outputs": [],
   "source": [
    "# Build dataframe of three stations, 'KOMA', 'KCDR', 'KMCK'\n",
    "df = weather.get_precipitation_and_average_temperature('KOMA', '20201020', '20201028')\n",
    "df2 = weather.get_precipitation_and_average_temperature('KCDR', '20201020', '20201028')\n",
    "df3 = weather.get_precipitation_and_average_temperature('KMCK', '20201020', '20201028')\n"
   ]
  },
  {
   "cell_type": "code",
   "execution_count": 62,
   "metadata": {},
   "outputs": [
    {
     "output_type": "stream",
     "name": "stdout",
     "text": [
      "            precipitation  average_temperature\ndate                                          \n2020-10-20       0.006700            44.166667\n2020-10-21       0.006700            42.500000\n2020-10-22       0.026733            36.000000\n2020-10-23       0.000033            29.000000\n2020-10-24       0.000033            28.333333\n2020-10-25       0.023400            22.333333\n2020-10-26       0.043333            16.000000\n2020-10-27       0.000000            21.833333\n2020-10-28       0.000000            37.666667\n"
     ]
    }
   ],
   "source": [
    "# Average the precipitations and temperatures\n",
    "print((df + df2 + df3) / 3)\n"
   ]
  },
  {
   "cell_type": "code",
   "execution_count": null,
   "metadata": {},
   "outputs": [],
   "source": []
  }
 ]
}