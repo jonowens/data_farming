{
 "metadata": {
  "language_info": {
   "codemirror_mode": {
    "name": "ipython",
    "version": 3
   },
   "file_extension": ".py",
   "mimetype": "text/x-python",
   "name": "python",
   "nbconvert_exporter": "python",
   "pygments_lexer": "ipython3",
   "version": "3.7.7-final"
  },
  "orig_nbformat": 2,
  "kernelspec": {
   "name": "Python 3.7.7 64-bit ('pyviz_copg2_env': conda)",
   "display_name": "Python 3.7.7 64-bit ('pyviz_copg2_env': conda)",
   "metadata": {
    "interpreter": {
     "hash": "9bd8d1b8a38cb3e6840cff2e12834576abca59a175543eeefd1686e6b6961910"
    }
   }
  }
 },
 "nbformat": 4,
 "nbformat_minor": 2,
 "cells": [
  {
   "cell_type": "code",
   "execution_count": 2,
   "metadata": {},
   "outputs": [],
   "source": [
    "import pandas as pd\n",
    "import calendar\n",
    "import plotly.express as px\n",
    "import hvplot.pandas\n",
    "from sqlalchemy import create_engine\n",
    "import seaborn as sns\n",
    "import csv\n",
    "from pathlib import Path\n",
    "import matplotlib.pyplot as plt\n",
    "from datetime import datetime\n",
    "\n",
    "import os\n",
    "import psycopg2\n",
    "from dotenv import load_dotenv\n",
    "#from .data.libs.utilit_func import my_sql_temp"
   ]
  },
  {
   "cell_type": "code",
   "execution_count": 3,
   "metadata": {},
   "outputs": [
    {
     "output_type": "execute_result",
     "data": {
      "text/plain": [
       "True"
      ]
     },
     "metadata": {},
     "execution_count": 3
    }
   ],
   "source": [
    "# Load .env enviroment variables\n",
    "load_dotenv()"
   ]
  },
  {
   "cell_type": "code",
   "execution_count": 4,
   "metadata": {},
   "outputs": [],
   "source": [
    "def my_sql_temp (year, df):\n",
    "    select_year = df.loc[df['year']==year]\n",
    "    #print (year)\n",
    "    # rename row months from numeric to alphabetic\n",
    "    select_year['month'] = select_year['month'].replace([1],'jan')\n",
    "    select_year['month'] = select_year['month'].replace([2],'feb')\n",
    "    select_year['month'] = select_year['month'].replace([3],'mar')\n",
    "    select_year['month'] = select_year['month'].replace([4],'apr')\n",
    "    select_year['month'] = select_year['month'].replace([5],'may')\n",
    "    select_year['month'] = select_year['month'].replace([6],'jun')\n",
    "    select_year['month'] = select_year['month'].replace([7],'jul')\n",
    "    select_year['month'] = select_year['month'].replace([8],'aug')\n",
    "    select_year['month'] = select_year['month'].replace([9],'sep')\n",
    "    select_year['month'] = select_year['month'].replace([10],'oct')\n",
    "    select_year['month'] = select_year['month'].replace([11],'nov')\n",
    "    select_year['month'] = select_year['month'].replace([12],'dec')\n",
    "    select_year.rename(columns={'average_temperature': f'{year}'}, inplace=True)\n",
    "    #new_data_year = select_year.drop(columns='year')\n",
    "    select_year.drop(columns='year',inplace = True)\n",
    "    #print (new_data_year)\n",
    "    #print (select_year)\n",
    "    transposed_df = select_year.transpose()\n",
    "    transposed_df.reset_index(inplace=True)\n",
    "    transposed_df['index'] = transposed_df['index'].replace(['month'],'year')\n",
    "    transposed_df.columns = transposed_df.iloc[0]\n",
    "    transposed_df.drop(index=0, inplace=True)\n",
    "    new_df = pd.DataFrame(transposed_df)\n",
    "    return (new_df)\n"
   ]
  },
  {
   "cell_type": "code",
   "execution_count": 6,
   "metadata": {},
   "outputs": [],
   "source": [
    "# Upload temperature for each state\n",
    "\"\"\"\n",
    "1) get the clean csv data\n",
    "\"\"\"\n",
    "list_to_extract = ['NE','IA','IL']\n",
    "year_ini = 2001\n",
    "year_end = 2020\n",
    "name_database = \"crop_prod_db\"\n",
    "\n",
    "for int in list_to_extract:\n",
    "    state_ini = int\n",
    "\n",
    "    path_temp = Path (f'../data/clean_data/{state_ini}_weather_data_clean.csv')\n",
    "    csv_data = pd.read_csv(path_temp)\n",
    "    df =pd.DataFrame(data=csv_data)\n",
    "    type(df['date'])\n",
    "    df.dtypes\n",
    "    df['date'] = pd.to_datetime(df['date'])\n",
    "    df.dtypes # this is to identify the type of variable that column \"date\" is\n",
    "    \n",
    "    df['day'] = df['date'].dt.day\n",
    "    df['month'] =df['date'].dt.month\n",
    "    df['year'] = df['date'].dt.year\n",
    "    monthly_temp_precp = df.groupby(['year','month']).mean().round(decimals = 5)\n",
    "    monthly_temp_precp.drop(columns='day', inplace = True)\n",
    "    monthly_temp = monthly_temp_precp.drop(columns='average_temperature')\n",
    "    monthly_temp.reset_index(inplace=True)\n",
    "    monthly_temp\n",
    "    \n",
    "    df = monthly_temp\n",
    "    state_dt_to_table = state_ini\n",
    "\n",
    "\n",
    "    my_postgres_userid = os.getenv(\"POSTGRES_USER_ID\")\n",
    "    my_postgres_password = os.getenv(\"POSTGRES_PASSWORD\")\n",
    "    dbsession2 = psycopg2.connect(database = name_database, user= my_postgres_userid, password = my_postgres_password)\n",
    "    dbcursor = dbsession2.cursor()\n",
    "    dbsession2.autocommit = True\n",
    "    \n",
    "    for int in range (year_ini,year_end):\n",
    "        my_df_a = my_sql_temp (int,df)\n",
    "        pd.DataFrame(my_df_a)\n",
    "        my_df = my_df_a.set_index('year')\n",
    "        type(my_df)\n",
    "        jan_temp = my_df.iloc[0]['jan']\n",
    "        feb_temp = my_df.iloc[0]['feb']\n",
    "        mar_temp = my_df.iloc[0]['mar']\n",
    "        apr_temp = my_df.iloc[0]['apr']\n",
    "        may_temp = my_df.iloc[0]['may']\n",
    "        jun_temp = my_df.iloc[0]['jun']\n",
    "        jul_temp = my_df.iloc[0]['jul']\n",
    "        aug_temp = my_df.iloc[0]['aug']\n",
    "        sep_temp = my_df.iloc[0]['sep']\n",
    "        oct_temp = my_df.iloc[0]['oct']\n",
    "        nov_temp = my_df.iloc[0]['nov']\n",
    "        dec_temp = my_df.iloc[0]['dec']\n",
    "        state_temp_to_upload = state_dt_to_table \n",
    "\n",
    "        if state_temp_to_upload == 'NE' :\n",
    "            state_id = 1\n",
    "        elif state_temp_to_upload == 'IA' :\n",
    "            state_id = 2\n",
    "        elif state_temp_to_upload == 'IL':\n",
    "            state_id = 3\n",
    "        else :\n",
    "            state_id = 100\n",
    "        \n",
    "        insert_query = \"\"\"\n",
    "\n",
    "        INSERT INTO precipitations\n",
    "        (state_id, year, jan, feb,mar,apr,may,jun,jul,ago, sep, oct, nov,dec )\n",
    "        VALUES\n",
    "        (\"\"\" +str(state_id)+\"\"\",\"\"\" + str(int)+\"\"\", \"\"\" +str(jan_temp)+\"\"\",\"\"\"+str(feb_temp)+\"\"\",\"\"\" +str(mar_temp)+\"\"\",\"\"\"+str(apr_temp)+\"\"\",\"\"\"+str(may_temp)+\"\"\",\"\"\"             +str      (jun_temp)+\"\"\",\"\"\"+str(jul_temp)+\"\"\",\"\"\"+str(aug_temp)+\"\"\",\"\"\"+str(sep_temp)+\"\"\",\"\"\"+str(oct_temp)+\"\"\",\"\"\"+str(nov_temp)+\"\"\",\"\"\"+str(dec_temp)+\"\"\");\n",
    "        \"\"\"\n",
    "    \n",
    "        dbcursor.execute(insert_query)\n",
    "\n",
    "dbsession2.close()\n",
    "\n",
    "\n",
    "\n"
   ]
  },
  {
   "cell_type": "code",
   "execution_count": null,
   "metadata": {},
   "outputs": [],
   "source": []
  }
 ]
}