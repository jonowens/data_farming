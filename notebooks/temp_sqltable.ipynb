{
 "metadata": {
  "language_info": {
   "codemirror_mode": {
    "name": "ipython",
    "version": 3
   },
   "file_extension": ".py",
   "mimetype": "text/x-python",
   "name": "python",
   "nbconvert_exporter": "python",
   "pygments_lexer": "ipython3",
   "version": "3.7.7-final"
  },
  "orig_nbformat": 2,
  "kernelspec": {
   "name": "Python 3.7.7 64-bit ('pyviz_copg2_env': conda)",
   "display_name": "Python 3.7.7 64-bit ('pyviz_copg2_env': conda)",
   "metadata": {
    "interpreter": {
     "hash": "9bd8d1b8a38cb3e6840cff2e12834576abca59a175543eeefd1686e6b6961910"
    }
   }
  }
 },
 "nbformat": 4,
 "nbformat_minor": 2,
 "cells": [
  {
   "cell_type": "code",
   "execution_count": 27,
   "metadata": {},
   "outputs": [],
   "source": [
    "import pandas as pd\n",
    "import calendar\n",
    "import plotly.express as px\n",
    "import hvplot.pandas\n",
    "from sqlalchemy import create_engine\n",
    "import seaborn as sns\n",
    "import csv\n",
    "from pathlib import Path\n",
    "import matplotlib.pyplot as plt\n",
    "from datetime import datetime\n",
    "\n",
    "import os\n",
    "import psycopg2\n",
    "from dotenv import load_dotenv"
   ]
  },
  {
   "cell_type": "code",
   "execution_count": 28,
   "metadata": {},
   "outputs": [
    {
     "output_type": "execute_result",
     "data": {
      "text/plain": [
       "True"
      ]
     },
     "metadata": {},
     "execution_count": 28
    }
   ],
   "source": [
    "# Load .env enviroment variables\n",
    "load_dotenv()"
   ]
  },
  {
   "cell_type": "code",
   "execution_count": 36,
   "metadata": {},
   "outputs": [
    {
     "output_type": "execute_result",
     "data": {
      "text/plain": [
       "        date  precipitation  average_temperature\n",
       "0 2000-10-26         0.0567                 69.5\n",
       "1 2000-10-27         0.0000                 63.2\n",
       "2 2000-10-28         0.0000                 51.2\n",
       "3 2000-10-29         0.0000                 49.0\n",
       "4 2000-10-30         0.0000                 54.3"
      ],
      "text/html": "<div>\n<style scoped>\n    .dataframe tbody tr th:only-of-type {\n        vertical-align: middle;\n    }\n\n    .dataframe tbody tr th {\n        vertical-align: top;\n    }\n\n    .dataframe thead th {\n        text-align: right;\n    }\n</style>\n<table border=\"1\" class=\"dataframe\">\n  <thead>\n    <tr style=\"text-align: right;\">\n      <th></th>\n      <th>date</th>\n      <th>precipitation</th>\n      <th>average_temperature</th>\n    </tr>\n  </thead>\n  <tbody>\n    <tr>\n      <th>0</th>\n      <td>2000-10-26</td>\n      <td>0.0567</td>\n      <td>69.5</td>\n    </tr>\n    <tr>\n      <th>1</th>\n      <td>2000-10-27</td>\n      <td>0.0000</td>\n      <td>63.2</td>\n    </tr>\n    <tr>\n      <th>2</th>\n      <td>2000-10-28</td>\n      <td>0.0000</td>\n      <td>51.2</td>\n    </tr>\n    <tr>\n      <th>3</th>\n      <td>2000-10-29</td>\n      <td>0.0000</td>\n      <td>49.0</td>\n    </tr>\n    <tr>\n      <th>4</th>\n      <td>2000-10-30</td>\n      <td>0.0000</td>\n      <td>54.3</td>\n    </tr>\n  </tbody>\n</table>\n</div>"
     },
     "metadata": {},
     "execution_count": 36
    }
   ],
   "source": [
    "# Upload temperature for each state\n",
    "\"\"\"\n",
    "1) get the clean csv data\n",
    "\"\"\"\n",
    "state_ini = 'IL'\n",
    "path_temp = Path (f'../data/clean_data/{state_ini}_weather_data_clean.csv')\n",
    "csv_data = pd.read_csv(path_temp)\n",
    "df =pd.DataFrame(data=csv_data)\n",
    "type(df['date'])\n",
    "df.dtypes\n",
    "df['date'] = pd.to_datetime(df['date'])\n",
    "df.dtypes # this is to identify the type of variable that column \"date\" is\n",
    "df.head()"
   ]
  },
  {
   "cell_type": "code",
   "execution_count": 37,
   "metadata": {},
   "outputs": [
    {
     "output_type": "execute_result",
     "data": {
      "text/plain": [
       "        date  precipitation  average_temperature  day  month  year\n",
       "0 2000-10-26         0.0567                 69.5   26     10  2000\n",
       "1 2000-10-27         0.0000                 63.2   27     10  2000\n",
       "2 2000-10-28         0.0000                 51.2   28     10  2000\n",
       "3 2000-10-29         0.0000                 49.0   29     10  2000\n",
       "4 2000-10-30         0.0000                 54.3   30     10  2000"
      ],
      "text/html": "<div>\n<style scoped>\n    .dataframe tbody tr th:only-of-type {\n        vertical-align: middle;\n    }\n\n    .dataframe tbody tr th {\n        vertical-align: top;\n    }\n\n    .dataframe thead th {\n        text-align: right;\n    }\n</style>\n<table border=\"1\" class=\"dataframe\">\n  <thead>\n    <tr style=\"text-align: right;\">\n      <th></th>\n      <th>date</th>\n      <th>precipitation</th>\n      <th>average_temperature</th>\n      <th>day</th>\n      <th>month</th>\n      <th>year</th>\n    </tr>\n  </thead>\n  <tbody>\n    <tr>\n      <th>0</th>\n      <td>2000-10-26</td>\n      <td>0.0567</td>\n      <td>69.5</td>\n      <td>26</td>\n      <td>10</td>\n      <td>2000</td>\n    </tr>\n    <tr>\n      <th>1</th>\n      <td>2000-10-27</td>\n      <td>0.0000</td>\n      <td>63.2</td>\n      <td>27</td>\n      <td>10</td>\n      <td>2000</td>\n    </tr>\n    <tr>\n      <th>2</th>\n      <td>2000-10-28</td>\n      <td>0.0000</td>\n      <td>51.2</td>\n      <td>28</td>\n      <td>10</td>\n      <td>2000</td>\n    </tr>\n    <tr>\n      <th>3</th>\n      <td>2000-10-29</td>\n      <td>0.0000</td>\n      <td>49.0</td>\n      <td>29</td>\n      <td>10</td>\n      <td>2000</td>\n    </tr>\n    <tr>\n      <th>4</th>\n      <td>2000-10-30</td>\n      <td>0.0000</td>\n      <td>54.3</td>\n      <td>30</td>\n      <td>10</td>\n      <td>2000</td>\n    </tr>\n  </tbody>\n</table>\n</div>"
     },
     "metadata": {},
     "execution_count": 37
    }
   ],
   "source": [
    "# This is to split the date into month,day and year\n",
    "df['day'] = df['date'].dt.day\n",
    "df['month'] =df['date'].dt.month\n",
    "df['year'] = df['date'].dt.year\n",
    "df.head()"
   ]
  },
  {
   "cell_type": "code",
   "execution_count": 38,
   "metadata": {},
   "outputs": [
    {
     "output_type": "execute_result",
     "data": {
      "text/plain": [
       "            precipitation  average_temperature\n",
       "year month                                    \n",
       "2000 10              0.01                57.98\n",
       "     11              0.09                38.08\n",
       "     12              0.06                17.57\n",
       "2001 1               0.05                25.57\n",
       "     2               0.10                28.48"
      ],
      "text/html": "<div>\n<style scoped>\n    .dataframe tbody tr th:only-of-type {\n        vertical-align: middle;\n    }\n\n    .dataframe tbody tr th {\n        vertical-align: top;\n    }\n\n    .dataframe thead th {\n        text-align: right;\n    }\n</style>\n<table border=\"1\" class=\"dataframe\">\n  <thead>\n    <tr style=\"text-align: right;\">\n      <th></th>\n      <th></th>\n      <th>precipitation</th>\n      <th>average_temperature</th>\n    </tr>\n    <tr>\n      <th>year</th>\n      <th>month</th>\n      <th></th>\n      <th></th>\n    </tr>\n  </thead>\n  <tbody>\n    <tr>\n      <th rowspan=\"3\" valign=\"top\">2000</th>\n      <th>10</th>\n      <td>0.01</td>\n      <td>57.98</td>\n    </tr>\n    <tr>\n      <th>11</th>\n      <td>0.09</td>\n      <td>38.08</td>\n    </tr>\n    <tr>\n      <th>12</th>\n      <td>0.06</td>\n      <td>17.57</td>\n    </tr>\n    <tr>\n      <th rowspan=\"2\" valign=\"top\">2001</th>\n      <th>1</th>\n      <td>0.05</td>\n      <td>25.57</td>\n    </tr>\n    <tr>\n      <th>2</th>\n      <td>0.10</td>\n      <td>28.48</td>\n    </tr>\n  </tbody>\n</table>\n</div>"
     },
     "metadata": {},
     "execution_count": 38
    }
   ],
   "source": [
    "# This is to group the data by month\n",
    "monthly_temp_precp = df.groupby(['year','month']).mean().round(decimals = 2)\n",
    "monthly_temp_precp.drop(columns='day', inplace = True)\n",
    "monthly_temp_precp.head()"
   ]
  },
  {
   "cell_type": "code",
   "execution_count": 39,
   "metadata": {},
   "outputs": [
    {
     "output_type": "execute_result",
     "data": {
      "text/plain": [
       "   year  month  average_temperature\n",
       "0  2000     10                57.98\n",
       "1  2000     11                38.08\n",
       "2  2000     12                17.57\n",
       "3  2001      1                25.57\n",
       "4  2001      2                28.48"
      ],
      "text/html": "<div>\n<style scoped>\n    .dataframe tbody tr th:only-of-type {\n        vertical-align: middle;\n    }\n\n    .dataframe tbody tr th {\n        vertical-align: top;\n    }\n\n    .dataframe thead th {\n        text-align: right;\n    }\n</style>\n<table border=\"1\" class=\"dataframe\">\n  <thead>\n    <tr style=\"text-align: right;\">\n      <th></th>\n      <th>year</th>\n      <th>month</th>\n      <th>average_temperature</th>\n    </tr>\n  </thead>\n  <tbody>\n    <tr>\n      <th>0</th>\n      <td>2000</td>\n      <td>10</td>\n      <td>57.98</td>\n    </tr>\n    <tr>\n      <th>1</th>\n      <td>2000</td>\n      <td>11</td>\n      <td>38.08</td>\n    </tr>\n    <tr>\n      <th>2</th>\n      <td>2000</td>\n      <td>12</td>\n      <td>17.57</td>\n    </tr>\n    <tr>\n      <th>3</th>\n      <td>2001</td>\n      <td>1</td>\n      <td>25.57</td>\n    </tr>\n    <tr>\n      <th>4</th>\n      <td>2001</td>\n      <td>2</td>\n      <td>28.48</td>\n    </tr>\n  </tbody>\n</table>\n</div>"
     },
     "metadata": {},
     "execution_count": 39
    }
   ],
   "source": [
    "\"\"\"\n",
    "This section is to export the temperature data\n",
    "month by month into an sql database, so that it can be easily\n",
    "manipulated and selectively extracted\n",
    "\n",
    "\"\"\"\n",
    "# step 1 = select only temperature column\n",
    "monthly_temp = monthly_temp_precp.drop(columns='precipitation')\n",
    "monthly_temp.reset_index(inplace=True)\n",
    "\n",
    "monthly_temp.head()"
   ]
  },
  {
   "cell_type": "code",
   "execution_count": 40,
   "metadata": {},
   "outputs": [],
   "source": [
    "def my_sql_temp (year, df):\n",
    "    select_year = df.loc[df['year']==year]\n",
    "    #print (year)\n",
    "    # rename row months from numeric to alphabetic\n",
    "    select_year['month'] = select_year['month'].replace([1],'jan')\n",
    "    select_year['month'] = select_year['month'].replace([2],'feb')\n",
    "    select_year['month'] = select_year['month'].replace([3],'mar')\n",
    "    select_year['month'] = select_year['month'].replace([4],'apr')\n",
    "    select_year['month'] = select_year['month'].replace([5],'may')\n",
    "    select_year['month'] = select_year['month'].replace([6],'jun')\n",
    "    select_year['month'] = select_year['month'].replace([7],'jul')\n",
    "    select_year['month'] = select_year['month'].replace([8],'aug')\n",
    "    select_year['month'] = select_year['month'].replace([9],'sep')\n",
    "    select_year['month'] = select_year['month'].replace([10],'oct')\n",
    "    select_year['month'] = select_year['month'].replace([11],'nov')\n",
    "    select_year['month'] = select_year['month'].replace([12],'dec')\n",
    "    select_year.rename(columns={'average_temperature': f'{year}'}, inplace=True)\n",
    "    #new_data_year = select_year.drop(columns='year')\n",
    "    select_year.drop(columns='year',inplace = True)\n",
    "    #print (new_data_year)\n",
    "    #print (select_year)\n",
    "    transposed_df = select_year.transpose()\n",
    "    transposed_df.reset_index(inplace=True)\n",
    "    transposed_df['index'] = transposed_df['index'].replace(['month'],'year')\n",
    "    transposed_df.columns = transposed_df.iloc[0]\n",
    "    transposed_df.drop(index=0, inplace=True)\n",
    "    new_df = pd.DataFrame(transposed_df)\n",
    "    return (new_df)\n"
   ]
  },
  {
   "cell_type": "code",
   "execution_count": 41,
   "metadata": {},
   "outputs": [],
   "source": [
    "year_ini = 2001\n",
    "year_end = 2020\n",
    "df = monthly_temp\n",
    "state_dt_to_table = state_ini\n",
    "name_database = \"crop_prod_db\"\n",
    "\n",
    "my_postgres_userid = os.getenv(\"POSTGRES_USER_ID\")\n",
    "my_postgres_password = os.getenv(\"POSTGRES_PASSWORD\")\n",
    "dbsession2 = psycopg2.connect(database = name_database, user= my_postgres_userid, password = my_postgres_password)\n",
    "dbcursor = dbsession2.cursor()\n",
    "dbsession2.autocommit = True"
   ]
  },
  {
   "cell_type": "code",
   "execution_count": 42,
   "metadata": {},
   "outputs": [],
   "source": [
    "for int in range (year_ini,year_end):\n",
    "    my_df_a = my_sql_temp (int,df)\n",
    "    pd.DataFrame(my_df_a)\n",
    "    my_df = my_df_a.set_index('year')\n",
    "    type(my_df)\n",
    "    jan_temp = my_df.iloc[0]['jan']\n",
    "    feb_temp = my_df.iloc[0]['feb']\n",
    "    mar_temp = my_df.iloc[0]['mar']\n",
    "    apr_temp = my_df.iloc[0]['apr']\n",
    "    may_temp = my_df.iloc[0]['may']\n",
    "    jun_temp = my_df.iloc[0]['jun']\n",
    "    jul_temp = my_df.iloc[0]['jul']\n",
    "    aug_temp = my_df.iloc[0]['aug']\n",
    "    sep_temp = my_df.iloc[0]['sep']\n",
    "    oct_temp = my_df.iloc[0]['oct']\n",
    "    nov_temp = my_df.iloc[0]['nov']\n",
    "    dec_temp = my_df.iloc[0]['dec']\n",
    "    state_temp_to_upload = state_dt_to_table \n",
    "\n",
    "    if state_temp_to_upload == 'NE' :\n",
    "        state_id = 1\n",
    "    elif state_temp_to_upload == 'IA' :\n",
    "        state_id = 2\n",
    "    elif state_temp_to_upload == 'IL':\n",
    "        state_id = 3\n",
    "    else :\n",
    "        state_id = 100\n",
    "    \n",
    "    insert_query = \"\"\"\n",
    "\n",
    "    INSERT INTO temperatures\n",
    "    (state_id, year, jan, feb,mar,apr,may,jun,jul,ago, sep, oct, nov,dec )\n",
    "    VALUES\n",
    "    (\"\"\" +str(state_id)+\"\"\",\"\"\" + str(int)+\"\"\", \"\"\" +str(jan_temp)+\"\"\",\"\"\"+str(feb_temp)+\"\"\",\"\"\" +str(mar_temp)+\"\"\",\"\"\"+str(apr_temp)+\"\"\",\"\"\"+str(may_temp)+\"\"\",\"\"\"+str      (jun_temp)+\"\"\",\"\"\"+str(jul_temp)+\"\"\",\"\"\"+str(aug_temp)+\"\"\",\"\"\"+str(sep_temp)+\"\"\",\"\"\"+str(oct_temp)+\"\"\",\"\"\"+str(nov_temp)+\"\"\",\"\"\"+str(dec_temp)+\"\"\");\n",
    "    \"\"\"\n",
    "    \n",
    "    dbcursor.execute(insert_query)\n",
    "\n",
    "dbsession2.close()"
   ]
  },
  {
   "cell_type": "code",
   "execution_count": null,
   "metadata": {},
   "outputs": [],
   "source": []
  }
 ]
}